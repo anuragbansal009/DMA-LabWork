{
 "cells": [
  {
   "cell_type": "markdown",
   "id": "0d6a78ef",
   "metadata": {
    "papermill": {
     "duration": 0.024202,
     "end_time": "2022-04-13T14:57:44.044501",
     "exception": false,
     "start_time": "2022-04-13T14:57:44.020299",
     "status": "completed"
    },
    "tags": []
   },
   "source": [
    "# Importing Libraries"
   ]
  },
  {
   "cell_type": "code",
   "execution_count": 1,
   "id": "9a85f10d",
   "metadata": {
    "_cell_guid": "b1076dfc-b9ad-4769-8c92-a6c4dae69d19",
    "_uuid": "8f2839f25d086af736a60e9eeb907d3b93b6e0e5",
    "execution": {
     "iopub.execute_input": "2022-04-13T14:57:44.104704Z",
     "iopub.status.busy": "2022-04-13T14:57:44.099477Z",
     "iopub.status.idle": "2022-04-13T14:57:45.515410Z",
     "shell.execute_reply": "2022-04-13T14:57:45.514651Z",
     "shell.execute_reply.started": "2022-04-13T14:56:17.912885Z"
    },
    "papermill": {
     "duration": 1.448349,
     "end_time": "2022-04-13T14:57:45.515622",
     "exception": false,
     "start_time": "2022-04-13T14:57:44.067273",
     "status": "completed"
    },
    "tags": []
   },
   "outputs": [],
   "source": [
    "import numpy as np\n",
    "import matplotlib.pyplot as plt\n",
    "import pandas as pd\n",
    "import seaborn as sns\n",
    "from sklearn.preprocessing import StandardScaler\n",
    "from sklearn.model_selection import train_test_split\n",
    "from sklearn.svm import SVC\n",
    "from sklearn.metrics import accuracy_score\n",
    "from sklearn.metrics import confusion_matrix\n",
    "from sklearn.model_selection import cross_val_score\n",
    "from sklearn.model_selection import ShuffleSplit\n",
    "from matplotlib.colors import ListedColormap\n",
    "from sklearn.model_selection import RepeatedKFold\n",
    "from sklearn.model_selection import LeaveOneOut\n",
    "from sklearn.model_selection import StratifiedKFold, KFold\n",
    "from sklearn.model_selection import LeaveOneOut"
   ]
  },
  {
   "cell_type": "markdown",
   "id": "49960955",
   "metadata": {
    "papermill": {
     "duration": 0.022064,
     "end_time": "2022-04-13T14:57:45.561030",
     "exception": false,
     "start_time": "2022-04-13T14:57:45.538966",
     "status": "completed"
    },
    "tags": []
   },
   "source": [
    "# Importing Data"
   ]
  },
  {
   "cell_type": "code",
   "execution_count": 2,
   "id": "fd064717",
   "metadata": {
    "execution": {
     "iopub.execute_input": "2022-04-13T14:57:45.609473Z",
     "iopub.status.busy": "2022-04-13T14:57:45.608513Z",
     "iopub.status.idle": "2022-04-13T14:57:45.632154Z",
     "shell.execute_reply": "2022-04-13T14:57:45.632724Z",
     "shell.execute_reply.started": "2022-04-13T14:56:19.158536Z"
    },
    "papermill": {
     "duration": 0.049592,
     "end_time": "2022-04-13T14:57:45.632907",
     "exception": false,
     "start_time": "2022-04-13T14:57:45.583315",
     "status": "completed"
    },
    "tags": []
   },
   "outputs": [],
   "source": [
    "dataset = pd.read_csv('../input/practical2-dataset/Practical-5/Social_Network_Ads.csv')\n",
    "X = dataset.iloc[:, [2, 3]].values\n",
    "y = dataset.iloc[:, -1].values"
   ]
  },
  {
   "cell_type": "markdown",
   "id": "0d2c8c19",
   "metadata": {
    "papermill": {
     "duration": 0.022305,
     "end_time": "2022-04-13T14:57:45.679665",
     "exception": false,
     "start_time": "2022-04-13T14:57:45.657360",
     "status": "completed"
    },
    "tags": []
   },
   "source": [
    "# Scaling"
   ]
  },
  {
   "cell_type": "code",
   "execution_count": 3,
   "id": "bc055ef2",
   "metadata": {
    "execution": {
     "iopub.execute_input": "2022-04-13T14:57:45.728258Z",
     "iopub.status.busy": "2022-04-13T14:57:45.727266Z",
     "iopub.status.idle": "2022-04-13T14:57:45.732082Z",
     "shell.execute_reply": "2022-04-13T14:57:45.732655Z",
     "shell.execute_reply.started": "2022-04-13T14:56:19.186105Z"
    },
    "papermill": {
     "duration": 0.030887,
     "end_time": "2022-04-13T14:57:45.732841",
     "exception": false,
     "start_time": "2022-04-13T14:57:45.701954",
     "status": "completed"
    },
    "tags": []
   },
   "outputs": [],
   "source": [
    "sc = StandardScaler()\n",
    "X = sc.fit_transform(X)"
   ]
  },
  {
   "cell_type": "markdown",
   "id": "7f3246fc",
   "metadata": {
    "papermill": {
     "duration": 0.021887,
     "end_time": "2022-04-13T14:57:45.777013",
     "exception": false,
     "start_time": "2022-04-13T14:57:45.755126",
     "status": "completed"
    },
    "tags": []
   },
   "source": [
    "# Test Train Split"
   ]
  },
  {
   "cell_type": "code",
   "execution_count": 4,
   "id": "ea70d7dd",
   "metadata": {
    "execution": {
     "iopub.execute_input": "2022-04-13T14:57:45.825454Z",
     "iopub.status.busy": "2022-04-13T14:57:45.824435Z",
     "iopub.status.idle": "2022-04-13T14:57:45.829703Z",
     "shell.execute_reply": "2022-04-13T14:57:45.830262Z",
     "shell.execute_reply.started": "2022-04-13T14:56:19.191803Z"
    },
    "papermill": {
     "duration": 0.03121,
     "end_time": "2022-04-13T14:57:45.830435",
     "exception": false,
     "start_time": "2022-04-13T14:57:45.799225",
     "status": "completed"
    },
    "tags": []
   },
   "outputs": [],
   "source": [
    "X_train, X_test, y_train, y_test = train_test_split(X, y, test_size = 0.25, random_state = 0)"
   ]
  },
  {
   "cell_type": "markdown",
   "id": "eb1be5e2",
   "metadata": {
    "papermill": {
     "duration": 0.021754,
     "end_time": "2022-04-13T14:57:45.874279",
     "exception": false,
     "start_time": "2022-04-13T14:57:45.852525",
     "status": "completed"
    },
    "tags": []
   },
   "source": [
    "## Kernel SVC"
   ]
  },
  {
   "cell_type": "code",
   "execution_count": 5,
   "id": "93f949fe",
   "metadata": {
    "execution": {
     "iopub.execute_input": "2022-04-13T14:57:45.924684Z",
     "iopub.status.busy": "2022-04-13T14:57:45.923629Z",
     "iopub.status.idle": "2022-04-13T14:57:45.937645Z",
     "shell.execute_reply": "2022-04-13T14:57:45.938156Z",
     "shell.execute_reply.started": "2022-04-13T14:56:19.206203Z"
    },
    "papermill": {
     "duration": 0.040548,
     "end_time": "2022-04-13T14:57:45.938338",
     "exception": false,
     "start_time": "2022-04-13T14:57:45.897790",
     "status": "completed"
    },
    "tags": []
   },
   "outputs": [
    {
     "data": {
      "text/plain": [
       "SVC(random_state=0)"
      ]
     },
     "execution_count": 5,
     "metadata": {},
     "output_type": "execute_result"
    }
   ],
   "source": [
    "classifier = SVC(kernel = 'rbf', random_state = 0)\n",
    "classifier.fit(X_train, y_train)"
   ]
  },
  {
   "cell_type": "code",
   "execution_count": 6,
   "id": "7b3d1263",
   "metadata": {
    "execution": {
     "iopub.execute_input": "2022-04-13T14:57:45.991190Z",
     "iopub.status.busy": "2022-04-13T14:57:45.990210Z",
     "iopub.status.idle": "2022-04-13T14:57:45.995739Z",
     "shell.execute_reply": "2022-04-13T14:57:45.996298Z",
     "shell.execute_reply.started": "2022-04-13T14:56:19.227159Z"
    },
    "papermill": {
     "duration": 0.03202,
     "end_time": "2022-04-13T14:57:45.996474",
     "exception": false,
     "start_time": "2022-04-13T14:57:45.964454",
     "status": "completed"
    },
    "tags": []
   },
   "outputs": [],
   "source": [
    "y_pred = classifier.predict(X_test)\n",
    "acSco = accuracy_score(y_test, y_pred)"
   ]
  },
  {
   "cell_type": "code",
   "execution_count": 7,
   "id": "b574db91",
   "metadata": {
    "execution": {
     "iopub.execute_input": "2022-04-13T14:57:46.049455Z",
     "iopub.status.busy": "2022-04-13T14:57:46.048286Z",
     "iopub.status.idle": "2022-04-13T14:57:46.315727Z",
     "shell.execute_reply": "2022-04-13T14:57:46.315170Z",
     "shell.execute_reply.started": "2022-04-13T14:56:19.233357Z"
    },
    "papermill": {
     "duration": 0.295307,
     "end_time": "2022-04-13T14:57:46.315883",
     "exception": false,
     "start_time": "2022-04-13T14:57:46.020576",
     "status": "completed"
    },
    "tags": []
   },
   "outputs": [
    {
     "data": {
      "text/plain": [
       "<AxesSubplot:>"
      ]
     },
     "execution_count": 7,
     "metadata": {},
     "output_type": "execute_result"
    },
    {
     "data": {
      "image/png": "[encoded data removed]",
      "text/plain": [
       "<Figure size 432x288 with 2 Axes>"
      ]
     },
     "metadata": {
      "needs_background": "light"
     },
     "output_type": "display_data"
    }
   ],
   "source": [
    "cm = confusion_matrix(y_test, y_pred)\n",
    "sns.heatmap(cm, annot=True)"
   ]
  },
  {
   "cell_type": "markdown",
   "id": "daf0d632",
   "metadata": {
    "papermill": {
     "duration": 0.023722,
     "end_time": "2022-04-13T14:57:46.363639",
     "exception": false,
     "start_time": "2022-04-13T14:57:46.339917",
     "status": "completed"
    },
    "tags": []
   },
   "source": [
    "### K Fold"
   ]
  },
  {
   "cell_type": "code",
   "execution_count": 8,
   "id": "7fa294f4",
   "metadata": {
    "execution": {
     "iopub.execute_input": "2022-04-13T14:57:46.418798Z",
     "iopub.status.busy": "2022-04-13T14:57:46.417890Z",
     "iopub.status.idle": "2022-04-13T14:57:46.456519Z",
     "shell.execute_reply": "2022-04-13T14:57:46.457048Z",
     "shell.execute_reply.started": "2022-04-13T14:56:19.491975Z"
    },
    "papermill": {
     "duration": 0.069592,
     "end_time": "2022-04-13T14:57:46.457258",
     "exception": false,
     "start_time": "2022-04-13T14:57:46.387666",
     "status": "completed"
    },
    "tags": []
   },
   "outputs": [
    {
     "name": "stdout",
     "output_type": "stream",
     "text": [
      "Accuracy: 90.00 %\n",
      "Standard Deviation: 6.83 %\n"
     ]
    }
   ],
   "source": [
    "accuracies = cross_val_score(estimator = classifier, X = X_train, y = y_train, cv = 10)\n",
    "\n",
    "print(\"Accuracy: {:.2f} %\".format(accuracies.mean()*100))\n",
    "print(\"Standard Deviation: {:.2f} %\".format(accuracies.std()*100))"
   ]
  },
  {
   "cell_type": "markdown",
   "id": "ffbd76e1",
   "metadata": {
    "papermill": {
     "duration": 0.023924,
     "end_time": "2022-04-13T14:57:46.505413",
     "exception": false,
     "start_time": "2022-04-13T14:57:46.481489",
     "status": "completed"
    },
    "tags": []
   },
   "source": [
    "### Repeated Fold"
   ]
  },
  {
   "cell_type": "code",
   "execution_count": 9,
   "id": "371dd3dc",
   "metadata": {
    "execution": {
     "iopub.execute_input": "2022-04-13T14:57:46.561336Z",
     "iopub.status.busy": "2022-04-13T14:57:46.560492Z",
     "iopub.status.idle": "2022-04-13T14:57:46.576390Z",
     "shell.execute_reply": "2022-04-13T14:57:46.577026Z",
     "shell.execute_reply.started": "2022-04-13T14:56:19.534762Z"
    },
    "papermill": {
     "duration": 0.047541,
     "end_time": "2022-04-13T14:57:46.577198",
     "exception": false,
     "start_time": "2022-04-13T14:57:46.529657",
     "status": "completed"
    },
    "tags": []
   },
   "outputs": [
    {
     "name": "stdout",
     "output_type": "stream",
     "text": [
      "Accuracy: 90.00 %\n",
      "Standard Deviation: 2.54 %\n"
     ]
    }
   ],
   "source": [
    "rkf = RepeatedKFold(n_splits=2, n_repeats=2, random_state=42)\n",
    "accuracies = cross_val_score(estimator = classifier, X = X_train, y = y_train, cv = rkf)\n",
    "print(\"Accuracy: {:.2f} %\".format(accuracies.mean()*100))\n",
    "print(\"Standard Deviation: {:.2f} %\".format(accuracies.std()*100))"
   ]
  },
  {
   "cell_type": "markdown",
   "id": "a1337755",
   "metadata": {
    "papermill": {
     "duration": 0.024544,
     "end_time": "2022-04-13T14:57:46.626382",
     "exception": false,
     "start_time": "2022-04-13T14:57:46.601838",
     "status": "completed"
    },
    "tags": []
   },
   "source": [
    "### Stratified Split"
   ]
  },
  {
   "cell_type": "code",
   "execution_count": 10,
   "id": "49b5b354",
   "metadata": {
    "execution": {
     "iopub.execute_input": "2022-04-13T14:57:46.685823Z",
     "iopub.status.busy": "2022-04-13T14:57:46.685112Z",
     "iopub.status.idle": "2022-04-13T14:57:46.698065Z",
     "shell.execute_reply": "2022-04-13T14:57:46.698707Z",
     "shell.execute_reply.started": "2022-04-13T14:56:19.553300Z"
    },
    "papermill": {
     "duration": 0.04578,
     "end_time": "2022-04-13T14:57:46.698883",
     "exception": false,
     "start_time": "2022-04-13T14:57:46.653103",
     "status": "completed"
    },
    "tags": []
   },
   "outputs": [
    {
     "name": "stdout",
     "output_type": "stream",
     "text": [
      "Accuracy: 90.00 %\n",
      "Standard Deviation: 3.56 %\n"
     ]
    }
   ],
   "source": [
    "skf = StratifiedKFold(n_splits=3)\n",
    "accuracies = cross_val_score(estimator = classifier, X = X_train, y = y_train, cv = skf)\n",
    "print(\"Accuracy: {:.2f} %\".format(accuracies.mean()*100))\n",
    "print(\"Standard Deviation: {:.2f} %\".format(accuracies.std()*100))"
   ]
  },
  {
   "cell_type": "markdown",
   "id": "3bd2fa61",
   "metadata": {
    "papermill": {
     "duration": 0.024855,
     "end_time": "2022-04-13T14:57:46.750016",
     "exception": false,
     "start_time": "2022-04-13T14:57:46.725161",
     "status": "completed"
    },
    "tags": []
   },
   "source": [
    "### Leave One Out"
   ]
  },
  {
   "cell_type": "code",
   "execution_count": 11,
   "id": "1629c85e",
   "metadata": {
    "execution": {
     "iopub.execute_input": "2022-04-13T14:57:46.809879Z",
     "iopub.status.busy": "2022-04-13T14:57:46.809159Z",
     "iopub.status.idle": "2022-04-13T14:57:47.838954Z",
     "shell.execute_reply": "2022-04-13T14:57:47.839784Z",
     "shell.execute_reply.started": "2022-04-13T14:56:19.569284Z"
    },
    "papermill": {
     "duration": 1.064849,
     "end_time": "2022-04-13T14:57:47.840048",
     "exception": false,
     "start_time": "2022-04-13T14:57:46.775199",
     "status": "completed"
    },
    "tags": []
   },
   "outputs": [
    {
     "name": "stdout",
     "output_type": "stream",
     "text": [
      "Accuracy: 90.33 %\n",
      "Standard Deviation: 29.55 %\n"
     ]
    }
   ],
   "source": [
    "loo = LeaveOneOut()\n",
    "accuracies = cross_val_score(estimator = classifier, X = X_train, y = y_train, cv = loo)\n",
    "print(\"Accuracy: {:.2f} %\".format(accuracies.mean()*100))\n",
    "print(\"Standard Deviation: {:.2f} %\".format(accuracies.std()*100))"
   ]
  },
  {
   "cell_type": "markdown",
   "id": "c3a91e69",
   "metadata": {
    "papermill": {
     "duration": 0.02668,
     "end_time": "2022-04-13T14:57:47.892971",
     "exception": false,
     "start_time": "2022-04-13T14:57:47.866291",
     "status": "completed"
    },
    "tags": []
   },
   "source": [
    "### K Fold"
   ]
  },
  {
   "cell_type": "code",
   "execution_count": 12,
   "id": "6bf09f23",
   "metadata": {
    "execution": {
     "iopub.execute_input": "2022-04-13T14:57:47.949984Z",
     "iopub.status.busy": "2022-04-13T14:57:47.948924Z",
     "iopub.status.idle": "2022-04-13T14:57:47.963526Z",
     "shell.execute_reply": "2022-04-13T14:57:47.962973Z",
     "shell.execute_reply.started": "2022-04-13T14:56:20.448867Z"
    },
    "papermill": {
     "duration": 0.044685,
     "end_time": "2022-04-13T14:57:47.963699",
     "exception": false,
     "start_time": "2022-04-13T14:57:47.919014",
     "status": "completed"
    },
    "tags": []
   },
   "outputs": [
    {
     "name": "stdout",
     "output_type": "stream",
     "text": [
      "Accuracy: 90.33 %\n",
      "Standard Deviation: 3.00 %\n"
     ]
    }
   ],
   "source": [
    "kf = KFold(n_splits=2)\n",
    "accuracies = cross_val_score(estimator = classifier, X = X_train, y = y_train, cv = kf)\n",
    "print(\"Accuracy: {:.2f} %\".format(accuracies.mean()*100))\n",
    "print(\"Standard Deviation: {:.2f} %\".format(accuracies.std()*100))"
   ]
  },
  {
   "cell_type": "markdown",
   "id": "1e2a4cbb",
   "metadata": {
    "papermill": {
     "duration": 0.025199,
     "end_time": "2022-04-13T14:57:48.014817",
     "exception": false,
     "start_time": "2022-04-13T14:57:47.989618",
     "status": "completed"
    },
    "tags": []
   },
   "source": [
    "### Shuffle Split"
   ]
  },
  {
   "cell_type": "code",
   "execution_count": 13,
   "id": "53d6b8fe",
   "metadata": {
    "execution": {
     "iopub.execute_input": "2022-04-13T14:57:48.077464Z",
     "iopub.status.busy": "2022-04-13T14:57:48.076377Z",
     "iopub.status.idle": "2022-04-13T14:57:48.109923Z",
     "shell.execute_reply": "2022-04-13T14:57:48.110682Z",
     "shell.execute_reply.started": "2022-04-13T14:56:20.465017Z"
    },
    "papermill": {
     "duration": 0.070064,
     "end_time": "2022-04-13T14:57:48.110936",
     "exception": false,
     "start_time": "2022-04-13T14:57:48.040872",
     "status": "completed"
    },
    "tags": []
   },
   "outputs": [
    {
     "name": "stdout",
     "output_type": "stream",
     "text": [
      "Accuracy: 89.87 %\n",
      "Standard Deviation: 5.00 %\n"
     ]
    }
   ],
   "source": [
    "cv = ShuffleSplit(n_splits=10, test_size=0.25, random_state=0)\n",
    "accuracies = cross_val_score(estimator = classifier, X = X_train, y = y_train, cv = cv)\n",
    "print(\"Accuracy: {:.2f} %\".format(accuracies.mean()*100))\n",
    "print(\"Standard Deviation: {:.2f} %\".format(accuracies.std()*100))"
   ]
  },
  {
   "cell_type": "code",
   "execution_count": 14,
   "id": "0be09d01",
   "metadata": {
    "execution": {
     "iopub.execute_input": "2022-04-13T14:57:48.176401Z",
     "iopub.status.busy": "2022-04-13T14:57:48.175700Z",
     "iopub.status.idle": "2022-04-13T14:57:49.997263Z",
     "shell.execute_reply": "2022-04-13T14:57:49.996630Z",
     "shell.execute_reply.started": "2022-04-13T14:56:20.500611Z"
    },
    "papermill": {
     "duration": 1.858939,
     "end_time": "2022-04-13T14:57:49.997404",
     "exception": false,
     "start_time": "2022-04-13T14:57:48.138465",
     "status": "completed"
    },
    "tags": []
   },
   "outputs": [
    {
     "data": {
      "image/png": "[encoded data removed]",
      "text/plain": [
       "<Figure size 432x288 with 1 Axes>"
      ]
     },
     "metadata": {
      "needs_background": "light"
     },
     "output_type": "display_data"
    }
   ],
   "source": [
    "X_set, y_set = X_train, y_train\n",
    "X1, X2 = np.meshgrid(np.arange(start = X_set[:, 0].min() - 1, stop = X_set[:, 0].max() + 1, step = 0.01),\n",
    "    np.arange(start = X_set[:, 1].min() - 1, stop = X_set[:, 1].max() + 1, step = 0.01))\n",
    "plt.contourf(X1, X2, classifier.predict(np.array([X1.ravel(), X2.ravel()]).T).reshape(X1.shape),\n",
    "alpha = 0.75, cmap = ListedColormap(('red', 'green')))\n",
    "plt.xlim(X1.min(), X1.max())\n",
    "plt.ylim(X2.min(), X2.max())\n",
    "for i, j in enumerate(np.unique(y_set)):\n",
    "    plt.scatter(X_set[y_set == j, 0], X_set[y_set == j, 1],\n",
    "    c = ListedColormap(('red', 'green'))(i), label = j)\n",
    "plt.title('Kernel SVM (Training set)')\n",
    "plt.xlabel('Age')\n",
    "plt.ylabel('Estimated Salary')\n",
    "plt.legend()\n",
    "plt.show()"
   ]
  },
  {
   "cell_type": "code",
   "execution_count": 15,
   "id": "263c1c79",
   "metadata": {
    "execution": {
     "iopub.execute_input": "2022-04-13T14:57:50.062476Z",
     "iopub.status.busy": "2022-04-13T14:57:50.061399Z",
     "iopub.status.idle": "2022-04-13T14:57:51.859092Z",
     "shell.execute_reply": "2022-04-13T14:57:51.859630Z",
     "shell.execute_reply.started": "2022-04-13T14:56:22.302552Z"
    },
    "papermill": {
     "duration": 1.83482,
     "end_time": "2022-04-13T14:57:51.859846",
     "exception": false,
     "start_time": "2022-04-13T14:57:50.025026",
     "status": "completed"
    },
    "tags": []
   },
   "outputs": [
    {
     "data": {
      "image/png": "[encoded data removed]",
      "text/plain": [
       "<Figure size 432x288 with 1 Axes>"
      ]
     },
     "metadata": {
      "needs_background": "light"
     },
     "output_type": "display_data"
    }
   ],
   "source": [
    "X_set, y_set = X_test, y_test\n",
    "X1, X2 = np.meshgrid(np.arange(start = X_set[:, 0].min() - 1, stop = X_set[:, 0].max() + 1, step = 0.01),\n",
    "    np.arange(start = X_set[:, 1].min() - 1, stop = X_set[:, 1].max() + 1, step = 0.01))\n",
    "plt.contourf(X1, X2, classifier.predict(np.array([X1.ravel(), X2.ravel()]).T).reshape(X1.shape),\n",
    "alpha = 0.75, cmap = ListedColormap(('red', 'green')))\n",
    "plt.xlim(X1.min(), X1.max())\n",
    "plt.ylim(X2.min(), X2.max())\n",
    "for i, j in enumerate(np.unique(y_set)):\n",
    "    plt.scatter(X_set[y_set == j, 0], X_set[y_set == j, 1],\n",
    "    c = ListedColormap(('red', 'green'))(i), label = j)\n",
    "plt.title('Kernel SVM(Test set)')\n",
    "plt.xlabel('Age')\n",
    "plt.ylabel('Estimated Salary')\n",
    "plt.legend()\n",
    "plt.show()"
   ]
  }
 ],
 "metadata": {
  "kernelspec": {
   "display_name": "Python 3",
   "language": "python",
   "name": "python3"
  },
  "language_info": {
   "codemirror_mode": {
    "name": "ipython",
    "version": 3
   },
   "file_extension": ".py",
   "mimetype": "text/x-python",
   "name": "python",
   "nbconvert_exporter": "python",
   "pygments_lexer": "ipython3",
   "version": "3.7.12"
  },
  "papermill": {
   "default_parameters": {},
   "duration": 19.245209,
   "end_time": "2022-04-13T14:57:52.599250",
   "environment_variables": {},
   "exception": null,
   "input_path": "__notebook__.ipynb",
   "output_path": "__notebook__.ipynb",
   "parameters": {},
   "start_time": "2022-04-13T14:57:33.354041",
   "version": "2.3.3"
  }
 },
 "nbformat": 4,
 "nbformat_minor": 5
}
