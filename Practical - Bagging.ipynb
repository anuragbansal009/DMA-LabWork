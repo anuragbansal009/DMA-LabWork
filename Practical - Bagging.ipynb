{
 "cells": [
  {
   "cell_type": "markdown",
   "id": "4f0b4d57",
   "metadata": {
    "papermill": {
     "duration": 0.018779,
     "end_time": "2022-04-20T07:10:46.325232",
     "exception": false,
     "start_time": "2022-04-20T07:10:46.306453",
     "status": "completed"
    },
    "tags": []
   },
   "source": [
    "# Importing Libraries"
   ]
  },
  {
   "cell_type": "code",
   "execution_count": 1,
   "id": "6030e59a",
   "metadata": {
    "_cell_guid": "b1076dfc-b9ad-4769-8c92-a6c4dae69d19",
    "_uuid": "8f2839f25d086af736a60e9eeb907d3b93b6e0e5",
    "execution": {
     "iopub.execute_input": "2022-04-20T07:10:46.366612Z",
     "iopub.status.busy": "2022-04-20T07:10:46.365631Z",
     "iopub.status.idle": "2022-04-20T07:11:03.533120Z",
     "shell.execute_reply": "2022-04-20T07:11:03.532196Z"
    },
    "papermill": {
     "duration": 17.189817,
     "end_time": "2022-04-20T07:11:03.535913",
     "exception": false,
     "start_time": "2022-04-20T07:10:46.346096",
     "status": "completed"
    },
    "tags": []
   },
   "outputs": [
    {
     "name": "stdout",
     "output_type": "stream",
     "text": [
      "Collecting openpyxl\r\n",
      "  Downloading openpyxl-3.0.9-py2.py3-none-any.whl (242 kB)\r\n",
      "\u001b[2K     \u001b[90m━━━━━━━━━━━━━━━━━━━━━━━━━━━━━━━━━━━━━━━\u001b[0m \u001b[32m242.2/242.2 KB\u001b[0m \u001b[31m4.7 MB/s\u001b[0m eta \u001b[36m0:00:00\u001b[0m\r\n",
      "\u001b[?25hCollecting et-xmlfile\r\n",
      "  Downloading et_xmlfile-1.1.0-py3-none-any.whl (4.7 kB)\r\n",
      "Installing collected packages: et-xmlfile, openpyxl\r\n",
      "Successfully installed et-xmlfile-1.1.0 openpyxl-3.0.9\r\n",
      "\u001b[33mWARNING: Running pip as the 'root' user can result in broken permissions and conflicting behaviour with the system package manager. It is recommended to use a virtual environment instead: https://pip.pypa.io/warnings/venv\u001b[0m\u001b[33m\r\n",
      "\u001b[0m"
     ]
    }
   ],
   "source": [
    "! pip install openpyxl\n",
    "\n",
    "from sklearn import model_selection\n",
    "from sklearn.ensemble import BaggingClassifier\n",
    "from sklearn.tree import DecisionTreeClassifier\n",
    "import pandas as pd"
   ]
  },
  {
   "cell_type": "markdown",
   "id": "0d9a8841",
   "metadata": {
    "papermill": {
     "duration": 0.020904,
     "end_time": "2022-04-20T07:11:03.578905",
     "exception": false,
     "start_time": "2022-04-20T07:11:03.558001",
     "status": "completed"
    },
    "tags": []
   },
   "source": [
    "# Importing the Data"
   ]
  },
  {
   "cell_type": "code",
   "execution_count": 2,
   "id": "7de1b325",
   "metadata": {
    "execution": {
     "iopub.execute_input": "2022-04-20T07:11:03.625055Z",
     "iopub.status.busy": "2022-04-20T07:11:03.624298Z",
     "iopub.status.idle": "2022-04-20T07:11:05.470362Z",
     "shell.execute_reply": "2022-04-20T07:11:05.469353Z"
    },
    "papermill": {
     "duration": 1.871713,
     "end_time": "2022-04-20T07:11:05.472881",
     "exception": false,
     "start_time": "2022-04-20T07:11:03.601168",
     "status": "completed"
    },
    "tags": []
   },
   "outputs": [
    {
     "name": "stderr",
     "output_type": "stream",
     "text": [
      "/opt/conda/lib/python3.7/site-packages/openpyxl/worksheet/_reader.py:312: UserWarning: Unknown extension is not supported and will be removed\n",
      "  warn(msg)\n"
     ]
    }
   ],
   "source": [
    "df = pd.read_excel('../input/practical2-dataset/Practical-6/Wine_data(1).xlsx')"
   ]
  },
  {
   "cell_type": "code",
   "execution_count": 3,
   "id": "329c4c8c",
   "metadata": {
    "execution": {
     "iopub.execute_input": "2022-04-20T07:11:05.519902Z",
     "iopub.status.busy": "2022-04-20T07:11:05.519417Z",
     "iopub.status.idle": "2022-04-20T07:11:05.563973Z",
     "shell.execute_reply": "2022-04-20T07:11:05.562765Z"
    },
    "papermill": {
     "duration": 0.070433,
     "end_time": "2022-04-20T07:11:05.566181",
     "exception": false,
     "start_time": "2022-04-20T07:11:05.495748",
     "status": "completed"
    },
    "tags": []
   },
   "outputs": [
    {
     "data": {
      "text/html": [
       "<div>\n",
       "<style scoped>\n",
       "    .dataframe tbody tr th:only-of-type {\n",
       "        vertical-align: middle;\n",
       "    }\n",
       "\n",
       "    .dataframe tbody tr th {\n",
       "        vertical-align: top;\n",
       "    }\n",
       "\n",
       "    .dataframe thead th {\n",
       "        text-align: right;\n",
       "    }\n",
       "</style>\n",
       "<table border=\"1\" class=\"dataframe\">\n",
       "  <thead>\n",
       "    <tr style=\"text-align: right;\">\n",
       "      <th></th>\n",
       "      <th>fixed acidity</th>\n",
       "      <th>volatile acidity</th>\n",
       "      <th>citric acid</th>\n",
       "      <th>residual sugar</th>\n",
       "      <th>chlorides</th>\n",
       "      <th>free sulfur dioxide</th>\n",
       "      <th>total sulfur dioxide</th>\n",
       "      <th>density</th>\n",
       "      <th>pH</th>\n",
       "      <th>sulphates</th>\n",
       "      <th>alcohol</th>\n",
       "      <th>quality</th>\n",
       "    </tr>\n",
       "  </thead>\n",
       "  <tbody>\n",
       "    <tr>\n",
       "      <th>0</th>\n",
       "      <td>7.0</td>\n",
       "      <td>0.27</td>\n",
       "      <td>0.36</td>\n",
       "      <td>20.7</td>\n",
       "      <td>0.045</td>\n",
       "      <td>45.0</td>\n",
       "      <td>170.0</td>\n",
       "      <td>1.00100</td>\n",
       "      <td>3.00</td>\n",
       "      <td>0.45</td>\n",
       "      <td>8.8</td>\n",
       "      <td>6</td>\n",
       "    </tr>\n",
       "    <tr>\n",
       "      <th>1</th>\n",
       "      <td>6.3</td>\n",
       "      <td>0.30</td>\n",
       "      <td>0.34</td>\n",
       "      <td>1.6</td>\n",
       "      <td>0.049</td>\n",
       "      <td>14.0</td>\n",
       "      <td>132.0</td>\n",
       "      <td>0.99400</td>\n",
       "      <td>3.30</td>\n",
       "      <td>0.49</td>\n",
       "      <td>9.5</td>\n",
       "      <td>6</td>\n",
       "    </tr>\n",
       "    <tr>\n",
       "      <th>2</th>\n",
       "      <td>8.1</td>\n",
       "      <td>0.28</td>\n",
       "      <td>0.40</td>\n",
       "      <td>6.9</td>\n",
       "      <td>0.050</td>\n",
       "      <td>30.0</td>\n",
       "      <td>97.0</td>\n",
       "      <td>0.99510</td>\n",
       "      <td>3.26</td>\n",
       "      <td>0.44</td>\n",
       "      <td>10.1</td>\n",
       "      <td>6</td>\n",
       "    </tr>\n",
       "    <tr>\n",
       "      <th>3</th>\n",
       "      <td>7.2</td>\n",
       "      <td>0.23</td>\n",
       "      <td>0.32</td>\n",
       "      <td>8.5</td>\n",
       "      <td>0.058</td>\n",
       "      <td>47.0</td>\n",
       "      <td>186.0</td>\n",
       "      <td>0.99560</td>\n",
       "      <td>3.19</td>\n",
       "      <td>0.40</td>\n",
       "      <td>9.9</td>\n",
       "      <td>6</td>\n",
       "    </tr>\n",
       "    <tr>\n",
       "      <th>4</th>\n",
       "      <td>7.2</td>\n",
       "      <td>0.23</td>\n",
       "      <td>0.32</td>\n",
       "      <td>8.5</td>\n",
       "      <td>0.058</td>\n",
       "      <td>47.0</td>\n",
       "      <td>186.0</td>\n",
       "      <td>0.99560</td>\n",
       "      <td>3.19</td>\n",
       "      <td>0.40</td>\n",
       "      <td>9.9</td>\n",
       "      <td>6</td>\n",
       "    </tr>\n",
       "    <tr>\n",
       "      <th>...</th>\n",
       "      <td>...</td>\n",
       "      <td>...</td>\n",
       "      <td>...</td>\n",
       "      <td>...</td>\n",
       "      <td>...</td>\n",
       "      <td>...</td>\n",
       "      <td>...</td>\n",
       "      <td>...</td>\n",
       "      <td>...</td>\n",
       "      <td>...</td>\n",
       "      <td>...</td>\n",
       "      <td>...</td>\n",
       "    </tr>\n",
       "    <tr>\n",
       "      <th>4893</th>\n",
       "      <td>6.2</td>\n",
       "      <td>0.21</td>\n",
       "      <td>0.29</td>\n",
       "      <td>1.6</td>\n",
       "      <td>0.039</td>\n",
       "      <td>24.0</td>\n",
       "      <td>92.0</td>\n",
       "      <td>0.99114</td>\n",
       "      <td>3.27</td>\n",
       "      <td>0.50</td>\n",
       "      <td>11.2</td>\n",
       "      <td>6</td>\n",
       "    </tr>\n",
       "    <tr>\n",
       "      <th>4894</th>\n",
       "      <td>6.6</td>\n",
       "      <td>0.32</td>\n",
       "      <td>0.36</td>\n",
       "      <td>8.0</td>\n",
       "      <td>0.047</td>\n",
       "      <td>57.0</td>\n",
       "      <td>168.0</td>\n",
       "      <td>0.99490</td>\n",
       "      <td>3.15</td>\n",
       "      <td>0.46</td>\n",
       "      <td>9.6</td>\n",
       "      <td>5</td>\n",
       "    </tr>\n",
       "    <tr>\n",
       "      <th>4895</th>\n",
       "      <td>6.5</td>\n",
       "      <td>0.24</td>\n",
       "      <td>0.19</td>\n",
       "      <td>1.2</td>\n",
       "      <td>0.041</td>\n",
       "      <td>30.0</td>\n",
       "      <td>111.0</td>\n",
       "      <td>0.99254</td>\n",
       "      <td>2.99</td>\n",
       "      <td>0.46</td>\n",
       "      <td>9.4</td>\n",
       "      <td>6</td>\n",
       "    </tr>\n",
       "    <tr>\n",
       "      <th>4896</th>\n",
       "      <td>5.5</td>\n",
       "      <td>0.29</td>\n",
       "      <td>0.30</td>\n",
       "      <td>1.1</td>\n",
       "      <td>0.022</td>\n",
       "      <td>20.0</td>\n",
       "      <td>110.0</td>\n",
       "      <td>0.98869</td>\n",
       "      <td>3.34</td>\n",
       "      <td>0.38</td>\n",
       "      <td>12.8</td>\n",
       "      <td>7</td>\n",
       "    </tr>\n",
       "    <tr>\n",
       "      <th>4897</th>\n",
       "      <td>6.0</td>\n",
       "      <td>0.21</td>\n",
       "      <td>0.38</td>\n",
       "      <td>0.8</td>\n",
       "      <td>0.020</td>\n",
       "      <td>22.0</td>\n",
       "      <td>98.0</td>\n",
       "      <td>0.98941</td>\n",
       "      <td>3.26</td>\n",
       "      <td>0.32</td>\n",
       "      <td>11.8</td>\n",
       "      <td>6</td>\n",
       "    </tr>\n",
       "  </tbody>\n",
       "</table>\n",
       "<p>4898 rows × 12 columns</p>\n",
       "</div>"
      ],
      "text/plain": [
       "      fixed acidity  volatile acidity  citric acid  residual sugar  chlorides  \\\n",
       "0               7.0              0.27         0.36            20.7      0.045   \n",
       "1               6.3              0.30         0.34             1.6      0.049   \n",
       "2               8.1              0.28         0.40             6.9      0.050   \n",
       "3               7.2              0.23         0.32             8.5      0.058   \n",
       "4               7.2              0.23         0.32             8.5      0.058   \n",
       "...             ...               ...          ...             ...        ...   \n",
       "4893            6.2              0.21         0.29             1.6      0.039   \n",
       "4894            6.6              0.32         0.36             8.0      0.047   \n",
       "4895            6.5              0.24         0.19             1.2      0.041   \n",
       "4896            5.5              0.29         0.30             1.1      0.022   \n",
       "4897            6.0              0.21         0.38             0.8      0.020   \n",
       "\n",
       "      free sulfur dioxide  total sulfur dioxide  density    pH  sulphates  \\\n",
       "0                    45.0                 170.0  1.00100  3.00       0.45   \n",
       "1                    14.0                 132.0  0.99400  3.30       0.49   \n",
       "2                    30.0                  97.0  0.99510  3.26       0.44   \n",
       "3                    47.0                 186.0  0.99560  3.19       0.40   \n",
       "4                    47.0                 186.0  0.99560  3.19       0.40   \n",
       "...                   ...                   ...      ...   ...        ...   \n",
       "4893                 24.0                  92.0  0.99114  3.27       0.50   \n",
       "4894                 57.0                 168.0  0.99490  3.15       0.46   \n",
       "4895                 30.0                 111.0  0.99254  2.99       0.46   \n",
       "4896                 20.0                 110.0  0.98869  3.34       0.38   \n",
       "4897                 22.0                  98.0  0.98941  3.26       0.32   \n",
       "\n",
       "      alcohol  quality  \n",
       "0         8.8        6  \n",
       "1         9.5        6  \n",
       "2        10.1        6  \n",
       "3         9.9        6  \n",
       "4         9.9        6  \n",
       "...       ...      ...  \n",
       "4893     11.2        6  \n",
       "4894      9.6        5  \n",
       "4895      9.4        6  \n",
       "4896     12.8        7  \n",
       "4897     11.8        6  \n",
       "\n",
       "[4898 rows x 12 columns]"
      ]
     },
     "execution_count": 3,
     "metadata": {},
     "output_type": "execute_result"
    }
   ],
   "source": [
    "df"
   ]
  },
  {
   "cell_type": "code",
   "execution_count": 4,
   "id": "3de9800c",
   "metadata": {
    "execution": {
     "iopub.execute_input": "2022-04-20T07:11:05.615343Z",
     "iopub.status.busy": "2022-04-20T07:11:05.614276Z",
     "iopub.status.idle": "2022-04-20T07:11:05.623625Z",
     "shell.execute_reply": "2022-04-20T07:11:05.622654Z"
    },
    "papermill": {
     "duration": 0.03679,
     "end_time": "2022-04-20T07:11:05.626306",
     "exception": false,
     "start_time": "2022-04-20T07:11:05.589516",
     "status": "completed"
    },
    "tags": []
   },
   "outputs": [],
   "source": [
    "X = df.iloc[:, :-1].values\n",
    "Y = df.iloc[:, -1].values"
   ]
  },
  {
   "cell_type": "code",
   "execution_count": 5,
   "id": "4d9facb5",
   "metadata": {
    "execution": {
     "iopub.execute_input": "2022-04-20T07:11:05.675504Z",
     "iopub.status.busy": "2022-04-20T07:11:05.674987Z",
     "iopub.status.idle": "2022-04-20T07:11:05.680425Z",
     "shell.execute_reply": "2022-04-20T07:11:05.679463Z"
    },
    "papermill": {
     "duration": 0.033347,
     "end_time": "2022-04-20T07:11:05.682996",
     "exception": false,
     "start_time": "2022-04-20T07:11:05.649649",
     "status": "completed"
    },
    "tags": []
   },
   "outputs": [],
   "source": [
    "seed = 8\n",
    "# kFold = model_selection.KFold(n_splits = 3, random_state=seed, shuffle=True)\n",
    "kFold = model_selection.ShuffleSplit(n_splits=3, test_size=0.2, random_state=seed)"
   ]
  },
  {
   "cell_type": "markdown",
   "id": "3f233031",
   "metadata": {
    "papermill": {
     "duration": 0.023565,
     "end_time": "2022-04-20T07:11:05.730261",
     "exception": false,
     "start_time": "2022-04-20T07:11:05.706696",
     "status": "completed"
    },
    "tags": []
   },
   "source": [
    "# Initialize Base Classifier"
   ]
  },
  {
   "cell_type": "code",
   "execution_count": 6,
   "id": "3ce15f3b",
   "metadata": {
    "execution": {
     "iopub.execute_input": "2022-04-20T07:11:05.780371Z",
     "iopub.status.busy": "2022-04-20T07:11:05.779855Z",
     "iopub.status.idle": "2022-04-20T07:11:05.784149Z",
     "shell.execute_reply": "2022-04-20T07:11:05.782838Z"
    },
    "papermill": {
     "duration": 0.032865,
     "end_time": "2022-04-20T07:11:05.787247",
     "exception": false,
     "start_time": "2022-04-20T07:11:05.754382",
     "status": "completed"
    },
    "tags": []
   },
   "outputs": [],
   "source": [
    "base_cls = DecisionTreeClassifier()"
   ]
  },
  {
   "cell_type": "markdown",
   "id": "4920f850",
   "metadata": {
    "papermill": {
     "duration": 0.02281,
     "end_time": "2022-04-20T07:11:05.834033",
     "exception": false,
     "start_time": "2022-04-20T07:11:05.811223",
     "status": "completed"
    },
    "tags": []
   },
   "source": [
    "# Number of base classifier"
   ]
  },
  {
   "cell_type": "code",
   "execution_count": 7,
   "id": "9011434d",
   "metadata": {
    "execution": {
     "iopub.execute_input": "2022-04-20T07:11:05.883052Z",
     "iopub.status.busy": "2022-04-20T07:11:05.882502Z",
     "iopub.status.idle": "2022-04-20T07:11:05.886068Z",
     "shell.execute_reply": "2022-04-20T07:11:05.885449Z"
    },
    "papermill": {
     "duration": 0.030904,
     "end_time": "2022-04-20T07:11:05.888325",
     "exception": false,
     "start_time": "2022-04-20T07:11:05.857421",
     "status": "completed"
    },
    "tags": []
   },
   "outputs": [],
   "source": [
    "num_trees = 500"
   ]
  },
  {
   "cell_type": "markdown",
   "id": "07186267",
   "metadata": {
    "papermill": {
     "duration": 0.023705,
     "end_time": "2022-04-20T07:11:05.936041",
     "exception": false,
     "start_time": "2022-04-20T07:11:05.912336",
     "status": "completed"
    },
    "tags": []
   },
   "source": [
    "# Bagging Classifier"
   ]
  },
  {
   "cell_type": "code",
   "execution_count": 8,
   "id": "fc394447",
   "metadata": {
    "execution": {
     "iopub.execute_input": "2022-04-20T07:11:05.983475Z",
     "iopub.status.busy": "2022-04-20T07:11:05.982995Z",
     "iopub.status.idle": "2022-04-20T07:11:05.988130Z",
     "shell.execute_reply": "2022-04-20T07:11:05.986711Z"
    },
    "papermill": {
     "duration": 0.03258,
     "end_time": "2022-04-20T07:11:05.991272",
     "exception": false,
     "start_time": "2022-04-20T07:11:05.958692",
     "status": "completed"
    },
    "tags": []
   },
   "outputs": [],
   "source": [
    "model = BaggingClassifier(base_estimator = base_cls, n_estimators = num_trees, random_state = seed)"
   ]
  },
  {
   "cell_type": "code",
   "execution_count": 9,
   "id": "4405756d",
   "metadata": {
    "execution": {
     "iopub.execute_input": "2022-04-20T07:11:06.041248Z",
     "iopub.status.busy": "2022-04-20T07:11:06.040900Z",
     "iopub.status.idle": "2022-04-20T07:11:49.700855Z",
     "shell.execute_reply": "2022-04-20T07:11:49.699615Z"
    },
    "papermill": {
     "duration": 43.710816,
     "end_time": "2022-04-20T07:11:49.725778",
     "exception": false,
     "start_time": "2022-04-20T07:11:06.014962",
     "status": "completed"
    },
    "tags": []
   },
   "outputs": [
    {
     "name": "stdout",
     "output_type": "stream",
     "text": [
      "accuracy:  0.6843537414965987\n"
     ]
    }
   ],
   "source": [
    "results = model_selection.cross_val_score(model, X, Y, cv=kFold)\n",
    "print('accuracy: ', results.mean())"
   ]
  },
  {
   "cell_type": "code",
   "execution_count": null,
   "id": "e89b086f",
   "metadata": {
    "papermill": {
     "duration": 0.024374,
     "end_time": "2022-04-20T07:11:49.773402",
     "exception": false,
     "start_time": "2022-04-20T07:11:49.749028",
     "status": "completed"
    },
    "tags": []
   },
   "outputs": [],
   "source": []
  }
 ],
 "metadata": {
  "kernelspec": {
   "display_name": "Python 3",
   "language": "python",
   "name": "python3"
  },
  "language_info": {
   "codemirror_mode": {
    "name": "ipython",
    "version": 3
   },
   "file_extension": ".py",
   "mimetype": "text/x-python",
   "name": "python",
   "nbconvert_exporter": "python",
   "pygments_lexer": "ipython3",
   "version": "3.7.12"
  },
  "papermill": {
   "default_parameters": {},
   "duration": 76.709174,
   "end_time": "2022-04-20T07:11:51.021424",
   "environment_variables": {},
   "exception": null,
   "input_path": "__notebook__.ipynb",
   "output_path": "__notebook__.ipynb",
   "parameters": {},
   "start_time": "2022-04-20T07:10:34.312250",
   "version": "2.3.4"
  }
 },
 "nbformat": 4,
 "nbformat_minor": 5
}
