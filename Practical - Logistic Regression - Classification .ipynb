{
 "cells": [
  {
   "cell_type": "code",
   "execution_count": 1,
   "id": "9bd1ff58",
   "metadata": {
    "_cell_guid": "b1076dfc-b9ad-4769-8c92-a6c4dae69d19",
    "_uuid": "8f2839f25d086af736a60e9eeb907d3b93b6e0e5",
    "execution": {
     "iopub.execute_input": "2022-03-09T07:17:34.233489Z",
     "iopub.status.busy": "2022-03-09T07:17:34.228163Z",
     "iopub.status.idle": "2022-03-09T07:17:36.701772Z",
     "shell.execute_reply": "2022-03-09T07:17:36.700011Z",
     "shell.execute_reply.started": "2022-03-09T07:06:35.046420Z"
    },
    "papermill": {
     "duration": 2.50331,
     "end_time": "2022-03-09T07:17:36.702037",
     "exception": false,
     "start_time": "2022-03-09T07:17:34.198727",
     "status": "completed"
    },
    "tags": []
   },
   "outputs": [],
   "source": [
    "import numpy as np # linear algebra\n",
    "import pandas as pd # data processing, CSV file I/O (e.g. pd.read_csv)\n",
    "\n",
    "# EDA\n",
    "import matplotlib.pyplot as plt\n",
    "import seaborn as sns\n",
    "from matplotlib.colors import ListedColormap\n",
    "\n",
    "# preprocessing\n",
    "from sklearn.model_selection import train_test_split\n",
    "from sklearn.preprocessing import PowerTransformer\n",
    "from sklearn.preprocessing import StandardScaler\n",
    "from sklearn.preprocessing import Normalizer\n",
    "\n",
    "# model\n",
    "from sklearn.linear_model import LogisticRegression\n",
    "from sklearn.metrics import confusion_matrix\n"
   ]
  },
  {
   "cell_type": "markdown",
   "id": "9fbba663",
   "metadata": {
    "papermill": {
     "duration": 0.025673,
     "end_time": "2022-03-09T07:17:36.760141",
     "exception": false,
     "start_time": "2022-03-09T07:17:36.734468",
     "status": "completed"
    },
    "tags": []
   },
   "source": [
    "# Data Preparation"
   ]
  },
  {
   "cell_type": "code",
   "execution_count": 2,
   "id": "65c37508",
   "metadata": {
    "execution": {
     "iopub.execute_input": "2022-03-09T07:17:36.817138Z",
     "iopub.status.busy": "2022-03-09T07:17:36.815888Z",
     "iopub.status.idle": "2022-03-09T07:17:36.871848Z",
     "shell.execute_reply": "2022-03-09T07:17:36.872444Z",
     "shell.execute_reply.started": "2022-03-09T07:06:35.054876Z"
    },
    "papermill": {
     "duration": 0.088232,
     "end_time": "2022-03-09T07:17:36.872643",
     "exception": false,
     "start_time": "2022-03-09T07:17:36.784411",
     "status": "completed"
    },
    "tags": []
   },
   "outputs": [
    {
     "data": {
      "text/html": [
       "<div>\n",
       "<style scoped>\n",
       "    .dataframe tbody tr th:only-of-type {\n",
       "        vertical-align: middle;\n",
       "    }\n",
       "\n",
       "    .dataframe tbody tr th {\n",
       "        vertical-align: top;\n",
       "    }\n",
       "\n",
       "    .dataframe thead th {\n",
       "        text-align: right;\n",
       "    }\n",
       "</style>\n",
       "<table border=\"1\" class=\"dataframe\">\n",
       "  <thead>\n",
       "    <tr style=\"text-align: right;\">\n",
       "      <th></th>\n",
       "      <th>User ID</th>\n",
       "      <th>Gender</th>\n",
       "      <th>Age</th>\n",
       "      <th>EstimatedSalary</th>\n",
       "      <th>Purchased</th>\n",
       "    </tr>\n",
       "  </thead>\n",
       "  <tbody>\n",
       "    <tr>\n",
       "      <th>0</th>\n",
       "      <td>15624510</td>\n",
       "      <td>Male</td>\n",
       "      <td>19</td>\n",
       "      <td>19000</td>\n",
       "      <td>0</td>\n",
       "    </tr>\n",
       "    <tr>\n",
       "      <th>1</th>\n",
       "      <td>15810944</td>\n",
       "      <td>Male</td>\n",
       "      <td>35</td>\n",
       "      <td>20000</td>\n",
       "      <td>0</td>\n",
       "    </tr>\n",
       "    <tr>\n",
       "      <th>2</th>\n",
       "      <td>15668575</td>\n",
       "      <td>Female</td>\n",
       "      <td>26</td>\n",
       "      <td>43000</td>\n",
       "      <td>0</td>\n",
       "    </tr>\n",
       "    <tr>\n",
       "      <th>3</th>\n",
       "      <td>15603246</td>\n",
       "      <td>Female</td>\n",
       "      <td>27</td>\n",
       "      <td>57000</td>\n",
       "      <td>0</td>\n",
       "    </tr>\n",
       "    <tr>\n",
       "      <th>4</th>\n",
       "      <td>15804002</td>\n",
       "      <td>Male</td>\n",
       "      <td>19</td>\n",
       "      <td>76000</td>\n",
       "      <td>0</td>\n",
       "    </tr>\n",
       "  </tbody>\n",
       "</table>\n",
       "</div>"
      ],
      "text/plain": [
       "    User ID  Gender  Age  EstimatedSalary  Purchased\n",
       "0  15624510    Male   19            19000          0\n",
       "1  15810944    Male   35            20000          0\n",
       "2  15668575  Female   26            43000          0\n",
       "3  15603246  Female   27            57000          0\n",
       "4  15804002    Male   19            76000          0"
      ]
     },
     "execution_count": 2,
     "metadata": {},
     "output_type": "execute_result"
    }
   ],
   "source": [
    "df = pd.read_csv(\"../input/practical2-dataset/Practical-4/Social_Network_Ads.csv\")\n",
    "df.head()"
   ]
  },
  {
   "cell_type": "code",
   "execution_count": 3,
   "id": "dc190803",
   "metadata": {
    "execution": {
     "iopub.execute_input": "2022-03-09T07:17:36.959453Z",
     "iopub.status.busy": "2022-03-09T07:17:36.957167Z",
     "iopub.status.idle": "2022-03-09T07:17:36.996073Z",
     "shell.execute_reply": "2022-03-09T07:17:36.995269Z",
     "shell.execute_reply.started": "2022-03-09T07:06:35.082261Z"
    },
    "papermill": {
     "duration": 0.091219,
     "end_time": "2022-03-09T07:17:36.996266",
     "exception": false,
     "start_time": "2022-03-09T07:17:36.905047",
     "status": "completed"
    },
    "tags": []
   },
   "outputs": [
    {
     "name": "stdout",
     "output_type": "stream",
     "text": [
      "<class 'pandas.core.frame.DataFrame'>\n",
      "RangeIndex: 400 entries, 0 to 399\n",
      "Data columns (total 5 columns):\n",
      " #   Column           Non-Null Count  Dtype \n",
      "---  ------           --------------  ----- \n",
      " 0   User ID          400 non-null    int64 \n",
      " 1   Gender           400 non-null    object\n",
      " 2   Age              400 non-null    int64 \n",
      " 3   EstimatedSalary  400 non-null    int64 \n",
      " 4   Purchased        400 non-null    int64 \n",
      "dtypes: int64(4), object(1)\n",
      "memory usage: 15.8+ KB\n"
     ]
    }
   ],
   "source": [
    "df.info()"
   ]
  },
  {
   "cell_type": "code",
   "execution_count": 4,
   "id": "08365859",
   "metadata": {
    "execution": {
     "iopub.execute_input": "2022-03-09T07:17:37.075730Z",
     "iopub.status.busy": "2022-03-09T07:17:37.074811Z",
     "iopub.status.idle": "2022-03-09T07:17:37.077344Z",
     "shell.execute_reply": "2022-03-09T07:17:37.077896Z",
     "shell.execute_reply.started": "2022-03-09T07:06:35.097415Z"
    },
    "papermill": {
     "duration": 0.046623,
     "end_time": "2022-03-09T07:17:37.078107",
     "exception": false,
     "start_time": "2022-03-09T07:17:37.031484",
     "status": "completed"
    },
    "tags": []
   },
   "outputs": [],
   "source": [
    "X = df.iloc[:, [2, 3]].values\n",
    "y = df.iloc[:, 4].values"
   ]
  },
  {
   "cell_type": "markdown",
   "id": "11a340f8",
   "metadata": {
    "papermill": {
     "duration": 0.039596,
     "end_time": "2022-03-09T07:17:37.144736",
     "exception": false,
     "start_time": "2022-03-09T07:17:37.105140",
     "status": "completed"
    },
    "tags": []
   },
   "source": [
    "# Handling Missing Values"
   ]
  },
  {
   "cell_type": "code",
   "execution_count": 5,
   "id": "0aa97eaa",
   "metadata": {
    "execution": {
     "iopub.execute_input": "2022-03-09T07:17:37.218844Z",
     "iopub.status.busy": "2022-03-09T07:17:37.218077Z",
     "iopub.status.idle": "2022-03-09T07:17:38.041546Z",
     "shell.execute_reply": "2022-03-09T07:17:38.040947Z",
     "shell.execute_reply.started": "2022-03-09T07:06:35.105965Z"
    },
    "papermill": {
     "duration": 0.859301,
     "end_time": "2022-03-09T07:17:38.041766",
     "exception": false,
     "start_time": "2022-03-09T07:17:37.182465",
     "status": "completed"
    },
    "tags": []
   },
   "outputs": [
    {
     "data": {
      "text/plain": [
       "<AxesSubplot:>"
      ]
     },
     "execution_count": 5,
     "metadata": {},
     "output_type": "execute_result"
    },
    {
     "data": {
      "image/png": "[encoded data removed]",
      "text/plain": [
       "<Figure size 1800x720 with 2 Axes>"
      ]
     },
     "metadata": {
      "needs_background": "light"
     },
     "output_type": "display_data"
    }
   ],
   "source": [
    "import missingno as msno\n",
    "\n",
    "msno.matrix(df)"
   ]
  },
  {
   "cell_type": "markdown",
   "id": "15638300",
   "metadata": {
    "papermill": {
     "duration": 0.026038,
     "end_time": "2022-03-09T07:17:38.098959",
     "exception": false,
     "start_time": "2022-03-09T07:17:38.072921",
     "status": "completed"
    },
    "tags": []
   },
   "source": [
    "# Feature Scaling"
   ]
  },
  {
   "cell_type": "code",
   "execution_count": 6,
   "id": "21b8d5ec",
   "metadata": {
    "execution": {
     "iopub.execute_input": "2022-03-09T07:17:38.167684Z",
     "iopub.status.busy": "2022-03-09T07:17:38.166887Z",
     "iopub.status.idle": "2022-03-09T07:17:38.174660Z",
     "shell.execute_reply": "2022-03-09T07:17:38.173711Z",
     "shell.execute_reply.started": "2022-03-09T07:06:35.511071Z"
    },
    "papermill": {
     "duration": 0.046681,
     "end_time": "2022-03-09T07:17:38.174869",
     "exception": false,
     "start_time": "2022-03-09T07:17:38.128188",
     "status": "completed"
    },
    "tags": []
   },
   "outputs": [],
   "source": [
    "from sklearn.preprocessing import StandardScaler\n",
    "sc = StandardScaler()\n",
    "X = sc.fit_transform(X)"
   ]
  },
  {
   "cell_type": "markdown",
   "id": "e1221e74",
   "metadata": {
    "papermill": {
     "duration": 0.03072,
     "end_time": "2022-03-09T07:17:38.235854",
     "exception": false,
     "start_time": "2022-03-09T07:17:38.205134",
     "status": "completed"
    },
    "tags": []
   },
   "source": [
    "# Test Train Split"
   ]
  },
  {
   "cell_type": "code",
   "execution_count": 7,
   "id": "f8d436cd",
   "metadata": {
    "execution": {
     "iopub.execute_input": "2022-03-09T07:17:38.299269Z",
     "iopub.status.busy": "2022-03-09T07:17:38.297884Z",
     "iopub.status.idle": "2022-03-09T07:17:38.303751Z",
     "shell.execute_reply": "2022-03-09T07:17:38.303121Z",
     "shell.execute_reply.started": "2022-03-09T07:06:35.519220Z"
    },
    "papermill": {
     "duration": 0.041523,
     "end_time": "2022-03-09T07:17:38.303917",
     "exception": false,
     "start_time": "2022-03-09T07:17:38.262394",
     "status": "completed"
    },
    "tags": []
   },
   "outputs": [],
   "source": [
    "X_train, X_test, y_train, y_test = train_test_split(X, y, test_size = 0.25, random_state = 0)"
   ]
  },
  {
   "cell_type": "markdown",
   "id": "b938bee4",
   "metadata": {
    "papermill": {
     "duration": 0.029113,
     "end_time": "2022-03-09T07:17:38.363592",
     "exception": false,
     "start_time": "2022-03-09T07:17:38.334479",
     "status": "completed"
    },
    "tags": []
   },
   "source": [
    "# Fitting Logistic Regression into training Set"
   ]
  },
  {
   "cell_type": "code",
   "execution_count": 8,
   "id": "4e2ec1cc",
   "metadata": {
    "execution": {
     "iopub.execute_input": "2022-03-09T07:17:38.449741Z",
     "iopub.status.busy": "2022-03-09T07:17:38.448940Z",
     "iopub.status.idle": "2022-03-09T07:17:38.465102Z",
     "shell.execute_reply": "2022-03-09T07:17:38.463950Z",
     "shell.execute_reply.started": "2022-03-09T07:06:35.534749Z"
    },
    "papermill": {
     "duration": 0.071245,
     "end_time": "2022-03-09T07:17:38.465307",
     "exception": false,
     "start_time": "2022-03-09T07:17:38.394062",
     "status": "completed"
    },
    "tags": []
   },
   "outputs": [
    {
     "data": {
      "text/plain": [
       "LogisticRegression(random_state=0)"
      ]
     },
     "execution_count": 8,
     "metadata": {},
     "output_type": "execute_result"
    }
   ],
   "source": [
    "classifier = LogisticRegression(random_state = 0)\n",
    "classifier.fit(X_train, y_train)"
   ]
  },
  {
   "cell_type": "markdown",
   "id": "faf489c6",
   "metadata": {
    "papermill": {
     "duration": 0.02613,
     "end_time": "2022-03-09T07:17:38.521301",
     "exception": false,
     "start_time": "2022-03-09T07:17:38.495171",
     "status": "completed"
    },
    "tags": []
   },
   "source": [
    "# Predicting the Test set results"
   ]
  },
  {
   "cell_type": "code",
   "execution_count": 9,
   "id": "201072f7",
   "metadata": {
    "execution": {
     "iopub.execute_input": "2022-03-09T07:17:38.590450Z",
     "iopub.status.busy": "2022-03-09T07:17:38.588987Z",
     "iopub.status.idle": "2022-03-09T07:17:38.594224Z",
     "shell.execute_reply": "2022-03-09T07:17:38.593195Z",
     "shell.execute_reply.started": "2022-03-09T07:06:35.556154Z"
    },
    "papermill": {
     "duration": 0.044035,
     "end_time": "2022-03-09T07:17:38.594466",
     "exception": false,
     "start_time": "2022-03-09T07:17:38.550431",
     "status": "completed"
    },
    "tags": []
   },
   "outputs": [],
   "source": [
    "y_pred = classifier.predict(X_test)"
   ]
  },
  {
   "cell_type": "markdown",
   "id": "4350f313",
   "metadata": {
    "papermill": {
     "duration": 0.030789,
     "end_time": "2022-03-09T07:17:38.651136",
     "exception": false,
     "start_time": "2022-03-09T07:17:38.620347",
     "status": "completed"
    },
    "tags": []
   },
   "source": [
    "# Making the Confusion Matrix"
   ]
  },
  {
   "cell_type": "code",
   "execution_count": 10,
   "id": "0ce6f494",
   "metadata": {
    "execution": {
     "iopub.execute_input": "2022-03-09T07:17:38.730608Z",
     "iopub.status.busy": "2022-03-09T07:17:38.727559Z",
     "iopub.status.idle": "2022-03-09T07:17:38.734582Z",
     "shell.execute_reply": "2022-03-09T07:17:38.735457Z",
     "shell.execute_reply.started": "2022-03-09T07:06:35.563533Z"
    },
    "papermill": {
     "duration": 0.044715,
     "end_time": "2022-03-09T07:17:38.735701",
     "exception": false,
     "start_time": "2022-03-09T07:17:38.690986",
     "status": "completed"
    },
    "tags": []
   },
   "outputs": [],
   "source": [
    "cm = confusion_matrix(y_test, y_pred)"
   ]
  },
  {
   "cell_type": "markdown",
   "id": "dfecd1a1",
   "metadata": {
    "papermill": {
     "duration": 0.04043,
     "end_time": "2022-03-09T07:17:38.809618",
     "exception": false,
     "start_time": "2022-03-09T07:17:38.769188",
     "status": "completed"
    },
    "tags": []
   },
   "source": [
    "# Visualising the Training set results"
   ]
  },
  {
   "cell_type": "code",
   "execution_count": 11,
   "id": "783baf23",
   "metadata": {
    "execution": {
     "iopub.execute_input": "2022-03-09T07:17:38.906455Z",
     "iopub.status.busy": "2022-03-09T07:17:38.905638Z",
     "iopub.status.idle": "2022-03-09T07:17:39.453149Z",
     "shell.execute_reply": "2022-03-09T07:17:39.452525Z",
     "shell.execute_reply.started": "2022-03-09T07:11:46.903903Z"
    },
    "papermill": {
     "duration": 0.610225,
     "end_time": "2022-03-09T07:17:39.453330",
     "exception": false,
     "start_time": "2022-03-09T07:17:38.843105",
     "status": "completed"
    },
    "tags": []
   },
   "outputs": [
    {
     "data": {
      "image/png": "[encoded data removed]",
      "text/plain": [
       "<Figure size 432x288 with 1 Axes>"
      ]
     },
     "metadata": {
      "needs_background": "light"
     },
     "output_type": "display_data"
    }
   ],
   "source": [
    "X_set, y_set = X_train, y_train\n",
    "X1, X2 = np.meshgrid(np.arange(start = X_set[:, 0].min() - 1, stop = X_set[:, 0].max() + 1, step = 0.01),\n",
    "    np.arange(start = X_set[:, 1].min() - 1, stop = X_set[:, 1].max() + 1, step = 0.01))\n",
    "plt.contourf(X1, X2, classifier.predict(np.array([X1.ravel(), X2.ravel()]).T).reshape(X1.shape),\n",
    "alpha = 0.5, cmap = ListedColormap(('red', 'green')))\n",
    "plt.xlim(X1.min(), X1.max())\n",
    "plt.ylim(X2.min(), X2.max())\n",
    "for i, j in enumerate(np.unique(y_set)):\n",
    "    plt.scatter(X_set[y_set == j, 0], X_set[y_set == j, 1],\n",
    "    c = ListedColormap(('red', 'green'))(i), label = j)\n",
    "plt.title('Logistic Regression(Training set)')\n",
    "plt.xlabel('Age')\n",
    "plt.ylabel('Estimated Salary')\n",
    "plt.legend()\n",
    "plt.show()"
   ]
  },
  {
   "cell_type": "code",
   "execution_count": 12,
   "id": "debe2fc1",
   "metadata": {
    "execution": {
     "iopub.execute_input": "2022-03-09T07:17:39.526822Z",
     "iopub.status.busy": "2022-03-09T07:17:39.525587Z",
     "iopub.status.idle": "2022-03-09T07:17:40.033050Z",
     "shell.execute_reply": "2022-03-09T07:17:40.032167Z",
     "shell.execute_reply.started": "2022-03-09T07:12:44.394437Z"
    },
    "papermill": {
     "duration": 0.551921,
     "end_time": "2022-03-09T07:17:40.033247",
     "exception": false,
     "start_time": "2022-03-09T07:17:39.481326",
     "status": "completed"
    },
    "tags": []
   },
   "outputs": [
    {
     "data": {
      "image/png": "[encoded data removed]",
      "text/plain": [
       "<Figure size 432x288 with 1 Axes>"
      ]
     },
     "metadata": {
      "needs_background": "light"
     },
     "output_type": "display_data"
    }
   ],
   "source": [
    "X_set, y_set = X_test, y_test\n",
    "X1, X2 = np.meshgrid(np.arange(start = X_set[:, 0].min() - 1, stop = X_set[:, 0].max() + 1, step = 0.01),\n",
    "    np.arange(start = X_set[:, 1].min() - 1, stop = X_set[:, 1].max() + 1, step = 0.01))\n",
    "plt.contourf(X1, X2, classifier.predict(np.array([X1.ravel(), X2.ravel()]).T).reshape(X1.shape),\n",
    "alpha = 0.5, cmap = ListedColormap(('red', 'green')))\n",
    "plt.xlim(X1.min(), X1.max())\n",
    "plt.ylim(X2.min(), X2.max())\n",
    "for i, j in enumerate(np.unique(y_set)):\n",
    "    plt.scatter(X_set[y_set == j, 0], X_set[y_set == j, 1],\n",
    "    c = ListedColormap(('red', 'green'))(i), label = j)\n",
    "plt.title('Logistic Regression(Test set)')\n",
    "plt.xlabel('Age')\n",
    "plt.ylabel('Estimated Salary')\n",
    "plt.legend()\n",
    "plt.show()"
   ]
  }
 ],
 "metadata": {
  "kernelspec": {
   "display_name": "Python 3",
   "language": "python",
   "name": "python3"
  },
  "language_info": {
   "codemirror_mode": {
    "name": "ipython",
    "version": 3
   },
   "file_extension": ".py",
   "mimetype": "text/x-python",
   "name": "python",
   "nbconvert_exporter": "python",
   "pygments_lexer": "ipython3",
   "version": "3.7.12"
  },
  "papermill": {
   "default_parameters": {},
   "duration": 26.309264,
   "end_time": "2022-03-09T07:17:41.280513",
   "environment_variables": {},
   "exception": null,
   "input_path": "__notebook__.ipynb",
   "output_path": "__notebook__.ipynb",
   "parameters": {},
   "start_time": "2022-03-09T07:17:14.971249",
   "version": "2.3.3"
  }
 },
 "nbformat": 4,
 "nbformat_minor": 5
}
