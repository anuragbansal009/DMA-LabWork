{
 "cells": [
  {
   "cell_type": "markdown",
   "id": "cf63c428",
   "metadata": {
    "papermill": {
     "duration": 0.021119,
     "end_time": "2022-04-20T05:52:15.462169",
     "exception": false,
     "start_time": "2022-04-20T05:52:15.441050",
     "status": "completed"
    },
    "tags": []
   },
   "source": [
    "# Importing Libraries"
   ]
  },
  {
   "cell_type": "code",
   "execution_count": 1,
   "id": "03d57dfe",
   "metadata": {
    "execution": {
     "iopub.execute_input": "2022-04-20T05:52:15.501863Z",
     "iopub.status.busy": "2022-04-20T05:52:15.501364Z",
     "iopub.status.idle": "2022-04-20T05:52:16.840986Z",
     "shell.execute_reply": "2022-04-20T05:52:16.840161Z"
    },
    "papermill": {
     "duration": 1.362158,
     "end_time": "2022-04-20T05:52:16.843466",
     "exception": false,
     "start_time": "2022-04-20T05:52:15.481308",
     "status": "completed"
    },
    "tags": []
   },
   "outputs": [],
   "source": [
    "import numpy as np\n",
    "import matplotlib.pyplot as plt\n",
    "import pandas as pd\n",
    "import seaborn as sns\n",
    "from sklearn.preprocessing import StandardScaler\n",
    "from sklearn.model_selection import train_test_split\n",
    "from sklearn.svm import SVC\n",
    "from sklearn.model_selection import cross_val_score\n",
    "from sklearn.model_selection import GridSearchCV\n",
    "from matplotlib.colors import ListedColormap"
   ]
  },
  {
   "cell_type": "markdown",
   "id": "3a946c93",
   "metadata": {
    "papermill": {
     "duration": 0.019288,
     "end_time": "2022-04-20T05:52:16.881720",
     "exception": false,
     "start_time": "2022-04-20T05:52:16.862432",
     "status": "completed"
    },
    "tags": []
   },
   "source": [
    "# Importing Dataset"
   ]
  },
  {
   "cell_type": "code",
   "execution_count": 2,
   "id": "c9ba35b0",
   "metadata": {
    "execution": {
     "iopub.execute_input": "2022-04-20T05:52:16.922165Z",
     "iopub.status.busy": "2022-04-20T05:52:16.921882Z",
     "iopub.status.idle": "2022-04-20T05:52:16.950662Z",
     "shell.execute_reply": "2022-04-20T05:52:16.950069Z"
    },
    "papermill": {
     "duration": 0.051669,
     "end_time": "2022-04-20T05:52:16.952709",
     "exception": false,
     "start_time": "2022-04-20T05:52:16.901040",
     "status": "completed"
    },
    "tags": []
   },
   "outputs": [],
   "source": [
    "dataset = pd.read_csv('../input/practical2-dataset/Practical-4/Social_Network_Ads.csv')\n",
    "X = dataset.iloc[:, [2, 3]].values\n",
    "y = dataset.iloc[:, -1].values"
   ]
  },
  {
   "cell_type": "markdown",
   "id": "636a2a86",
   "metadata": {
    "papermill": {
     "duration": 0.01854,
     "end_time": "2022-04-20T05:52:16.990229",
     "exception": false,
     "start_time": "2022-04-20T05:52:16.971689",
     "status": "completed"
    },
    "tags": []
   },
   "source": [
    "# Feature Scaling"
   ]
  },
  {
   "cell_type": "code",
   "execution_count": 3,
   "id": "986a656d",
   "metadata": {
    "execution": {
     "iopub.execute_input": "2022-04-20T05:52:17.029366Z",
     "iopub.status.busy": "2022-04-20T05:52:17.028832Z",
     "iopub.status.idle": "2022-04-20T05:52:17.033534Z",
     "shell.execute_reply": "2022-04-20T05:52:17.032907Z"
    },
    "papermill": {
     "duration": 0.026643,
     "end_time": "2022-04-20T05:52:17.035501",
     "exception": false,
     "start_time": "2022-04-20T05:52:17.008858",
     "status": "completed"
    },
    "tags": []
   },
   "outputs": [],
   "source": [
    "sc = StandardScaler()\n",
    "X = sc.fit_transform(X)"
   ]
  },
  {
   "cell_type": "markdown",
   "id": "d2d6f02d",
   "metadata": {
    "papermill": {
     "duration": 0.020226,
     "end_time": "2022-04-20T05:52:17.074590",
     "exception": false,
     "start_time": "2022-04-20T05:52:17.054364",
     "status": "completed"
    },
    "tags": []
   },
   "source": [
    "# Test Train Split"
   ]
  },
  {
   "cell_type": "code",
   "execution_count": 4,
   "id": "43968deb",
   "metadata": {
    "execution": {
     "iopub.execute_input": "2022-04-20T05:52:17.113887Z",
     "iopub.status.busy": "2022-04-20T05:52:17.113493Z",
     "iopub.status.idle": "2022-04-20T05:52:17.118539Z",
     "shell.execute_reply": "2022-04-20T05:52:17.117909Z"
    },
    "papermill": {
     "duration": 0.026853,
     "end_time": "2022-04-20T05:52:17.120278",
     "exception": false,
     "start_time": "2022-04-20T05:52:17.093425",
     "status": "completed"
    },
    "tags": []
   },
   "outputs": [],
   "source": [
    "X_train, X_test, y_train, y_test = train_test_split(X, y, test_size = 0.25, random_state = 0)"
   ]
  },
  {
   "cell_type": "markdown",
   "id": "2d12e4e0",
   "metadata": {
    "papermill": {
     "duration": 0.018522,
     "end_time": "2022-04-20T05:52:17.157515",
     "exception": false,
     "start_time": "2022-04-20T05:52:17.138993",
     "status": "completed"
    },
    "tags": []
   },
   "source": [
    "### Training the Kernel SVM model on the Training set"
   ]
  },
  {
   "cell_type": "code",
   "execution_count": 5,
   "id": "be11f113",
   "metadata": {
    "execution": {
     "iopub.execute_input": "2022-04-20T05:52:17.196635Z",
     "iopub.status.busy": "2022-04-20T05:52:17.196201Z",
     "iopub.status.idle": "2022-04-20T05:52:17.208121Z",
     "shell.execute_reply": "2022-04-20T05:52:17.207284Z"
    },
    "papermill": {
     "duration": 0.0344,
     "end_time": "2022-04-20T05:52:17.210483",
     "exception": false,
     "start_time": "2022-04-20T05:52:17.176083",
     "status": "completed"
    },
    "tags": []
   },
   "outputs": [
    {
     "data": {
      "text/plain": [
       "SVC(random_state=0)"
      ]
     },
     "execution_count": 5,
     "metadata": {},
     "output_type": "execute_result"
    }
   ],
   "source": [
    "classifier = SVC(kernel = 'rbf', random_state = 0)\n",
    "classifier.fit(X_train, y_train)"
   ]
  },
  {
   "cell_type": "markdown",
   "id": "d4402766",
   "metadata": {
    "papermill": {
     "duration": 0.018746,
     "end_time": "2022-04-20T05:52:17.248655",
     "exception": false,
     "start_time": "2022-04-20T05:52:17.229909",
     "status": "completed"
    },
    "tags": []
   },
   "source": [
    "### Predicting the Test set results"
   ]
  },
  {
   "cell_type": "code",
   "execution_count": 6,
   "id": "ec3010a5",
   "metadata": {
    "execution": {
     "iopub.execute_input": "2022-04-20T05:52:17.288584Z",
     "iopub.status.busy": "2022-04-20T05:52:17.288158Z",
     "iopub.status.idle": "2022-04-20T05:52:17.292891Z",
     "shell.execute_reply": "2022-04-20T05:52:17.292259Z"
    },
    "papermill": {
     "duration": 0.026878,
     "end_time": "2022-04-20T05:52:17.294751",
     "exception": false,
     "start_time": "2022-04-20T05:52:17.267873",
     "status": "completed"
    },
    "tags": []
   },
   "outputs": [],
   "source": [
    "y_pred = classifier.predict(X_test)"
   ]
  },
  {
   "cell_type": "markdown",
   "id": "fc4d1450",
   "metadata": {
    "papermill": {
     "duration": 0.019014,
     "end_time": "2022-04-20T05:52:17.333163",
     "exception": false,
     "start_time": "2022-04-20T05:52:17.314149",
     "status": "completed"
    },
    "tags": []
   },
   "source": [
    "### Applying k-Fold Cross Validation"
   ]
  },
  {
   "cell_type": "code",
   "execution_count": 7,
   "id": "4804cfb2",
   "metadata": {
    "execution": {
     "iopub.execute_input": "2022-04-20T05:52:17.379101Z",
     "iopub.status.busy": "2022-04-20T05:52:17.378581Z",
     "iopub.status.idle": "2022-04-20T05:52:17.432076Z",
     "shell.execute_reply": "2022-04-20T05:52:17.431254Z"
    },
    "papermill": {
     "duration": 0.080868,
     "end_time": "2022-04-20T05:52:17.434405",
     "exception": false,
     "start_time": "2022-04-20T05:52:17.353537",
     "status": "completed"
    },
    "tags": []
   },
   "outputs": [
    {
     "name": "stdout",
     "output_type": "stream",
     "text": [
      "Accuracy: 90.00 %\n",
      "Standard Deviation: 6.83 %\n"
     ]
    }
   ],
   "source": [
    "accuracies = cross_val_score(estimator = classifier, X = X_train, y = y_train, cv = 10)\n",
    "print(\"Accuracy: {:.2f} %\".format(accuracies.mean()*100))\n",
    "print(\"Standard Deviation: {:.2f} %\".format(accuracies.std()*100))"
   ]
  },
  {
   "cell_type": "markdown",
   "id": "6c4f1922",
   "metadata": {
    "papermill": {
     "duration": 0.019448,
     "end_time": "2022-04-20T05:52:17.479974",
     "exception": false,
     "start_time": "2022-04-20T05:52:17.460526",
     "status": "completed"
    },
    "tags": []
   },
   "source": [
    "# Applying Grid Search to find the best model and the best parameters"
   ]
  },
  {
   "cell_type": "markdown",
   "id": "ebe64e07",
   "metadata": {
    "papermill": {
     "duration": 0.019306,
     "end_time": "2022-04-20T05:52:17.518648",
     "exception": false,
     "start_time": "2022-04-20T05:52:17.499342",
     "status": "completed"
    },
    "tags": []
   },
   "source": [
    "### Defining parameters to be tuned"
   ]
  },
  {
   "cell_type": "code",
   "execution_count": 8,
   "id": "89932e99",
   "metadata": {
    "execution": {
     "iopub.execute_input": "2022-04-20T05:52:17.558945Z",
     "iopub.status.busy": "2022-04-20T05:52:17.558183Z",
     "iopub.status.idle": "2022-04-20T05:52:17.562690Z",
     "shell.execute_reply": "2022-04-20T05:52:17.562135Z"
    },
    "papermill": {
     "duration": 0.026539,
     "end_time": "2022-04-20T05:52:17.564450",
     "exception": false,
     "start_time": "2022-04-20T05:52:17.537911",
     "status": "completed"
    },
    "tags": []
   },
   "outputs": [],
   "source": [
    "parameters = [{'C': [1, 10, 100, 1000], 'kernel': ['linear']}, {'C': [1, 10, 100, 1000], 'kernel': ['rbf'], 'gamma': [0.1, 0.2, 0.3, 0.4, 0.5, 0.6, 0.7, 0.8, 0.9]}]"
   ]
  },
  {
   "cell_type": "markdown",
   "id": "f71ee076",
   "metadata": {
    "papermill": {
     "duration": 0.019199,
     "end_time": "2022-04-20T05:52:17.604356",
     "exception": false,
     "start_time": "2022-04-20T05:52:17.585157",
     "status": "completed"
    },
    "tags": []
   },
   "source": [
    "### Creating object of GridSearchCV class"
   ]
  },
  {
   "cell_type": "code",
   "execution_count": 9,
   "id": "465dda4b",
   "metadata": {
    "execution": {
     "iopub.execute_input": "2022-04-20T05:52:17.644690Z",
     "iopub.status.busy": "2022-04-20T05:52:17.644188Z",
     "iopub.status.idle": "2022-04-20T05:52:17.647691Z",
     "shell.execute_reply": "2022-04-20T05:52:17.647194Z"
    },
    "papermill": {
     "duration": 0.025862,
     "end_time": "2022-04-20T05:52:17.649512",
     "exception": false,
     "start_time": "2022-04-20T05:52:17.623650",
     "status": "completed"
    },
    "tags": []
   },
   "outputs": [],
   "source": [
    "grid_search = GridSearchCV(estimator = classifier, param_grid = parameters, scoring = 'accuracy', cv = 10, n_jobs = -1)"
   ]
  },
  {
   "cell_type": "markdown",
   "id": "bebcf2cb",
   "metadata": {
    "papermill": {
     "duration": 0.019282,
     "end_time": "2022-04-20T05:52:17.688785",
     "exception": false,
     "start_time": "2022-04-20T05:52:17.669503",
     "status": "completed"
    },
    "tags": []
   },
   "source": [
    "### Fitting the Grid Search to the training set"
   ]
  },
  {
   "cell_type": "code",
   "execution_count": 10,
   "id": "a64669fd",
   "metadata": {
    "execution": {
     "iopub.execute_input": "2022-04-20T05:52:17.729379Z",
     "iopub.status.busy": "2022-04-20T05:52:17.728825Z",
     "iopub.status.idle": "2022-04-20T05:52:20.252531Z",
     "shell.execute_reply": "2022-04-20T05:52:20.251544Z"
    },
    "papermill": {
     "duration": 2.546461,
     "end_time": "2022-04-20T05:52:20.254840",
     "exception": false,
     "start_time": "2022-04-20T05:52:17.708379",
     "status": "completed"
    },
    "tags": []
   },
   "outputs": [],
   "source": [
    "grid_search = grid_search.fit(X_train, y_train)"
   ]
  },
  {
   "cell_type": "markdown",
   "id": "172cf797",
   "metadata": {
    "papermill": {
     "duration": 0.01949,
     "end_time": "2022-04-20T05:52:20.293957",
     "exception": false,
     "start_time": "2022-04-20T05:52:20.274467",
     "status": "completed"
    },
    "tags": []
   },
   "source": [
    "### Getting best metric value (Mean of 10 accuracies)"
   ]
  },
  {
   "cell_type": "code",
   "execution_count": 11,
   "id": "60166d6b",
   "metadata": {
    "execution": {
     "iopub.execute_input": "2022-04-20T05:52:20.335293Z",
     "iopub.status.busy": "2022-04-20T05:52:20.334760Z",
     "iopub.status.idle": "2022-04-20T05:52:20.338148Z",
     "shell.execute_reply": "2022-04-20T05:52:20.337639Z"
    },
    "papermill": {
     "duration": 0.026259,
     "end_time": "2022-04-20T05:52:20.339782",
     "exception": false,
     "start_time": "2022-04-20T05:52:20.313523",
     "status": "completed"
    },
    "tags": []
   },
   "outputs": [],
   "source": [
    "best_accuracy =grid_search.best_score_"
   ]
  },
  {
   "cell_type": "markdown",
   "id": "f33f165e",
   "metadata": {
    "papermill": {
     "duration": 0.019062,
     "end_time": "2022-04-20T05:52:20.378235",
     "exception": false,
     "start_time": "2022-04-20T05:52:20.359173",
     "status": "completed"
    },
    "tags": []
   },
   "source": [
    "### Getting best suited parameters’ values"
   ]
  },
  {
   "cell_type": "code",
   "execution_count": 12,
   "id": "0e1769cc",
   "metadata": {
    "execution": {
     "iopub.execute_input": "2022-04-20T05:52:20.418454Z",
     "iopub.status.busy": "2022-04-20T05:52:20.418002Z",
     "iopub.status.idle": "2022-04-20T05:52:20.421051Z",
     "shell.execute_reply": "2022-04-20T05:52:20.420550Z"
    },
    "papermill": {
     "duration": 0.025259,
     "end_time": "2022-04-20T05:52:20.422705",
     "exception": false,
     "start_time": "2022-04-20T05:52:20.397446",
     "status": "completed"
    },
    "tags": []
   },
   "outputs": [],
   "source": [
    "best_parameters = grid_search.best_params_"
   ]
  },
  {
   "cell_type": "markdown",
   "id": "3229cd1d",
   "metadata": {
    "papermill": {
     "duration": 0.019164,
     "end_time": "2022-04-20T05:52:20.461076",
     "exception": false,
     "start_time": "2022-04-20T05:52:20.441912",
     "status": "completed"
    },
    "tags": []
   },
   "source": [
    "### Printing the metric and the parameters"
   ]
  },
  {
   "cell_type": "code",
   "execution_count": 13,
   "id": "9b2c0106",
   "metadata": {
    "execution": {
     "iopub.execute_input": "2022-04-20T05:52:20.502711Z",
     "iopub.status.busy": "2022-04-20T05:52:20.501764Z",
     "iopub.status.idle": "2022-04-20T05:52:20.507256Z",
     "shell.execute_reply": "2022-04-20T05:52:20.506150Z"
    },
    "papermill": {
     "duration": 0.02818,
     "end_time": "2022-04-20T05:52:20.509639",
     "exception": false,
     "start_time": "2022-04-20T05:52:20.481459",
     "status": "completed"
    },
    "tags": []
   },
   "outputs": [
    {
     "name": "stdout",
     "output_type": "stream",
     "text": [
      "Best Accuracy: 91.00 %\n",
      "Best Parameters: {'C': 1, 'gamma': 0.7, 'kernel': 'rbf'}\n"
     ]
    }
   ],
   "source": [
    "print(\"Best Accuracy: {:.2f} %\".format(best_accuracy*100))\n",
    "print(\"Best Parameters:\", best_parameters)"
   ]
  },
  {
   "cell_type": "markdown",
   "id": "6a936fdb",
   "metadata": {
    "papermill": {
     "duration": 0.019496,
     "end_time": "2022-04-20T05:52:20.549503",
     "exception": false,
     "start_time": "2022-04-20T05:52:20.530007",
     "status": "completed"
    },
    "tags": []
   },
   "source": [
    "# Visualising the Training set results"
   ]
  },
  {
   "cell_type": "code",
   "execution_count": 14,
   "id": "a15f4227",
   "metadata": {
    "execution": {
     "iopub.execute_input": "2022-04-20T05:52:20.590335Z",
     "iopub.status.busy": "2022-04-20T05:52:20.589834Z",
     "iopub.status.idle": "2022-04-20T05:52:22.428633Z",
     "shell.execute_reply": "2022-04-20T05:52:22.427781Z"
    },
    "papermill": {
     "duration": 1.86179,
     "end_time": "2022-04-20T05:52:22.430676",
     "exception": false,
     "start_time": "2022-04-20T05:52:20.568886",
     "status": "completed"
    },
    "tags": []
   },
   "outputs": [
    {
     "data": {
      "image/png": "[encoded data removed]",
      "text/plain": [
       "<Figure size 432x288 with 1 Axes>"
      ]
     },
     "metadata": {
      "needs_background": "light"
     },
     "output_type": "display_data"
    }
   ],
   "source": [
    "X_set, y_set = X_train, y_train\n",
    "X1, X2 = np.meshgrid(np.arange(start = X_set[:, 0].min() - 1, stop = X_set[:, 0].max() + 1, step = 0.01),\n",
    "    np.arange(start = X_set[:, 1].min() - 1, stop = X_set[:, 1].max() + 1, step = 0.01))\n",
    "plt.contourf(X1, X2, classifier.predict(np.array([X1.ravel(), X2.ravel()]).T).reshape(X1.shape),\n",
    "alpha = 0.75, cmap = ListedColormap(('red', 'green')))\n",
    "plt.xlim(X1.min(), X1.max())\n",
    "plt.ylim(X2.min(), X2.max())\n",
    "for i, j in enumerate(np.unique(y_set)):\n",
    "    plt.scatter(X_set[y_set == j, 0], X_set[y_set == j, 1],\n",
    "    c = ListedColormap(('red', 'green'))(i), label = j)\n",
    "plt.title('Kernel SVM (Training set)')\n",
    "plt.xlabel('Age')\n",
    "plt.ylabel('Estimated Salary')\n",
    "plt.legend()\n",
    "plt.show()"
   ]
  },
  {
   "cell_type": "markdown",
   "id": "b344c200",
   "metadata": {
    "papermill": {
     "duration": 0.020445,
     "end_time": "2022-04-20T05:52:22.471721",
     "exception": false,
     "start_time": "2022-04-20T05:52:22.451276",
     "status": "completed"
    },
    "tags": []
   },
   "source": [
    "# Visualising the Training set results"
   ]
  },
  {
   "cell_type": "code",
   "execution_count": 15,
   "id": "7d486982",
   "metadata": {
    "execution": {
     "iopub.execute_input": "2022-04-20T05:52:22.514973Z",
     "iopub.status.busy": "2022-04-20T05:52:22.514139Z",
     "iopub.status.idle": "2022-04-20T05:52:24.300557Z",
     "shell.execute_reply": "2022-04-20T05:52:24.299895Z"
    },
    "papermill": {
     "duration": 1.810027,
     "end_time": "2022-04-20T05:52:24.302555",
     "exception": false,
     "start_time": "2022-04-20T05:52:22.492528",
     "status": "completed"
    },
    "tags": []
   },
   "outputs": [
    {
     "data": {
      "image/png": "[encoded data removed]",
      "text/plain": [
       "<Figure size 432x288 with 1 Axes>"
      ]
     },
     "metadata": {
      "needs_background": "light"
     },
     "output_type": "display_data"
    }
   ],
   "source": [
    "X_set, y_set = X_test, y_test\n",
    "X1, X2 = np.meshgrid(np.arange(start = X_set[:, 0].min() - 1, stop = X_set[:, 0].max() + 1, step = 0.01),\n",
    "    np.arange(start = X_set[:, 1].min() - 1, stop = X_set[:, 1].max() + 1, step = 0.01))\n",
    "plt.contourf(X1, X2, classifier.predict(np.array([X1.ravel(), X2.ravel()]).T).reshape(X1.shape),\n",
    "alpha = 0.75, cmap = ListedColormap(('red', 'green')))\n",
    "plt.xlim(X1.min(), X1.max())\n",
    "plt.ylim(X2.min(), X2.max())\n",
    "for i, j in enumerate(np.unique(y_set)):\n",
    "    plt.scatter(X_set[y_set == j, 0], X_set[y_set == j, 1],\n",
    "    c = ListedColormap(('red', 'green'))(i), label = j)\n",
    "plt.title('Kernel SVM(Test set)')\n",
    "plt.xlabel('Age')\n",
    "plt.ylabel('Estimated Salary')\n",
    "plt.legend()\n",
    "plt.show()"
   ]
  },
  {
   "cell_type": "code",
   "execution_count": null,
   "id": "f54780de",
   "metadata": {
    "papermill": {
     "duration": 0.02168,
     "end_time": "2022-04-20T05:52:24.346388",
     "exception": false,
     "start_time": "2022-04-20T05:52:24.324708",
     "status": "completed"
    },
    "tags": []
   },
   "outputs": [],
   "source": []
  }
 ],
 "metadata": {
  "kernelspec": {
   "display_name": "Python 3",
   "language": "python",
   "name": "python3"
  },
  "language_info": {
   "codemirror_mode": {
    "name": "ipython",
    "version": 3
   },
   "file_extension": ".py",
   "mimetype": "text/x-python",
   "name": "python",
   "nbconvert_exporter": "python",
   "pygments_lexer": "ipython3",
   "version": "3.7.12"
  },
  "papermill": {
   "default_parameters": {},
   "duration": 19.828665,
   "end_time": "2022-04-20T05:52:26.988834",
   "environment_variables": {},
   "exception": null,
   "input_path": "__notebook__.ipynb",
   "output_path": "__notebook__.ipynb",
   "parameters": {},
   "start_time": "2022-04-20T05:52:07.160169",
   "version": "2.3.4"
  }
 },
 "nbformat": 4,
 "nbformat_minor": 5
}
