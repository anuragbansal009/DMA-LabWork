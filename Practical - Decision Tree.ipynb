{
 "cells": [
  {
   "cell_type": "markdown",
   "id": "db3d3d97",
   "metadata": {
    "papermill": {
     "duration": 0.019296,
     "end_time": "2022-03-02T07:59:05.613652",
     "exception": false,
     "start_time": "2022-03-02T07:59:05.594356",
     "status": "completed"
    },
    "tags": []
   },
   "source": [
    "<h3>Importing Libraries</h3>"
   ]
  },
  {
   "cell_type": "code",
   "execution_count": 1,
   "id": "9734a650",
   "metadata": {
    "execution": {
     "iopub.execute_input": "2022-03-02T07:59:05.666245Z",
     "iopub.status.busy": "2022-03-02T07:59:05.665546Z",
     "iopub.status.idle": "2022-03-02T07:59:07.206260Z",
     "shell.execute_reply": "2022-03-02T07:59:07.205395Z",
     "shell.execute_reply.started": "2022-03-02T07:58:19.359475Z"
    },
    "papermill": {
     "duration": 1.570241,
     "end_time": "2022-03-02T07:59:07.206465",
     "exception": false,
     "start_time": "2022-03-02T07:59:05.636224",
     "status": "completed"
    },
    "tags": []
   },
   "outputs": [],
   "source": [
    "import numpy as np\n",
    "import pandas as pd\n",
    "import seaborn as sns\n",
    "import matplotlib.pyplot as plt\n",
    "import missingno as msno\n",
    "import warnings\n",
    "warnings.filterwarnings(\"ignore\")\n",
    "\n",
    "from sklearn.model_selection import train_test_split\n",
    "from sklearn.preprocessing import StandardScaler\n",
    "from sklearn.impute import SimpleImputer\n"
   ]
  },
  {
   "cell_type": "markdown",
   "id": "e35c2c40",
   "metadata": {
    "papermill": {
     "duration": 0.017622,
     "end_time": "2022-03-02T07:59:07.243655",
     "exception": false,
     "start_time": "2022-03-02T07:59:07.226033",
     "status": "completed"
    },
    "tags": []
   },
   "source": [
    "<h3>Importing Data</h3>"
   ]
  },
  {
   "cell_type": "code",
   "execution_count": 2,
   "id": "7efc0aa0",
   "metadata": {
    "execution": {
     "iopub.execute_input": "2022-03-02T07:59:07.287366Z",
     "iopub.status.busy": "2022-03-02T07:59:07.286676Z",
     "iopub.status.idle": "2022-03-02T07:59:07.308385Z",
     "shell.execute_reply": "2022-03-02T07:59:07.308909Z",
     "shell.execute_reply.started": "2022-03-02T07:58:19.367674Z"
    },
    "papermill": {
     "duration": 0.044038,
     "end_time": "2022-03-02T07:59:07.309185",
     "exception": false,
     "start_time": "2022-03-02T07:59:07.265147",
     "status": "completed"
    },
    "tags": []
   },
   "outputs": [],
   "source": [
    "df = pd.read_csv('../input/practical2-dataset/Practical-3/Position_Salaries.csv')"
   ]
  },
  {
   "cell_type": "markdown",
   "id": "3e087f56",
   "metadata": {
    "papermill": {
     "duration": 0.017921,
     "end_time": "2022-03-02T07:59:07.345184",
     "exception": false,
     "start_time": "2022-03-02T07:59:07.327263",
     "status": "completed"
    },
    "tags": []
   },
   "source": [
    "<h3>Analysing Data</h3>"
   ]
  },
  {
   "cell_type": "code",
   "execution_count": 3,
   "id": "c074b4ba",
   "metadata": {
    "execution": {
     "iopub.execute_input": "2022-03-02T07:59:07.385427Z",
     "iopub.status.busy": "2022-03-02T07:59:07.384682Z",
     "iopub.status.idle": "2022-03-02T07:59:07.403947Z",
     "shell.execute_reply": "2022-03-02T07:59:07.404482Z",
     "shell.execute_reply.started": "2022-03-02T07:58:19.385898Z"
    },
    "papermill": {
     "duration": 0.041496,
     "end_time": "2022-03-02T07:59:07.404661",
     "exception": false,
     "start_time": "2022-03-02T07:59:07.363165",
     "status": "completed"
    },
    "tags": []
   },
   "outputs": [
    {
     "data": {
      "text/html": [
       "<div>\n",
       "<style scoped>\n",
       "    .dataframe tbody tr th:only-of-type {\n",
       "        vertical-align: middle;\n",
       "    }\n",
       "\n",
       "    .dataframe tbody tr th {\n",
       "        vertical-align: top;\n",
       "    }\n",
       "\n",
       "    .dataframe thead th {\n",
       "        text-align: right;\n",
       "    }\n",
       "</style>\n",
       "<table border=\"1\" class=\"dataframe\">\n",
       "  <thead>\n",
       "    <tr style=\"text-align: right;\">\n",
       "      <th></th>\n",
       "      <th>Position</th>\n",
       "      <th>Level</th>\n",
       "      <th>Salary</th>\n",
       "    </tr>\n",
       "  </thead>\n",
       "  <tbody>\n",
       "    <tr>\n",
       "      <th>0</th>\n",
       "      <td>Business Analyst</td>\n",
       "      <td>1</td>\n",
       "      <td>45000</td>\n",
       "    </tr>\n",
       "    <tr>\n",
       "      <th>1</th>\n",
       "      <td>Junior Consultant</td>\n",
       "      <td>2</td>\n",
       "      <td>50000</td>\n",
       "    </tr>\n",
       "    <tr>\n",
       "      <th>2</th>\n",
       "      <td>Senior Consultant</td>\n",
       "      <td>3</td>\n",
       "      <td>60000</td>\n",
       "    </tr>\n",
       "    <tr>\n",
       "      <th>3</th>\n",
       "      <td>Manager</td>\n",
       "      <td>4</td>\n",
       "      <td>80000</td>\n",
       "    </tr>\n",
       "    <tr>\n",
       "      <th>4</th>\n",
       "      <td>Country Manager</td>\n",
       "      <td>5</td>\n",
       "      <td>110000</td>\n",
       "    </tr>\n",
       "  </tbody>\n",
       "</table>\n",
       "</div>"
      ],
      "text/plain": [
       "            Position  Level  Salary\n",
       "0   Business Analyst      1   45000\n",
       "1  Junior Consultant      2   50000\n",
       "2  Senior Consultant      3   60000\n",
       "3            Manager      4   80000\n",
       "4    Country Manager      5  110000"
      ]
     },
     "execution_count": 3,
     "metadata": {},
     "output_type": "execute_result"
    }
   ],
   "source": [
    "df.head()"
   ]
  },
  {
   "cell_type": "code",
   "execution_count": 4,
   "id": "405a1bf1",
   "metadata": {
    "execution": {
     "iopub.execute_input": "2022-03-02T07:59:07.446878Z",
     "iopub.status.busy": "2022-03-02T07:59:07.446263Z",
     "iopub.status.idle": "2022-03-02T07:59:07.451968Z",
     "shell.execute_reply": "2022-03-02T07:59:07.452553Z",
     "shell.execute_reply.started": "2022-03-02T07:58:19.396135Z"
    },
    "papermill": {
     "duration": 0.02847,
     "end_time": "2022-03-02T07:59:07.452733",
     "exception": false,
     "start_time": "2022-03-02T07:59:07.424263",
     "status": "completed"
    },
    "tags": []
   },
   "outputs": [
    {
     "data": {
      "text/plain": [
       "(10, 3)"
      ]
     },
     "execution_count": 4,
     "metadata": {},
     "output_type": "execute_result"
    }
   ],
   "source": [
    "df.shape"
   ]
  },
  {
   "cell_type": "code",
   "execution_count": 5,
   "id": "48d35352",
   "metadata": {
    "execution": {
     "iopub.execute_input": "2022-03-02T07:59:07.494201Z",
     "iopub.status.busy": "2022-03-02T07:59:07.493505Z",
     "iopub.status.idle": "2022-03-02T07:59:07.518632Z",
     "shell.execute_reply": "2022-03-02T07:59:07.519278Z",
     "shell.execute_reply.started": "2022-03-02T07:58:19.405276Z"
    },
    "papermill": {
     "duration": 0.047685,
     "end_time": "2022-03-02T07:59:07.519473",
     "exception": false,
     "start_time": "2022-03-02T07:59:07.471788",
     "status": "completed"
    },
    "tags": []
   },
   "outputs": [
    {
     "name": "stdout",
     "output_type": "stream",
     "text": [
      "<class 'pandas.core.frame.DataFrame'>\n",
      "RangeIndex: 10 entries, 0 to 9\n",
      "Data columns (total 3 columns):\n",
      " #   Column    Non-Null Count  Dtype \n",
      "---  ------    --------------  ----- \n",
      " 0   Position  10 non-null     object\n",
      " 1   Level     10 non-null     int64 \n",
      " 2   Salary    10 non-null     int64 \n",
      "dtypes: int64(2), object(1)\n",
      "memory usage: 368.0+ bytes\n"
     ]
    }
   ],
   "source": [
    "df.info()"
   ]
  },
  {
   "cell_type": "code",
   "execution_count": 6,
   "id": "47ccd262",
   "metadata": {
    "execution": {
     "iopub.execute_input": "2022-03-02T07:59:07.569669Z",
     "iopub.status.busy": "2022-03-02T07:59:07.568949Z",
     "iopub.status.idle": "2022-03-02T07:59:07.588540Z",
     "shell.execute_reply": "2022-03-02T07:59:07.587791Z",
     "shell.execute_reply.started": "2022-03-02T07:58:19.423599Z"
    },
    "papermill": {
     "duration": 0.049614,
     "end_time": "2022-03-02T07:59:07.588690",
     "exception": false,
     "start_time": "2022-03-02T07:59:07.539076",
     "status": "completed"
    },
    "tags": []
   },
   "outputs": [
    {
     "data": {
      "text/html": [
       "<div>\n",
       "<style scoped>\n",
       "    .dataframe tbody tr th:only-of-type {\n",
       "        vertical-align: middle;\n",
       "    }\n",
       "\n",
       "    .dataframe tbody tr th {\n",
       "        vertical-align: top;\n",
       "    }\n",
       "\n",
       "    .dataframe thead th {\n",
       "        text-align: right;\n",
       "    }\n",
       "</style>\n",
       "<table border=\"1\" class=\"dataframe\">\n",
       "  <thead>\n",
       "    <tr style=\"text-align: right;\">\n",
       "      <th></th>\n",
       "      <th>count</th>\n",
       "      <th>mean</th>\n",
       "      <th>std</th>\n",
       "      <th>min</th>\n",
       "      <th>25%</th>\n",
       "      <th>50%</th>\n",
       "      <th>75%</th>\n",
       "      <th>max</th>\n",
       "    </tr>\n",
       "  </thead>\n",
       "  <tbody>\n",
       "    <tr>\n",
       "      <th>Level</th>\n",
       "      <td>10.0</td>\n",
       "      <td>5.5</td>\n",
       "      <td>3.027650</td>\n",
       "      <td>1.0</td>\n",
       "      <td>3.25</td>\n",
       "      <td>5.5</td>\n",
       "      <td>7.75</td>\n",
       "      <td>10.0</td>\n",
       "    </tr>\n",
       "    <tr>\n",
       "      <th>Salary</th>\n",
       "      <td>10.0</td>\n",
       "      <td>249500.0</td>\n",
       "      <td>299373.883668</td>\n",
       "      <td>45000.0</td>\n",
       "      <td>65000.00</td>\n",
       "      <td>130000.0</td>\n",
       "      <td>275000.00</td>\n",
       "      <td>1000000.0</td>\n",
       "    </tr>\n",
       "  </tbody>\n",
       "</table>\n",
       "</div>"
      ],
      "text/plain": [
       "        count      mean            std      min       25%       50%  \\\n",
       "Level    10.0       5.5       3.027650      1.0      3.25       5.5   \n",
       "Salary   10.0  249500.0  299373.883668  45000.0  65000.00  130000.0   \n",
       "\n",
       "              75%        max  \n",
       "Level        7.75       10.0  \n",
       "Salary  275000.00  1000000.0  "
      ]
     },
     "execution_count": 6,
     "metadata": {},
     "output_type": "execute_result"
    }
   ],
   "source": [
    "df.describe().T"
   ]
  },
  {
   "cell_type": "code",
   "execution_count": 7,
   "id": "249fa43b",
   "metadata": {
    "execution": {
     "iopub.execute_input": "2022-03-02T07:59:07.637805Z",
     "iopub.status.busy": "2022-03-02T07:59:07.637139Z",
     "iopub.status.idle": "2022-03-02T07:59:07.642097Z",
     "shell.execute_reply": "2022-03-02T07:59:07.641536Z",
     "shell.execute_reply.started": "2022-03-02T07:58:19.445193Z"
    },
    "papermill": {
     "duration": 0.03385,
     "end_time": "2022-03-02T07:59:07.642244",
     "exception": false,
     "start_time": "2022-03-02T07:59:07.608394",
     "status": "completed"
    },
    "tags": []
   },
   "outputs": [
    {
     "data": {
      "text/plain": [
       "Position    0\n",
       "Level       0\n",
       "Salary      0\n",
       "dtype: int64"
      ]
     },
     "execution_count": 7,
     "metadata": {},
     "output_type": "execute_result"
    }
   ],
   "source": [
    "df.isna().sum()"
   ]
  },
  {
   "cell_type": "code",
   "execution_count": 8,
   "id": "3e8c5a98",
   "metadata": {
    "execution": {
     "iopub.execute_input": "2022-03-02T07:59:07.687745Z",
     "iopub.status.busy": "2022-03-02T07:59:07.687096Z",
     "iopub.status.idle": "2022-03-02T07:59:08.216503Z",
     "shell.execute_reply": "2022-03-02T07:59:08.216990Z",
     "shell.execute_reply.started": "2022-03-02T07:58:19.454775Z"
    },
    "papermill": {
     "duration": 0.553462,
     "end_time": "2022-03-02T07:59:08.217234",
     "exception": false,
     "start_time": "2022-03-02T07:59:07.663772",
     "status": "completed"
    },
    "tags": []
   },
   "outputs": [
    {
     "data": {
      "text/plain": [
       "<AxesSubplot:>"
      ]
     },
     "execution_count": 8,
     "metadata": {},
     "output_type": "execute_result"
    },
    {
     "data": {
      "image/png": "[encoded data removed]",
      "text/plain": [
       "<Figure size 1800x720 with 2 Axes>"
      ]
     },
     "metadata": {
      "needs_background": "light"
     },
     "output_type": "display_data"
    }
   ],
   "source": [
    "msno.matrix(df)"
   ]
  },
  {
   "cell_type": "markdown",
   "id": "2b81b4c6",
   "metadata": {
    "papermill": {
     "duration": 0.023821,
     "end_time": "2022-03-02T07:59:08.262912",
     "exception": false,
     "start_time": "2022-03-02T07:59:08.239091",
     "status": "completed"
    },
    "tags": []
   },
   "source": [
    "<h3>Data Visualisation</h3>"
   ]
  },
  {
   "cell_type": "code",
   "execution_count": 9,
   "id": "68f4e280",
   "metadata": {
    "execution": {
     "iopub.execute_input": "2022-03-02T07:59:08.311067Z",
     "iopub.status.busy": "2022-03-02T07:59:08.309967Z",
     "iopub.status.idle": "2022-03-02T07:59:08.568844Z",
     "shell.execute_reply": "2022-03-02T07:59:08.569404Z",
     "shell.execute_reply.started": "2022-03-02T07:58:19.887856Z"
    },
    "papermill": {
     "duration": 0.284822,
     "end_time": "2022-03-02T07:59:08.569615",
     "exception": false,
     "start_time": "2022-03-02T07:59:08.284793",
     "status": "completed"
    },
    "tags": []
   },
   "outputs": [
    {
     "data": {
      "image/png": "[encoded data removed]",
      "text/plain": [
       "<Figure size 864x576 with 2 Axes>"
      ]
     },
     "metadata": {
      "needs_background": "light"
     },
     "output_type": "display_data"
    }
   ],
   "source": [
    "plt.figure(figsize=(12, 8))\n",
    "sns.heatmap(df.corr(), annot=True, cmap=\"icefire\")\n",
    "plt.title(\"Correlations Between Variables\", size=16)\n",
    "plt.show()"
   ]
  },
  {
   "cell_type": "markdown",
   "id": "2f73ee4c",
   "metadata": {
    "papermill": {
     "duration": 0.022425,
     "end_time": "2022-03-02T07:59:08.614733",
     "exception": false,
     "start_time": "2022-03-02T07:59:08.592308",
     "status": "completed"
    },
    "tags": []
   },
   "source": [
    "<h3>Distribute Data into labels and features</h3>"
   ]
  },
  {
   "cell_type": "code",
   "execution_count": 10,
   "id": "dfbe0867",
   "metadata": {
    "execution": {
     "iopub.execute_input": "2022-03-02T07:59:08.664666Z",
     "iopub.status.busy": "2022-03-02T07:59:08.663642Z",
     "iopub.status.idle": "2022-03-02T07:59:08.669322Z",
     "shell.execute_reply": "2022-03-02T07:59:08.669887Z",
     "shell.execute_reply.started": "2022-03-02T07:58:20.126578Z"
    },
    "papermill": {
     "duration": 0.032609,
     "end_time": "2022-03-02T07:59:08.670102",
     "exception": false,
     "start_time": "2022-03-02T07:59:08.637493",
     "status": "completed"
    },
    "tags": []
   },
   "outputs": [],
   "source": [
    "X = df.iloc[:, 1 : 2 ].values\n",
    "y = df.iloc[:, 2 ].values"
   ]
  },
  {
   "cell_type": "markdown",
   "id": "fd0e30d4",
   "metadata": {
    "papermill": {
     "duration": 0.022952,
     "end_time": "2022-03-02T07:59:08.717955",
     "exception": false,
     "start_time": "2022-03-02T07:59:08.695003",
     "status": "completed"
    },
    "tags": []
   },
   "source": [
    "<h3>Decision Tree Regression</h3>"
   ]
  },
  {
   "cell_type": "code",
   "execution_count": 11,
   "id": "ead6866e",
   "metadata": {
    "execution": {
     "iopub.execute_input": "2022-03-02T07:59:08.769246Z",
     "iopub.status.busy": "2022-03-02T07:59:08.768106Z",
     "iopub.status.idle": "2022-03-02T07:59:08.808675Z",
     "shell.execute_reply": "2022-03-02T07:59:08.809226Z",
     "shell.execute_reply.started": "2022-03-02T07:58:20.134332Z"
    },
    "papermill": {
     "duration": 0.068063,
     "end_time": "2022-03-02T07:59:08.809449",
     "exception": false,
     "start_time": "2022-03-02T07:59:08.741386",
     "status": "completed"
    },
    "tags": []
   },
   "outputs": [
    {
     "data": {
      "text/plain": [
       "DecisionTreeRegressor(random_state=0)"
      ]
     },
     "execution_count": 11,
     "metadata": {},
     "output_type": "execute_result"
    }
   ],
   "source": [
    "from sklearn.tree import DecisionTreeRegressor\n",
    "regressor = DecisionTreeRegressor(random_state = 0)\n",
    "regressor.fit(X, y)"
   ]
  },
  {
   "cell_type": "markdown",
   "id": "cc281f15",
   "metadata": {
    "papermill": {
     "duration": 0.024009,
     "end_time": "2022-03-02T07:59:08.857292",
     "exception": false,
     "start_time": "2022-03-02T07:59:08.833283",
     "status": "completed"
    },
    "tags": []
   },
   "source": [
    "<h3>Visualising the training set results</h3>"
   ]
  },
  {
   "cell_type": "code",
   "execution_count": 12,
   "id": "8cd4525c",
   "metadata": {
    "execution": {
     "iopub.execute_input": "2022-03-02T07:59:08.909469Z",
     "iopub.status.busy": "2022-03-02T07:59:08.908420Z",
     "iopub.status.idle": "2022-03-02T07:59:09.116151Z",
     "shell.execute_reply": "2022-03-02T07:59:09.116680Z",
     "shell.execute_reply.started": "2022-03-02T07:58:20.149852Z"
    },
    "papermill": {
     "duration": 0.236066,
     "end_time": "2022-03-02T07:59:09.116875",
     "exception": false,
     "start_time": "2022-03-02T07:59:08.880809",
     "status": "completed"
    },
    "tags": []
   },
   "outputs": [
    {
     "data": {
      "image/png": "[encoded data removed]",
      "text/plain": [
       "<Figure size 432x288 with 1 Axes>"
      ]
     },
     "metadata": {
      "needs_background": "light"
     },
     "output_type": "display_data"
    }
   ],
   "source": [
    "plt.scatter( X, y, color = 'red' )\n",
    "plt.plot( X, regressor.predict(X), color = 'blue')\n",
    "plt.title( 'Truth or Bluff (Decision Tree Regression )')\n",
    "plt.xlabel('Position_level')\n",
    "plt.ylabel('Salary')\n",
    "plt.show()"
   ]
  },
  {
   "cell_type": "code",
   "execution_count": 13,
   "id": "04aee514",
   "metadata": {
    "execution": {
     "iopub.execute_input": "2022-03-02T07:59:09.174293Z",
     "iopub.status.busy": "2022-03-02T07:59:09.173295Z",
     "iopub.status.idle": "2022-03-02T07:59:09.366366Z",
     "shell.execute_reply": "2022-03-02T07:59:09.366868Z",
     "shell.execute_reply.started": "2022-03-02T07:58:20.336023Z"
    },
    "papermill": {
     "duration": 0.226091,
     "end_time": "2022-03-02T07:59:09.367081",
     "exception": false,
     "start_time": "2022-03-02T07:59:09.140990",
     "status": "completed"
    },
    "tags": []
   },
   "outputs": [
    {
     "data": {
      "image/png": "[encoded data removed]",
      "text/plain": [
       "<Figure size 432x288 with 1 Axes>"
      ]
     },
     "metadata": {
      "needs_background": "light"
     },
     "output_type": "display_data"
    }
   ],
   "source": [
    "X_grid = np.arange(min(X), max(X), 0.1)\n",
    "X_grid = X_grid.reshape((len(X_grid), 1))\n",
    "plt.scatter( X, y, color = 'red' )\n",
    "plt.plot( X_grid, regressor.predict(X_grid ), color = 'blue')\n",
    "plt.title( 'Truth or Bluff(Decision Tree Regression)')\n",
    "plt.xlabel('Position_level')\n",
    "plt.ylabel('Salary')\n",
    "plt.show()"
   ]
  }
 ],
 "metadata": {
  "kernelspec": {
   "display_name": "Python 3",
   "language": "python",
   "name": "python3"
  },
  "language_info": {
   "codemirror_mode": {
    "name": "ipython",
    "version": 3
   },
   "file_extension": ".py",
   "mimetype": "text/x-python",
   "name": "python",
   "nbconvert_exporter": "python",
   "pygments_lexer": "ipython3",
   "version": "3.7.12"
  },
  "papermill": {
   "default_parameters": {},
   "duration": 15.64964,
   "end_time": "2022-03-02T07:59:10.304994",
   "environment_variables": {},
   "exception": null,
   "input_path": "__notebook__.ipynb",
   "output_path": "__notebook__.ipynb",
   "parameters": {},
   "start_time": "2022-03-02T07:58:54.655354",
   "version": "2.3.3"
  }
 },
 "nbformat": 4,
 "nbformat_minor": 5
}
