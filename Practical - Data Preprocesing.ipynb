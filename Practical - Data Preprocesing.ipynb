{
 "cells": [
  {
   "cell_type": "markdown",
   "id": "01e16bef",
   "metadata": {
    "papermill": {
     "duration": 0.025974,
     "end_time": "2022-03-09T07:38:01.654443",
     "exception": false,
     "start_time": "2022-03-09T07:38:01.628469",
     "status": "completed"
    },
    "tags": []
   },
   "source": [
    "<h3>Importing Libraries</h3>"
   ]
  },
  {
   "cell_type": "code",
   "execution_count": 1,
   "id": "3cdbd001",
   "metadata": {
    "_cell_guid": "b1076dfc-b9ad-4769-8c92-a6c4dae69d19",
    "_uuid": "8f2839f25d086af736a60e9eeb907d3b93b6e0e5",
    "execution": {
     "iopub.execute_input": "2022-03-09T07:38:01.712910Z",
     "iopub.status.busy": "2022-03-09T07:38:01.711131Z",
     "iopub.status.idle": "2022-03-09T07:38:03.372094Z",
     "shell.execute_reply": "2022-03-09T07:38:03.371330Z",
     "shell.execute_reply.started": "2022-03-09T07:36:50.999171Z"
    },
    "papermill": {
     "duration": 1.694515,
     "end_time": "2022-03-09T07:38:03.372284",
     "exception": false,
     "start_time": "2022-03-09T07:38:01.677769",
     "status": "completed"
    },
    "tags": []
   },
   "outputs": [],
   "source": [
    "import numpy as np\n",
    "import pandas as pd\n",
    "import seaborn as sns\n",
    "import matplotlib.pyplot as plt\n",
    "import missingno as msno\n",
    "import warnings\n",
    "warnings.filterwarnings(\"ignore\")\n",
    "\n",
    "from sklearn.model_selection import train_test_split\n",
    "from sklearn.preprocessing import StandardScaler\n",
    "from sklearn.impute import SimpleImputer\n"
   ]
  },
  {
   "cell_type": "markdown",
   "id": "5b1579f7",
   "metadata": {
    "papermill": {
     "duration": 0.021378,
     "end_time": "2022-03-09T07:38:03.417020",
     "exception": false,
     "start_time": "2022-03-09T07:38:03.395642",
     "status": "completed"
    },
    "tags": []
   },
   "source": [
    "<h3>Importing Data</h3>"
   ]
  },
  {
   "cell_type": "code",
   "execution_count": 2,
   "id": "6c5e5611",
   "metadata": {
    "execution": {
     "iopub.execute_input": "2022-03-09T07:38:03.465580Z",
     "iopub.status.busy": "2022-03-09T07:38:03.463279Z",
     "iopub.status.idle": "2022-03-09T07:38:03.496715Z",
     "shell.execute_reply": "2022-03-09T07:38:03.496080Z",
     "shell.execute_reply.started": "2022-03-09T07:36:52.454586Z"
    },
    "papermill": {
     "duration": 0.058176,
     "end_time": "2022-03-09T07:38:03.496880",
     "exception": false,
     "start_time": "2022-03-09T07:38:03.438704",
     "status": "completed"
    },
    "tags": []
   },
   "outputs": [],
   "source": [
    "df = pd.read_csv(\"../input/practical2-dataset/practical-1/Dataset.csv\")"
   ]
  },
  {
   "cell_type": "markdown",
   "id": "b8b94f68",
   "metadata": {
    "papermill": {
     "duration": 0.021619,
     "end_time": "2022-03-09T07:38:03.540420",
     "exception": false,
     "start_time": "2022-03-09T07:38:03.518801",
     "status": "completed"
    },
    "tags": []
   },
   "source": [
    "<h3>Analysing Data</h3>"
   ]
  },
  {
   "cell_type": "code",
   "execution_count": 3,
   "id": "36ce6465",
   "metadata": {
    "execution": {
     "iopub.execute_input": "2022-03-09T07:38:03.590759Z",
     "iopub.status.busy": "2022-03-09T07:38:03.589791Z",
     "iopub.status.idle": "2022-03-09T07:38:03.610375Z",
     "shell.execute_reply": "2022-03-09T07:38:03.610899Z",
     "shell.execute_reply.started": "2022-03-09T07:36:52.486899Z"
    },
    "papermill": {
     "duration": 0.049843,
     "end_time": "2022-03-09T07:38:03.611070",
     "exception": false,
     "start_time": "2022-03-09T07:38:03.561227",
     "status": "completed"
    },
    "tags": []
   },
   "outputs": [
    {
     "data": {
      "text/html": [
       "<div>\n",
       "<style scoped>\n",
       "    .dataframe tbody tr th:only-of-type {\n",
       "        vertical-align: middle;\n",
       "    }\n",
       "\n",
       "    .dataframe tbody tr th {\n",
       "        vertical-align: top;\n",
       "    }\n",
       "\n",
       "    .dataframe thead th {\n",
       "        text-align: right;\n",
       "    }\n",
       "</style>\n",
       "<table border=\"1\" class=\"dataframe\">\n",
       "  <thead>\n",
       "    <tr style=\"text-align: right;\">\n",
       "      <th></th>\n",
       "      <th>Country</th>\n",
       "      <th>ph</th>\n",
       "      <th>Hardness</th>\n",
       "      <th>Solids</th>\n",
       "      <th>Chloramines</th>\n",
       "      <th>Sulfate</th>\n",
       "      <th>Conductivity</th>\n",
       "      <th>Organic_carbon</th>\n",
       "      <th>Trihalomethanes</th>\n",
       "      <th>Turbidity</th>\n",
       "      <th>Drinkable</th>\n",
       "    </tr>\n",
       "  </thead>\n",
       "  <tbody>\n",
       "    <tr>\n",
       "      <th>0</th>\n",
       "      <td>Somalia</td>\n",
       "      <td>NaN</td>\n",
       "      <td>204.890456</td>\n",
       "      <td>20791.31898</td>\n",
       "      <td>7.300212</td>\n",
       "      <td>368.516441</td>\n",
       "      <td>564.308654</td>\n",
       "      <td>10.379783</td>\n",
       "      <td>86.990970</td>\n",
       "      <td>2.963135</td>\n",
       "      <td>0</td>\n",
       "    </tr>\n",
       "    <tr>\n",
       "      <th>1</th>\n",
       "      <td>Somalia</td>\n",
       "      <td>3.716080</td>\n",
       "      <td>129.422921</td>\n",
       "      <td>18630.05786</td>\n",
       "      <td>6.635246</td>\n",
       "      <td>NaN</td>\n",
       "      <td>592.885359</td>\n",
       "      <td>15.180013</td>\n",
       "      <td>56.329076</td>\n",
       "      <td>4.500656</td>\n",
       "      <td>0</td>\n",
       "    </tr>\n",
       "    <tr>\n",
       "      <th>2</th>\n",
       "      <td>Nigeria</td>\n",
       "      <td>8.099124</td>\n",
       "      <td>224.236259</td>\n",
       "      <td>19909.54173</td>\n",
       "      <td>9.275884</td>\n",
       "      <td>NaN</td>\n",
       "      <td>418.606213</td>\n",
       "      <td>16.868637</td>\n",
       "      <td>66.420093</td>\n",
       "      <td>3.055934</td>\n",
       "      <td>0</td>\n",
       "    </tr>\n",
       "    <tr>\n",
       "      <th>3</th>\n",
       "      <td>Sudan</td>\n",
       "      <td>8.316766</td>\n",
       "      <td>214.373394</td>\n",
       "      <td>22018.41744</td>\n",
       "      <td>8.059332</td>\n",
       "      <td>356.886136</td>\n",
       "      <td>363.266516</td>\n",
       "      <td>18.436525</td>\n",
       "      <td>100.341674</td>\n",
       "      <td>4.628771</td>\n",
       "      <td>0</td>\n",
       "    </tr>\n",
       "    <tr>\n",
       "      <th>4</th>\n",
       "      <td>Nigeria</td>\n",
       "      <td>9.092223</td>\n",
       "      <td>181.101509</td>\n",
       "      <td>17978.98634</td>\n",
       "      <td>6.546600</td>\n",
       "      <td>310.135738</td>\n",
       "      <td>398.410813</td>\n",
       "      <td>11.558279</td>\n",
       "      <td>31.997993</td>\n",
       "      <td>4.075075</td>\n",
       "      <td>0</td>\n",
       "    </tr>\n",
       "  </tbody>\n",
       "</table>\n",
       "</div>"
      ],
      "text/plain": [
       "   Country        ph    Hardness       Solids  Chloramines     Sulfate  \\\n",
       "0  Somalia       NaN  204.890456  20791.31898     7.300212  368.516441   \n",
       "1  Somalia  3.716080  129.422921  18630.05786     6.635246         NaN   \n",
       "2  Nigeria  8.099124  224.236259  19909.54173     9.275884         NaN   \n",
       "3    Sudan  8.316766  214.373394  22018.41744     8.059332  356.886136   \n",
       "4  Nigeria  9.092223  181.101509  17978.98634     6.546600  310.135738   \n",
       "\n",
       "   Conductivity  Organic_carbon  Trihalomethanes  Turbidity  Drinkable  \n",
       "0    564.308654       10.379783        86.990970   2.963135          0  \n",
       "1    592.885359       15.180013        56.329076   4.500656          0  \n",
       "2    418.606213       16.868637        66.420093   3.055934          0  \n",
       "3    363.266516       18.436525       100.341674   4.628771          0  \n",
       "4    398.410813       11.558279        31.997993   4.075075          0  "
      ]
     },
     "execution_count": 3,
     "metadata": {},
     "output_type": "execute_result"
    }
   ],
   "source": [
    "df.head()"
   ]
  },
  {
   "cell_type": "code",
   "execution_count": 4,
   "id": "419c8bfd",
   "metadata": {
    "execution": {
     "iopub.execute_input": "2022-03-09T07:38:03.658187Z",
     "iopub.status.busy": "2022-03-09T07:38:03.656033Z",
     "iopub.status.idle": "2022-03-09T07:38:03.661074Z",
     "shell.execute_reply": "2022-03-09T07:38:03.661719Z",
     "shell.execute_reply.started": "2022-03-09T07:36:52.515219Z"
    },
    "papermill": {
     "duration": 0.029659,
     "end_time": "2022-03-09T07:38:03.661894",
     "exception": false,
     "start_time": "2022-03-09T07:38:03.632235",
     "status": "completed"
    },
    "tags": []
   },
   "outputs": [
    {
     "data": {
      "text/plain": [
       "(3276, 11)"
      ]
     },
     "execution_count": 4,
     "metadata": {},
     "output_type": "execute_result"
    }
   ],
   "source": [
    "df.shape"
   ]
  },
  {
   "cell_type": "code",
   "execution_count": 5,
   "id": "0d181de7",
   "metadata": {
    "execution": {
     "iopub.execute_input": "2022-03-09T07:38:03.707984Z",
     "iopub.status.busy": "2022-03-09T07:38:03.707307Z",
     "iopub.status.idle": "2022-03-09T07:38:03.730128Z",
     "shell.execute_reply": "2022-03-09T07:38:03.730778Z",
     "shell.execute_reply.started": "2022-03-09T07:36:52.523313Z"
    },
    "papermill": {
     "duration": 0.047708,
     "end_time": "2022-03-09T07:38:03.730951",
     "exception": false,
     "start_time": "2022-03-09T07:38:03.683243",
     "status": "completed"
    },
    "tags": []
   },
   "outputs": [
    {
     "name": "stdout",
     "output_type": "stream",
     "text": [
      "<class 'pandas.core.frame.DataFrame'>\n",
      "RangeIndex: 3276 entries, 0 to 3275\n",
      "Data columns (total 11 columns):\n",
      " #   Column           Non-Null Count  Dtype  \n",
      "---  ------           --------------  -----  \n",
      " 0   Country          3276 non-null   object \n",
      " 1   ph               2785 non-null   float64\n",
      " 2   Hardness         3276 non-null   float64\n",
      " 3   Solids           3276 non-null   float64\n",
      " 4   Chloramines      3276 non-null   float64\n",
      " 5   Sulfate          2495 non-null   float64\n",
      " 6   Conductivity     3276 non-null   float64\n",
      " 7   Organic_carbon   3276 non-null   float64\n",
      " 8   Trihalomethanes  3114 non-null   float64\n",
      " 9   Turbidity        3276 non-null   float64\n",
      " 10  Drinkable        3276 non-null   int64  \n",
      "dtypes: float64(9), int64(1), object(1)\n",
      "memory usage: 281.7+ KB\n"
     ]
    }
   ],
   "source": [
    "df.info()"
   ]
  },
  {
   "cell_type": "code",
   "execution_count": 6,
   "id": "4d5ddbbe",
   "metadata": {
    "execution": {
     "iopub.execute_input": "2022-03-09T07:38:03.777642Z",
     "iopub.status.busy": "2022-03-09T07:38:03.776984Z",
     "iopub.status.idle": "2022-03-09T07:38:03.821245Z",
     "shell.execute_reply": "2022-03-09T07:38:03.821815Z",
     "shell.execute_reply.started": "2022-03-09T07:36:52.555906Z"
    },
    "papermill": {
     "duration": 0.069292,
     "end_time": "2022-03-09T07:38:03.821991",
     "exception": false,
     "start_time": "2022-03-09T07:38:03.752699",
     "status": "completed"
    },
    "tags": []
   },
   "outputs": [
    {
     "data": {
      "text/html": [
       "<div>\n",
       "<style scoped>\n",
       "    .dataframe tbody tr th:only-of-type {\n",
       "        vertical-align: middle;\n",
       "    }\n",
       "\n",
       "    .dataframe tbody tr th {\n",
       "        vertical-align: top;\n",
       "    }\n",
       "\n",
       "    .dataframe thead th {\n",
       "        text-align: right;\n",
       "    }\n",
       "</style>\n",
       "<table border=\"1\" class=\"dataframe\">\n",
       "  <thead>\n",
       "    <tr style=\"text-align: right;\">\n",
       "      <th></th>\n",
       "      <th>count</th>\n",
       "      <th>mean</th>\n",
       "      <th>std</th>\n",
       "      <th>min</th>\n",
       "      <th>25%</th>\n",
       "      <th>50%</th>\n",
       "      <th>75%</th>\n",
       "      <th>max</th>\n",
       "    </tr>\n",
       "  </thead>\n",
       "  <tbody>\n",
       "    <tr>\n",
       "      <th>ph</th>\n",
       "      <td>2785.0</td>\n",
       "      <td>7.080795</td>\n",
       "      <td>1.594320</td>\n",
       "      <td>0.000000</td>\n",
       "      <td>6.093092</td>\n",
       "      <td>7.036752</td>\n",
       "      <td>8.062066</td>\n",
       "      <td>14.000000</td>\n",
       "    </tr>\n",
       "    <tr>\n",
       "      <th>Hardness</th>\n",
       "      <td>3276.0</td>\n",
       "      <td>196.369496</td>\n",
       "      <td>32.879761</td>\n",
       "      <td>47.432000</td>\n",
       "      <td>176.850538</td>\n",
       "      <td>196.967627</td>\n",
       "      <td>216.667456</td>\n",
       "      <td>323.124000</td>\n",
       "    </tr>\n",
       "    <tr>\n",
       "      <th>Solids</th>\n",
       "      <td>3276.0</td>\n",
       "      <td>22014.092526</td>\n",
       "      <td>8768.570828</td>\n",
       "      <td>320.942611</td>\n",
       "      <td>15666.690300</td>\n",
       "      <td>20927.833605</td>\n",
       "      <td>27332.762125</td>\n",
       "      <td>61227.196010</td>\n",
       "    </tr>\n",
       "    <tr>\n",
       "      <th>Chloramines</th>\n",
       "      <td>3276.0</td>\n",
       "      <td>7.122277</td>\n",
       "      <td>1.583085</td>\n",
       "      <td>0.352000</td>\n",
       "      <td>6.127421</td>\n",
       "      <td>7.130299</td>\n",
       "      <td>8.114887</td>\n",
       "      <td>13.127000</td>\n",
       "    </tr>\n",
       "    <tr>\n",
       "      <th>Sulfate</th>\n",
       "      <td>2495.0</td>\n",
       "      <td>333.775777</td>\n",
       "      <td>41.416840</td>\n",
       "      <td>129.000000</td>\n",
       "      <td>307.699498</td>\n",
       "      <td>333.073546</td>\n",
       "      <td>359.950170</td>\n",
       "      <td>481.030642</td>\n",
       "    </tr>\n",
       "    <tr>\n",
       "      <th>Conductivity</th>\n",
       "      <td>3276.0</td>\n",
       "      <td>426.205111</td>\n",
       "      <td>80.824064</td>\n",
       "      <td>181.483754</td>\n",
       "      <td>365.734414</td>\n",
       "      <td>421.884968</td>\n",
       "      <td>481.792305</td>\n",
       "      <td>753.342620</td>\n",
       "    </tr>\n",
       "    <tr>\n",
       "      <th>Organic_carbon</th>\n",
       "      <td>3276.0</td>\n",
       "      <td>14.284970</td>\n",
       "      <td>3.308162</td>\n",
       "      <td>2.200000</td>\n",
       "      <td>12.065801</td>\n",
       "      <td>14.218338</td>\n",
       "      <td>16.557652</td>\n",
       "      <td>28.300000</td>\n",
       "    </tr>\n",
       "    <tr>\n",
       "      <th>Trihalomethanes</th>\n",
       "      <td>3114.0</td>\n",
       "      <td>66.396293</td>\n",
       "      <td>16.175008</td>\n",
       "      <td>0.738000</td>\n",
       "      <td>55.844536</td>\n",
       "      <td>66.622485</td>\n",
       "      <td>77.337473</td>\n",
       "      <td>124.000000</td>\n",
       "    </tr>\n",
       "    <tr>\n",
       "      <th>Turbidity</th>\n",
       "      <td>3276.0</td>\n",
       "      <td>3.966786</td>\n",
       "      <td>0.780382</td>\n",
       "      <td>1.450000</td>\n",
       "      <td>3.439711</td>\n",
       "      <td>3.955028</td>\n",
       "      <td>4.500320</td>\n",
       "      <td>6.739000</td>\n",
       "    </tr>\n",
       "    <tr>\n",
       "      <th>Drinkable</th>\n",
       "      <td>3276.0</td>\n",
       "      <td>0.390110</td>\n",
       "      <td>0.487849</td>\n",
       "      <td>0.000000</td>\n",
       "      <td>0.000000</td>\n",
       "      <td>0.000000</td>\n",
       "      <td>1.000000</td>\n",
       "      <td>1.000000</td>\n",
       "    </tr>\n",
       "  </tbody>\n",
       "</table>\n",
       "</div>"
      ],
      "text/plain": [
       "                  count          mean          std         min           25%  \\\n",
       "ph               2785.0      7.080795     1.594320    0.000000      6.093092   \n",
       "Hardness         3276.0    196.369496    32.879761   47.432000    176.850538   \n",
       "Solids           3276.0  22014.092526  8768.570828  320.942611  15666.690300   \n",
       "Chloramines      3276.0      7.122277     1.583085    0.352000      6.127421   \n",
       "Sulfate          2495.0    333.775777    41.416840  129.000000    307.699498   \n",
       "Conductivity     3276.0    426.205111    80.824064  181.483754    365.734414   \n",
       "Organic_carbon   3276.0     14.284970     3.308162    2.200000     12.065801   \n",
       "Trihalomethanes  3114.0     66.396293    16.175008    0.738000     55.844536   \n",
       "Turbidity        3276.0      3.966786     0.780382    1.450000      3.439711   \n",
       "Drinkable        3276.0      0.390110     0.487849    0.000000      0.000000   \n",
       "\n",
       "                          50%           75%           max  \n",
       "ph                   7.036752      8.062066     14.000000  \n",
       "Hardness           196.967627    216.667456    323.124000  \n",
       "Solids           20927.833605  27332.762125  61227.196010  \n",
       "Chloramines          7.130299      8.114887     13.127000  \n",
       "Sulfate            333.073546    359.950170    481.030642  \n",
       "Conductivity       421.884968    481.792305    753.342620  \n",
       "Organic_carbon      14.218338     16.557652     28.300000  \n",
       "Trihalomethanes     66.622485     77.337473    124.000000  \n",
       "Turbidity            3.955028      4.500320      6.739000  \n",
       "Drinkable            0.000000      1.000000      1.000000  "
      ]
     },
     "execution_count": 6,
     "metadata": {},
     "output_type": "execute_result"
    }
   ],
   "source": [
    "df.describe().T"
   ]
  },
  {
   "cell_type": "markdown",
   "id": "b17cadc9",
   "metadata": {
    "papermill": {
     "duration": 0.021975,
     "end_time": "2022-03-09T07:38:03.866548",
     "exception": false,
     "start_time": "2022-03-09T07:38:03.844573",
     "status": "completed"
    },
    "tags": []
   },
   "source": [
    "<h3>Handling Missing Values</h3>"
   ]
  },
  {
   "cell_type": "code",
   "execution_count": 7,
   "id": "a792a3cf",
   "metadata": {
    "execution": {
     "iopub.execute_input": "2022-03-09T07:38:03.915681Z",
     "iopub.status.busy": "2022-03-09T07:38:03.914985Z",
     "iopub.status.idle": "2022-03-09T07:38:03.922541Z",
     "shell.execute_reply": "2022-03-09T07:38:03.923013Z",
     "shell.execute_reply.started": "2022-03-09T07:36:52.602109Z"
    },
    "papermill": {
     "duration": 0.034446,
     "end_time": "2022-03-09T07:38:03.923190",
     "exception": false,
     "start_time": "2022-03-09T07:38:03.888744",
     "status": "completed"
    },
    "tags": []
   },
   "outputs": [
    {
     "data": {
      "text/plain": [
       "Country              0\n",
       "ph                 491\n",
       "Hardness             0\n",
       "Solids               0\n",
       "Chloramines          0\n",
       "Sulfate            781\n",
       "Conductivity         0\n",
       "Organic_carbon       0\n",
       "Trihalomethanes    162\n",
       "Turbidity            0\n",
       "Drinkable            0\n",
       "dtype: int64"
      ]
     },
     "execution_count": 7,
     "metadata": {},
     "output_type": "execute_result"
    }
   ],
   "source": [
    "df.isna().sum()"
   ]
  },
  {
   "cell_type": "code",
   "execution_count": 8,
   "id": "fc318786",
   "metadata": {
    "execution": {
     "iopub.execute_input": "2022-03-09T07:38:03.971978Z",
     "iopub.status.busy": "2022-03-09T07:38:03.971305Z",
     "iopub.status.idle": "2022-03-09T07:38:04.636068Z",
     "shell.execute_reply": "2022-03-09T07:38:04.636631Z",
     "shell.execute_reply.started": "2022-03-09T07:36:52.613229Z"
    },
    "papermill": {
     "duration": 0.690938,
     "end_time": "2022-03-09T07:38:04.636824",
     "exception": false,
     "start_time": "2022-03-09T07:38:03.945886",
     "status": "completed"
    },
    "tags": []
   },
   "outputs": [
    {
     "data": {
      "text/plain": [
       "<AxesSubplot:>"
      ]
     },
     "execution_count": 8,
     "metadata": {},
     "output_type": "execute_result"
    },
    {
     "data": {
      "image/png": "[encoded data removed]",
      "text/plain": [
       "<Figure size 1800x720 with 2 Axes>"
      ]
     },
     "metadata": {
      "needs_background": "light"
     },
     "output_type": "display_data"
    }
   ],
   "source": [
    "msno.matrix(df)"
   ]
  },
  {
   "cell_type": "markdown",
   "id": "f7bdbd83",
   "metadata": {
    "papermill": {
     "duration": 0.024025,
     "end_time": "2022-03-09T07:38:04.685500",
     "exception": false,
     "start_time": "2022-03-09T07:38:04.661475",
     "status": "completed"
    },
    "tags": []
   },
   "source": [
    "Imputing Missing Values"
   ]
  },
  {
   "cell_type": "code",
   "execution_count": 9,
   "id": "39731535",
   "metadata": {
    "execution": {
     "iopub.execute_input": "2022-03-09T07:38:04.741795Z",
     "iopub.status.busy": "2022-03-09T07:38:04.740720Z",
     "iopub.status.idle": "2022-03-09T07:38:04.747591Z",
     "shell.execute_reply": "2022-03-09T07:38:04.748510Z",
     "shell.execute_reply.started": "2022-03-09T07:36:53.284289Z"
    },
    "papermill": {
     "duration": 0.038915,
     "end_time": "2022-03-09T07:38:04.748707",
     "exception": false,
     "start_time": "2022-03-09T07:38:04.709792",
     "status": "completed"
    },
    "tags": []
   },
   "outputs": [],
   "source": [
    "imputer = SimpleImputer(missing_values=np.nan, strategy='mean')\n",
    "df.ph = imputer.fit_transform(df.ph.values.reshape(-1, 1))\n",
    "df.Sulfate = imputer.fit_transform(df.Sulfate.values.reshape(-1, 1))\n",
    "df.Trihalomethanes = imputer.fit_transform(df.Trihalomethanes.values.reshape(-1, 1))"
   ]
  },
  {
   "cell_type": "code",
   "execution_count": 10,
   "id": "055401f3",
   "metadata": {
    "execution": {
     "iopub.execute_input": "2022-03-09T07:38:04.825671Z",
     "iopub.status.busy": "2022-03-09T07:38:04.824545Z",
     "iopub.status.idle": "2022-03-09T07:38:04.839108Z",
     "shell.execute_reply": "2022-03-09T07:38:04.839959Z",
     "shell.execute_reply.started": "2022-03-09T07:36:53.297310Z"
    },
    "papermill": {
     "duration": 0.058826,
     "end_time": "2022-03-09T07:38:04.840284",
     "exception": false,
     "start_time": "2022-03-09T07:38:04.781458",
     "status": "completed"
    },
    "tags": []
   },
   "outputs": [
    {
     "data": {
      "text/html": [
       "<div>\n",
       "<style scoped>\n",
       "    .dataframe tbody tr th:only-of-type {\n",
       "        vertical-align: middle;\n",
       "    }\n",
       "\n",
       "    .dataframe tbody tr th {\n",
       "        vertical-align: top;\n",
       "    }\n",
       "\n",
       "    .dataframe thead th {\n",
       "        text-align: right;\n",
       "    }\n",
       "</style>\n",
       "<table border=\"1\" class=\"dataframe\">\n",
       "  <thead>\n",
       "    <tr style=\"text-align: right;\">\n",
       "      <th></th>\n",
       "      <th>Country</th>\n",
       "      <th>ph</th>\n",
       "      <th>Hardness</th>\n",
       "      <th>Solids</th>\n",
       "      <th>Chloramines</th>\n",
       "      <th>Sulfate</th>\n",
       "      <th>Conductivity</th>\n",
       "      <th>Organic_carbon</th>\n",
       "      <th>Trihalomethanes</th>\n",
       "      <th>Turbidity</th>\n",
       "      <th>Drinkable</th>\n",
       "    </tr>\n",
       "  </thead>\n",
       "  <tbody>\n",
       "    <tr>\n",
       "      <th>0</th>\n",
       "      <td>Somalia</td>\n",
       "      <td>7.080795</td>\n",
       "      <td>204.890456</td>\n",
       "      <td>20791.31898</td>\n",
       "      <td>7.300212</td>\n",
       "      <td>368.516441</td>\n",
       "      <td>564.308654</td>\n",
       "      <td>10.379783</td>\n",
       "      <td>86.990970</td>\n",
       "      <td>2.963135</td>\n",
       "      <td>0</td>\n",
       "    </tr>\n",
       "    <tr>\n",
       "      <th>1</th>\n",
       "      <td>Somalia</td>\n",
       "      <td>3.716080</td>\n",
       "      <td>129.422921</td>\n",
       "      <td>18630.05786</td>\n",
       "      <td>6.635246</td>\n",
       "      <td>333.775777</td>\n",
       "      <td>592.885359</td>\n",
       "      <td>15.180013</td>\n",
       "      <td>56.329076</td>\n",
       "      <td>4.500656</td>\n",
       "      <td>0</td>\n",
       "    </tr>\n",
       "    <tr>\n",
       "      <th>2</th>\n",
       "      <td>Nigeria</td>\n",
       "      <td>8.099124</td>\n",
       "      <td>224.236259</td>\n",
       "      <td>19909.54173</td>\n",
       "      <td>9.275884</td>\n",
       "      <td>333.775777</td>\n",
       "      <td>418.606213</td>\n",
       "      <td>16.868637</td>\n",
       "      <td>66.420093</td>\n",
       "      <td>3.055934</td>\n",
       "      <td>0</td>\n",
       "    </tr>\n",
       "    <tr>\n",
       "      <th>3</th>\n",
       "      <td>Sudan</td>\n",
       "      <td>8.316766</td>\n",
       "      <td>214.373394</td>\n",
       "      <td>22018.41744</td>\n",
       "      <td>8.059332</td>\n",
       "      <td>356.886136</td>\n",
       "      <td>363.266516</td>\n",
       "      <td>18.436525</td>\n",
       "      <td>100.341674</td>\n",
       "      <td>4.628771</td>\n",
       "      <td>0</td>\n",
       "    </tr>\n",
       "    <tr>\n",
       "      <th>4</th>\n",
       "      <td>Nigeria</td>\n",
       "      <td>9.092223</td>\n",
       "      <td>181.101509</td>\n",
       "      <td>17978.98634</td>\n",
       "      <td>6.546600</td>\n",
       "      <td>310.135738</td>\n",
       "      <td>398.410813</td>\n",
       "      <td>11.558279</td>\n",
       "      <td>31.997993</td>\n",
       "      <td>4.075075</td>\n",
       "      <td>0</td>\n",
       "    </tr>\n",
       "  </tbody>\n",
       "</table>\n",
       "</div>"
      ],
      "text/plain": [
       "   Country        ph    Hardness       Solids  Chloramines     Sulfate  \\\n",
       "0  Somalia  7.080795  204.890456  20791.31898     7.300212  368.516441   \n",
       "1  Somalia  3.716080  129.422921  18630.05786     6.635246  333.775777   \n",
       "2  Nigeria  8.099124  224.236259  19909.54173     9.275884  333.775777   \n",
       "3    Sudan  8.316766  214.373394  22018.41744     8.059332  356.886136   \n",
       "4  Nigeria  9.092223  181.101509  17978.98634     6.546600  310.135738   \n",
       "\n",
       "   Conductivity  Organic_carbon  Trihalomethanes  Turbidity  Drinkable  \n",
       "0    564.308654       10.379783        86.990970   2.963135          0  \n",
       "1    592.885359       15.180013        56.329076   4.500656          0  \n",
       "2    418.606213       16.868637        66.420093   3.055934          0  \n",
       "3    363.266516       18.436525       100.341674   4.628771          0  \n",
       "4    398.410813       11.558279        31.997993   4.075075          0  "
      ]
     },
     "execution_count": 10,
     "metadata": {},
     "output_type": "execute_result"
    }
   ],
   "source": [
    "df.head()"
   ]
  },
  {
   "cell_type": "code",
   "execution_count": 11,
   "id": "79c94aed",
   "metadata": {
    "execution": {
     "iopub.execute_input": "2022-03-09T07:38:04.918322Z",
     "iopub.status.busy": "2022-03-09T07:38:04.917634Z",
     "iopub.status.idle": "2022-03-09T07:38:04.933843Z",
     "shell.execute_reply": "2022-03-09T07:38:04.934305Z",
     "shell.execute_reply.started": "2022-03-09T07:36:53.318635Z"
    },
    "papermill": {
     "duration": 0.054422,
     "end_time": "2022-03-09T07:38:04.934525",
     "exception": false,
     "start_time": "2022-03-09T07:38:04.880103",
     "status": "completed"
    },
    "tags": []
   },
   "outputs": [
    {
     "name": "stdout",
     "output_type": "stream",
     "text": [
      "<class 'pandas.core.frame.DataFrame'>\n",
      "RangeIndex: 3276 entries, 0 to 3275\n",
      "Data columns (total 11 columns):\n",
      " #   Column           Non-Null Count  Dtype  \n",
      "---  ------           --------------  -----  \n",
      " 0   Country          3276 non-null   object \n",
      " 1   ph               3276 non-null   float64\n",
      " 2   Hardness         3276 non-null   float64\n",
      " 3   Solids           3276 non-null   float64\n",
      " 4   Chloramines      3276 non-null   float64\n",
      " 5   Sulfate          3276 non-null   float64\n",
      " 6   Conductivity     3276 non-null   float64\n",
      " 7   Organic_carbon   3276 non-null   float64\n",
      " 8   Trihalomethanes  3276 non-null   float64\n",
      " 9   Turbidity        3276 non-null   float64\n",
      " 10  Drinkable        3276 non-null   int64  \n",
      "dtypes: float64(9), int64(1), object(1)\n",
      "memory usage: 281.7+ KB\n"
     ]
    }
   ],
   "source": [
    "df.info()"
   ]
  },
  {
   "cell_type": "markdown",
   "id": "4c67314f",
   "metadata": {
    "papermill": {
     "duration": 0.026142,
     "end_time": "2022-03-09T07:38:04.986445",
     "exception": false,
     "start_time": "2022-03-09T07:38:04.960303",
     "status": "completed"
    },
    "tags": []
   },
   "source": [
    "<h3>Encoding Of Categorical Features</h3>"
   ]
  },
  {
   "cell_type": "code",
   "execution_count": 12,
   "id": "2717962b",
   "metadata": {
    "execution": {
     "iopub.execute_input": "2022-03-09T07:38:05.052405Z",
     "iopub.status.busy": "2022-03-09T07:38:05.051340Z",
     "iopub.status.idle": "2022-03-09T07:38:05.072625Z",
     "shell.execute_reply": "2022-03-09T07:38:05.073210Z",
     "shell.execute_reply.started": "2022-03-09T07:36:53.338660Z"
    },
    "papermill": {
     "duration": 0.060859,
     "end_time": "2022-03-09T07:38:05.073404",
     "exception": false,
     "start_time": "2022-03-09T07:38:05.012545",
     "status": "completed"
    },
    "tags": []
   },
   "outputs": [
    {
     "data": {
      "text/html": [
       "<div>\n",
       "<style scoped>\n",
       "    .dataframe tbody tr th:only-of-type {\n",
       "        vertical-align: middle;\n",
       "    }\n",
       "\n",
       "    .dataframe tbody tr th {\n",
       "        vertical-align: top;\n",
       "    }\n",
       "\n",
       "    .dataframe thead th {\n",
       "        text-align: right;\n",
       "    }\n",
       "</style>\n",
       "<table border=\"1\" class=\"dataframe\">\n",
       "  <thead>\n",
       "    <tr style=\"text-align: right;\">\n",
       "      <th></th>\n",
       "      <th>Nigeria</th>\n",
       "      <th>Somalia</th>\n",
       "      <th>Sudan</th>\n",
       "      <th>ph</th>\n",
       "      <th>Hardness</th>\n",
       "      <th>Solids</th>\n",
       "      <th>Chloramines</th>\n",
       "      <th>Sulfate</th>\n",
       "      <th>Conductivity</th>\n",
       "      <th>Organic_carbon</th>\n",
       "      <th>Trihalomethanes</th>\n",
       "      <th>Turbidity</th>\n",
       "      <th>Drinkable</th>\n",
       "    </tr>\n",
       "  </thead>\n",
       "  <tbody>\n",
       "    <tr>\n",
       "      <th>0</th>\n",
       "      <td>0</td>\n",
       "      <td>1</td>\n",
       "      <td>0</td>\n",
       "      <td>7.080795</td>\n",
       "      <td>204.890456</td>\n",
       "      <td>20791.31898</td>\n",
       "      <td>7.300212</td>\n",
       "      <td>368.516441</td>\n",
       "      <td>564.308654</td>\n",
       "      <td>10.379783</td>\n",
       "      <td>86.990970</td>\n",
       "      <td>2.963135</td>\n",
       "      <td>0</td>\n",
       "    </tr>\n",
       "    <tr>\n",
       "      <th>1</th>\n",
       "      <td>0</td>\n",
       "      <td>1</td>\n",
       "      <td>0</td>\n",
       "      <td>3.716080</td>\n",
       "      <td>129.422921</td>\n",
       "      <td>18630.05786</td>\n",
       "      <td>6.635246</td>\n",
       "      <td>333.775777</td>\n",
       "      <td>592.885359</td>\n",
       "      <td>15.180013</td>\n",
       "      <td>56.329076</td>\n",
       "      <td>4.500656</td>\n",
       "      <td>0</td>\n",
       "    </tr>\n",
       "    <tr>\n",
       "      <th>2</th>\n",
       "      <td>1</td>\n",
       "      <td>0</td>\n",
       "      <td>0</td>\n",
       "      <td>8.099124</td>\n",
       "      <td>224.236259</td>\n",
       "      <td>19909.54173</td>\n",
       "      <td>9.275884</td>\n",
       "      <td>333.775777</td>\n",
       "      <td>418.606213</td>\n",
       "      <td>16.868637</td>\n",
       "      <td>66.420093</td>\n",
       "      <td>3.055934</td>\n",
       "      <td>0</td>\n",
       "    </tr>\n",
       "    <tr>\n",
       "      <th>3</th>\n",
       "      <td>0</td>\n",
       "      <td>0</td>\n",
       "      <td>1</td>\n",
       "      <td>8.316766</td>\n",
       "      <td>214.373394</td>\n",
       "      <td>22018.41744</td>\n",
       "      <td>8.059332</td>\n",
       "      <td>356.886136</td>\n",
       "      <td>363.266516</td>\n",
       "      <td>18.436525</td>\n",
       "      <td>100.341674</td>\n",
       "      <td>4.628771</td>\n",
       "      <td>0</td>\n",
       "    </tr>\n",
       "    <tr>\n",
       "      <th>4</th>\n",
       "      <td>1</td>\n",
       "      <td>0</td>\n",
       "      <td>0</td>\n",
       "      <td>9.092223</td>\n",
       "      <td>181.101509</td>\n",
       "      <td>17978.98634</td>\n",
       "      <td>6.546600</td>\n",
       "      <td>310.135738</td>\n",
       "      <td>398.410813</td>\n",
       "      <td>11.558279</td>\n",
       "      <td>31.997993</td>\n",
       "      <td>4.075075</td>\n",
       "      <td>0</td>\n",
       "    </tr>\n",
       "  </tbody>\n",
       "</table>\n",
       "</div>"
      ],
      "text/plain": [
       "   Nigeria  Somalia  Sudan        ph    Hardness       Solids  Chloramines  \\\n",
       "0        0        1      0  7.080795  204.890456  20791.31898     7.300212   \n",
       "1        0        1      0  3.716080  129.422921  18630.05786     6.635246   \n",
       "2        1        0      0  8.099124  224.236259  19909.54173     9.275884   \n",
       "3        0        0      1  8.316766  214.373394  22018.41744     8.059332   \n",
       "4        1        0      0  9.092223  181.101509  17978.98634     6.546600   \n",
       "\n",
       "      Sulfate  Conductivity  Organic_carbon  Trihalomethanes  Turbidity  \\\n",
       "0  368.516441    564.308654       10.379783        86.990970   2.963135   \n",
       "1  333.775777    592.885359       15.180013        56.329076   4.500656   \n",
       "2  333.775777    418.606213       16.868637        66.420093   3.055934   \n",
       "3  356.886136    363.266516       18.436525       100.341674   4.628771   \n",
       "4  310.135738    398.410813       11.558279        31.997993   4.075075   \n",
       "\n",
       "   Drinkable  \n",
       "0          0  \n",
       "1          0  \n",
       "2          0  \n",
       "3          0  \n",
       "4          0  "
      ]
     },
     "execution_count": 12,
     "metadata": {},
     "output_type": "execute_result"
    }
   ],
   "source": [
    "df_cat = pd.get_dummies(df.Country)\n",
    "df_cat.head()\n",
    "\n",
    "df_nor = df.drop(['Country'], axis = 1)\n",
    "\n",
    "df = pd.concat([df_cat, df_nor], axis = 1)\n",
    "df.head()"
   ]
  },
  {
   "cell_type": "markdown",
   "id": "6809067a",
   "metadata": {
    "papermill": {
     "duration": 0.031856,
     "end_time": "2022-03-09T07:38:05.133544",
     "exception": false,
     "start_time": "2022-03-09T07:38:05.101688",
     "status": "completed"
    },
    "tags": []
   },
   "source": [
    "<h3>Data Visualization</h3>"
   ]
  },
  {
   "cell_type": "code",
   "execution_count": 13,
   "id": "4490c7b3",
   "metadata": {
    "execution": {
     "iopub.execute_input": "2022-03-09T07:38:05.198261Z",
     "iopub.status.busy": "2022-03-09T07:38:05.197236Z",
     "iopub.status.idle": "2022-03-09T07:38:05.321940Z",
     "shell.execute_reply": "2022-03-09T07:38:05.322795Z",
     "shell.execute_reply.started": "2022-03-09T07:36:53.368374Z"
    },
    "papermill": {
     "duration": 0.154955,
     "end_time": "2022-03-09T07:38:05.323035",
     "exception": false,
     "start_time": "2022-03-09T07:38:05.168080",
     "status": "completed"
    },
    "tags": []
   },
   "outputs": [
    {
     "data": {
      "image/png": "[encoded data removed]",
      "text/plain": [
       "<Figure size 432x288 with 1 Axes>"
      ]
     },
     "metadata": {},
     "output_type": "display_data"
    }
   ],
   "source": [
    "labels = ['Not Drinkable','Drinkable']\n",
    "values = [df[df[\"Drinkable\"]==0].shape[0], df[df[\"Drinkable\"]==1].shape[0]]\n",
    "\n",
    "fig, ax1 = plt.subplots()\n",
    "ax1.pie(values, labels=labels, autopct='%1.0f%%',\n",
    "        shadow=True, startangle=90)\n",
    "ax1.axis('equal')\n",
    "plt.show()"
   ]
  },
  {
   "cell_type": "markdown",
   "id": "0dfedc53",
   "metadata": {
    "papermill": {
     "duration": 0.02691,
     "end_time": "2022-03-09T07:38:05.382763",
     "exception": false,
     "start_time": "2022-03-09T07:38:05.355853",
     "status": "completed"
    },
    "tags": []
   },
   "source": [
    "Visualizing the linear correlations between variables using Heatmap Visualization."
   ]
  },
  {
   "cell_type": "code",
   "execution_count": 14,
   "id": "6a8190de",
   "metadata": {
    "execution": {
     "iopub.execute_input": "2022-03-09T07:38:05.440303Z",
     "iopub.status.busy": "2022-03-09T07:38:05.439328Z",
     "iopub.status.idle": "2022-03-09T07:38:06.637140Z",
     "shell.execute_reply": "2022-03-09T07:38:06.637754Z",
     "shell.execute_reply.started": "2022-03-09T07:36:53.494108Z"
    },
    "papermill": {
     "duration": 1.228175,
     "end_time": "2022-03-09T07:38:06.637962",
     "exception": false,
     "start_time": "2022-03-09T07:38:05.409787",
     "status": "completed"
    },
    "tags": []
   },
   "outputs": [
    {
     "data": {
      "image/png": "[encoded data removed]",
      "text/plain": [
       "<Figure size 864x576 with 2 Axes>"
      ]
     },
     "metadata": {
      "needs_background": "light"
     },
     "output_type": "display_data"
    }
   ],
   "source": [
    "plt.figure(figsize=(12, 8))\n",
    "sns.heatmap(df.corr(), annot=True, cmap=\"icefire\")\n",
    "plt.title(\"Correlations Between Variables\", size=16)\n",
    "plt.show()"
   ]
  },
  {
   "cell_type": "markdown",
   "id": "9a712fed",
   "metadata": {
    "papermill": {
     "duration": 0.030605,
     "end_time": "2022-03-09T07:38:06.699517",
     "exception": false,
     "start_time": "2022-03-09T07:38:06.668912",
     "status": "completed"
    },
    "tags": []
   },
   "source": [
    "<h3>Distribute Data into labels and features</h3>"
   ]
  },
  {
   "cell_type": "code",
   "execution_count": 15,
   "id": "d91d8eea",
   "metadata": {
    "execution": {
     "iopub.execute_input": "2022-03-09T07:38:06.766544Z",
     "iopub.status.busy": "2022-03-09T07:38:06.765747Z",
     "iopub.status.idle": "2022-03-09T07:38:06.768399Z",
     "shell.execute_reply": "2022-03-09T07:38:06.768937Z",
     "shell.execute_reply.started": "2022-03-09T07:36:54.621264Z"
    },
    "papermill": {
     "duration": 0.039647,
     "end_time": "2022-03-09T07:38:06.769114",
     "exception": false,
     "start_time": "2022-03-09T07:38:06.729467",
     "status": "completed"
    },
    "tags": []
   },
   "outputs": [],
   "source": [
    "X = np.array(df.iloc[:, :-1])\n",
    "y = np.array(df.iloc[:,-1])"
   ]
  },
  {
   "cell_type": "markdown",
   "id": "ba7e6a27",
   "metadata": {
    "papermill": {
     "duration": 0.02961,
     "end_time": "2022-03-09T07:38:06.829614",
     "exception": false,
     "start_time": "2022-03-09T07:38:06.800004",
     "status": "completed"
    },
    "tags": []
   },
   "source": [
    "<h3>Splitting Dataset into Training Set and Test Set</h3>"
   ]
  },
  {
   "cell_type": "code",
   "execution_count": 16,
   "id": "1e952352",
   "metadata": {
    "execution": {
     "iopub.execute_input": "2022-03-09T07:38:06.893366Z",
     "iopub.status.busy": "2022-03-09T07:38:06.892693Z",
     "iopub.status.idle": "2022-03-09T07:38:06.899898Z",
     "shell.execute_reply": "2022-03-09T07:38:06.899328Z",
     "shell.execute_reply.started": "2022-03-09T07:36:54.628657Z"
    },
    "papermill": {
     "duration": 0.040402,
     "end_time": "2022-03-09T07:38:06.900036",
     "exception": false,
     "start_time": "2022-03-09T07:38:06.859634",
     "status": "completed"
    },
    "tags": []
   },
   "outputs": [],
   "source": [
    "X_train, X_test, y_train, y_test = train_test_split(X, y, test_size=0.2, random_state=0)"
   ]
  },
  {
   "cell_type": "markdown",
   "id": "2b0ef4f9",
   "metadata": {
    "papermill": {
     "duration": 0.03013,
     "end_time": "2022-03-09T07:38:06.960148",
     "exception": false,
     "start_time": "2022-03-09T07:38:06.930018",
     "status": "completed"
    },
    "tags": []
   },
   "source": [
    "<h3>Feature Scaling (Normalization)</h3>"
   ]
  },
  {
   "cell_type": "code",
   "execution_count": 17,
   "id": "0a124ea7",
   "metadata": {
    "execution": {
     "iopub.execute_input": "2022-03-09T07:38:07.025501Z",
     "iopub.status.busy": "2022-03-09T07:38:07.024792Z",
     "iopub.status.idle": "2022-03-09T07:38:07.028869Z",
     "shell.execute_reply": "2022-03-09T07:38:07.029418Z",
     "shell.execute_reply.started": "2022-03-09T07:36:54.646890Z"
    },
    "papermill": {
     "duration": 0.039164,
     "end_time": "2022-03-09T07:38:07.029593",
     "exception": false,
     "start_time": "2022-03-09T07:38:06.990429",
     "status": "completed"
    },
    "tags": []
   },
   "outputs": [],
   "source": [
    "sc = StandardScaler()\n",
    "X_train = sc.fit_transform(X_train)\n",
    "X_test = sc.transform(X_test)"
   ]
  },
  {
   "cell_type": "code",
   "execution_count": 18,
   "id": "43189ffb",
   "metadata": {
    "execution": {
     "iopub.execute_input": "2022-03-09T07:38:07.097414Z",
     "iopub.status.busy": "2022-03-09T07:38:07.096522Z",
     "iopub.status.idle": "2022-03-09T07:38:07.099841Z",
     "shell.execute_reply": "2022-03-09T07:38:07.100345Z",
     "shell.execute_reply.started": "2022-03-09T07:36:54.660245Z"
    },
    "papermill": {
     "duration": 0.040385,
     "end_time": "2022-03-09T07:38:07.100534",
     "exception": false,
     "start_time": "2022-03-09T07:38:07.060149",
     "status": "completed"
    },
    "tags": []
   },
   "outputs": [
    {
     "data": {
      "text/plain": [
       "array([[-0.69781563, -0.70872673,  1.39896769, ...,  0.1880379 ,\n",
       "        -1.25125089, -1.51463513],\n",
       "       [ 1.43304328, -0.70872673, -0.71481279, ..., -1.18739347,\n",
       "        -1.34485656, -0.7843761 ],\n",
       "       [-0.69781563, -0.70872673,  1.39896769, ...,  1.21207458,\n",
       "        -1.51137132, -0.59739159],\n",
       "       ...,\n",
       "       [-0.69781563,  1.41098107, -0.71481279, ...,  0.34047695,\n",
       "        -0.63301136, -0.18534202],\n",
       "       [ 1.43304328, -0.70872673, -0.71481279, ...,  1.24828798,\n",
       "        -0.35018463,  1.37466739],\n",
       "       [ 1.43304328, -0.70872673, -0.71481279, ...,  0.27148617,\n",
       "         0.57423597,  0.21638536]])"
      ]
     },
     "execution_count": 18,
     "metadata": {},
     "output_type": "execute_result"
    }
   ],
   "source": [
    "X_train"
   ]
  }
 ],
 "metadata": {
  "kernelspec": {
   "display_name": "Python 3",
   "language": "python",
   "name": "python3"
  },
  "language_info": {
   "codemirror_mode": {
    "name": "ipython",
    "version": 3
   },
   "file_extension": ".py",
   "mimetype": "text/x-python",
   "name": "python",
   "nbconvert_exporter": "python",
   "pygments_lexer": "ipython3",
   "version": "3.7.10"
  },
  "papermill": {
   "default_parameters": {},
   "duration": 18.732147,
   "end_time": "2022-03-09T07:38:07.843420",
   "environment_variables": {},
   "exception": null,
   "input_path": "__notebook__.ipynb",
   "output_path": "__notebook__.ipynb",
   "parameters": {},
   "start_time": "2022-03-09T07:37:49.111273",
   "version": "2.3.3"
  }
 },
 "nbformat": 4,
 "nbformat_minor": 5
}
