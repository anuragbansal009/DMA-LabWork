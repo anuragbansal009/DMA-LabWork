{
 "cells": [
  {
   "cell_type": "markdown",
   "id": "14a33858",
   "metadata": {
    "papermill": {
     "duration": 0.032762,
     "end_time": "2022-03-02T08:00:54.723307",
     "exception": false,
     "start_time": "2022-03-02T08:00:54.690545",
     "status": "completed"
    },
    "tags": []
   },
   "source": [
    "<h3>Importing Libraries</h3>"
   ]
  },
  {
   "cell_type": "code",
   "execution_count": 1,
   "id": "1be71d8f",
   "metadata": {
    "_cell_guid": "b1076dfc-b9ad-4769-8c92-a6c4dae69d19",
    "_uuid": "8f2839f25d086af736a60e9eeb907d3b93b6e0e5",
    "execution": {
     "iopub.execute_input": "2022-03-02T08:00:54.791068Z",
     "iopub.status.busy": "2022-03-02T08:00:54.789175Z",
     "iopub.status.idle": "2022-03-02T08:00:56.338971Z",
     "shell.execute_reply": "2022-03-02T08:00:56.337539Z",
     "shell.execute_reply.started": "2022-03-02T07:34:38.048852Z"
    },
    "jupyter": {
     "source_hidden": true
    },
    "papermill": {
     "duration": 1.583683,
     "end_time": "2022-03-02T08:00:56.339284",
     "exception": false,
     "start_time": "2022-03-02T08:00:54.755601",
     "status": "completed"
    },
    "tags": []
   },
   "outputs": [],
   "source": [
    "import numpy as np\n",
    "import pandas as pd\n",
    "import seaborn as sns\n",
    "import matplotlib.pyplot as plt\n",
    "import missingno as msno\n",
    "import warnings\n",
    "warnings.filterwarnings(\"ignore\")\n",
    "\n",
    "from sklearn.model_selection import train_test_split\n",
    "from sklearn.preprocessing import StandardScaler\n",
    "from sklearn.impute import SimpleImputer\n"
   ]
  },
  {
   "cell_type": "markdown",
   "id": "85b512cc",
   "metadata": {
    "papermill": {
     "duration": 0.030874,
     "end_time": "2022-03-02T08:00:56.402109",
     "exception": false,
     "start_time": "2022-03-02T08:00:56.371235",
     "status": "completed"
    },
    "tags": []
   },
   "source": [
    "<h3>Importing Data</h3>"
   ]
  },
  {
   "cell_type": "code",
   "execution_count": 2,
   "id": "e4ec3746",
   "metadata": {
    "execution": {
     "iopub.execute_input": "2022-03-02T08:00:56.468392Z",
     "iopub.status.busy": "2022-03-02T08:00:56.467633Z",
     "iopub.status.idle": "2022-03-02T08:00:56.481451Z",
     "shell.execute_reply": "2022-03-02T08:00:56.482157Z",
     "shell.execute_reply.started": "2022-03-02T07:34:38.057125Z"
    },
    "papermill": {
     "duration": 0.050478,
     "end_time": "2022-03-02T08:00:56.482354",
     "exception": false,
     "start_time": "2022-03-02T08:00:56.431876",
     "status": "completed"
    },
    "tags": []
   },
   "outputs": [],
   "source": [
    "df = pd.read_csv(\"../input/practical2-dataset/Practical-3/Linear Regression - Sheet1.csv\")"
   ]
  },
  {
   "cell_type": "markdown",
   "id": "262116cf",
   "metadata": {
    "papermill": {
     "duration": 0.028131,
     "end_time": "2022-03-02T08:00:56.539343",
     "exception": false,
     "start_time": "2022-03-02T08:00:56.511212",
     "status": "completed"
    },
    "tags": []
   },
   "source": [
    "<h3>Analysing Data</h3>"
   ]
  },
  {
   "cell_type": "code",
   "execution_count": 3,
   "id": "392dbf78",
   "metadata": {
    "execution": {
     "iopub.execute_input": "2022-03-02T08:00:56.600817Z",
     "iopub.status.busy": "2022-03-02T08:00:56.600090Z",
     "iopub.status.idle": "2022-03-02T08:00:56.621580Z",
     "shell.execute_reply": "2022-03-02T08:00:56.622125Z",
     "shell.execute_reply.started": "2022-03-02T07:34:38.078148Z"
    },
    "papermill": {
     "duration": 0.054183,
     "end_time": "2022-03-02T08:00:56.622321",
     "exception": false,
     "start_time": "2022-03-02T08:00:56.568138",
     "status": "completed"
    },
    "tags": []
   },
   "outputs": [
    {
     "data": {
      "text/html": [
       "<div>\n",
       "<style scoped>\n",
       "    .dataframe tbody tr th:only-of-type {\n",
       "        vertical-align: middle;\n",
       "    }\n",
       "\n",
       "    .dataframe tbody tr th {\n",
       "        vertical-align: top;\n",
       "    }\n",
       "\n",
       "    .dataframe thead th {\n",
       "        text-align: right;\n",
       "    }\n",
       "</style>\n",
       "<table border=\"1\" class=\"dataframe\">\n",
       "  <thead>\n",
       "    <tr style=\"text-align: right;\">\n",
       "      <th></th>\n",
       "      <th>X</th>\n",
       "      <th>Y</th>\n",
       "    </tr>\n",
       "  </thead>\n",
       "  <tbody>\n",
       "    <tr>\n",
       "      <th>0</th>\n",
       "      <td>1</td>\n",
       "      <td>3.888889</td>\n",
       "    </tr>\n",
       "    <tr>\n",
       "      <th>1</th>\n",
       "      <td>2</td>\n",
       "      <td>4.555556</td>\n",
       "    </tr>\n",
       "    <tr>\n",
       "      <th>2</th>\n",
       "      <td>3</td>\n",
       "      <td>5.222222</td>\n",
       "    </tr>\n",
       "    <tr>\n",
       "      <th>3</th>\n",
       "      <td>4</td>\n",
       "      <td>5.888889</td>\n",
       "    </tr>\n",
       "    <tr>\n",
       "      <th>4</th>\n",
       "      <td>5</td>\n",
       "      <td>6.555556</td>\n",
       "    </tr>\n",
       "  </tbody>\n",
       "</table>\n",
       "</div>"
      ],
      "text/plain": [
       "   X         Y\n",
       "0  1  3.888889\n",
       "1  2  4.555556\n",
       "2  3  5.222222\n",
       "3  4  5.888889\n",
       "4  5  6.555556"
      ]
     },
     "execution_count": 3,
     "metadata": {},
     "output_type": "execute_result"
    }
   ],
   "source": [
    "df.head()"
   ]
  },
  {
   "cell_type": "code",
   "execution_count": 4,
   "id": "beb57d86",
   "metadata": {
    "execution": {
     "iopub.execute_input": "2022-03-02T08:00:56.690853Z",
     "iopub.status.busy": "2022-03-02T08:00:56.690122Z",
     "iopub.status.idle": "2022-03-02T08:00:56.695281Z",
     "shell.execute_reply": "2022-03-02T08:00:56.695880Z",
     "shell.execute_reply.started": "2022-03-02T07:34:38.091269Z"
    },
    "papermill": {
     "duration": 0.04247,
     "end_time": "2022-03-02T08:00:56.696068",
     "exception": false,
     "start_time": "2022-03-02T08:00:56.653598",
     "status": "completed"
    },
    "tags": []
   },
   "outputs": [
    {
     "data": {
      "text/plain": [
       "(300, 2)"
      ]
     },
     "execution_count": 4,
     "metadata": {},
     "output_type": "execute_result"
    }
   ],
   "source": [
    "df.shape"
   ]
  },
  {
   "cell_type": "code",
   "execution_count": 5,
   "id": "bd996f97",
   "metadata": {
    "execution": {
     "iopub.execute_input": "2022-03-02T08:00:56.762665Z",
     "iopub.status.busy": "2022-03-02T08:00:56.761877Z",
     "iopub.status.idle": "2022-03-02T08:00:56.784572Z",
     "shell.execute_reply": "2022-03-02T08:00:56.786295Z",
     "shell.execute_reply.started": "2022-03-02T07:34:38.103691Z"
    },
    "papermill": {
     "duration": 0.058544,
     "end_time": "2022-03-02T08:00:56.786514",
     "exception": false,
     "start_time": "2022-03-02T08:00:56.727970",
     "status": "completed"
    },
    "tags": []
   },
   "outputs": [
    {
     "name": "stdout",
     "output_type": "stream",
     "text": [
      "<class 'pandas.core.frame.DataFrame'>\n",
      "RangeIndex: 300 entries, 0 to 299\n",
      "Data columns (total 2 columns):\n",
      " #   Column  Non-Null Count  Dtype  \n",
      "---  ------  --------------  -----  \n",
      " 0   X       300 non-null    int64  \n",
      " 1   Y       300 non-null    float64\n",
      "dtypes: float64(1), int64(1)\n",
      "memory usage: 4.8 KB\n"
     ]
    }
   ],
   "source": [
    "df.info()"
   ]
  },
  {
   "cell_type": "code",
   "execution_count": 6,
   "id": "2e9e6165",
   "metadata": {
    "execution": {
     "iopub.execute_input": "2022-03-02T08:00:56.852242Z",
     "iopub.status.busy": "2022-03-02T08:00:56.851166Z",
     "iopub.status.idle": "2022-03-02T08:00:56.875873Z",
     "shell.execute_reply": "2022-03-02T08:00:56.875149Z",
     "shell.execute_reply.started": "2022-03-02T07:34:38.121632Z"
    },
    "papermill": {
     "duration": 0.057771,
     "end_time": "2022-03-02T08:00:56.876029",
     "exception": false,
     "start_time": "2022-03-02T08:00:56.818258",
     "status": "completed"
    },
    "tags": []
   },
   "outputs": [
    {
     "data": {
      "text/html": [
       "<div>\n",
       "<style scoped>\n",
       "    .dataframe tbody tr th:only-of-type {\n",
       "        vertical-align: middle;\n",
       "    }\n",
       "\n",
       "    .dataframe tbody tr th {\n",
       "        vertical-align: top;\n",
       "    }\n",
       "\n",
       "    .dataframe thead th {\n",
       "        text-align: right;\n",
       "    }\n",
       "</style>\n",
       "<table border=\"1\" class=\"dataframe\">\n",
       "  <thead>\n",
       "    <tr style=\"text-align: right;\">\n",
       "      <th></th>\n",
       "      <th>count</th>\n",
       "      <th>mean</th>\n",
       "      <th>std</th>\n",
       "      <th>min</th>\n",
       "      <th>25%</th>\n",
       "      <th>50%</th>\n",
       "      <th>75%</th>\n",
       "      <th>max</th>\n",
       "    </tr>\n",
       "  </thead>\n",
       "  <tbody>\n",
       "    <tr>\n",
       "      <th>X</th>\n",
       "      <td>300.0</td>\n",
       "      <td>150.500000</td>\n",
       "      <td>86.746758</td>\n",
       "      <td>1.000000</td>\n",
       "      <td>75.750000</td>\n",
       "      <td>150.500000</td>\n",
       "      <td>225.250000</td>\n",
       "      <td>300.000000</td>\n",
       "    </tr>\n",
       "    <tr>\n",
       "      <th>Y</th>\n",
       "      <td>300.0</td>\n",
       "      <td>102.215556</td>\n",
       "      <td>57.842711</td>\n",
       "      <td>1.888889</td>\n",
       "      <td>52.388889</td>\n",
       "      <td>102.222222</td>\n",
       "      <td>152.055556</td>\n",
       "      <td>201.888889</td>\n",
       "    </tr>\n",
       "  </tbody>\n",
       "</table>\n",
       "</div>"
      ],
      "text/plain": [
       "   count        mean        std       min        25%         50%         75%  \\\n",
       "X  300.0  150.500000  86.746758  1.000000  75.750000  150.500000  225.250000   \n",
       "Y  300.0  102.215556  57.842711  1.888889  52.388889  102.222222  152.055556   \n",
       "\n",
       "          max  \n",
       "X  300.000000  \n",
       "Y  201.888889  "
      ]
     },
     "execution_count": 6,
     "metadata": {},
     "output_type": "execute_result"
    }
   ],
   "source": [
    "df.describe().T"
   ]
  },
  {
   "cell_type": "markdown",
   "id": "17d5fb9d",
   "metadata": {
    "papermill": {
     "duration": 0.031639,
     "end_time": "2022-03-02T08:00:56.939727",
     "exception": false,
     "start_time": "2022-03-02T08:00:56.908088",
     "status": "completed"
    },
    "tags": []
   },
   "source": [
    "<h3>Handling Missing Values</h3>"
   ]
  },
  {
   "cell_type": "code",
   "execution_count": 7,
   "id": "68458df2",
   "metadata": {
    "execution": {
     "iopub.execute_input": "2022-03-02T08:00:57.012573Z",
     "iopub.status.busy": "2022-03-02T08:00:57.011374Z",
     "iopub.status.idle": "2022-03-02T08:00:57.015090Z",
     "shell.execute_reply": "2022-03-02T08:00:57.015588Z",
     "shell.execute_reply.started": "2022-03-02T07:34:38.152836Z"
    },
    "papermill": {
     "duration": 0.043178,
     "end_time": "2022-03-02T08:00:57.015789",
     "exception": false,
     "start_time": "2022-03-02T08:00:56.972611",
     "status": "completed"
    },
    "tags": []
   },
   "outputs": [
    {
     "data": {
      "text/plain": [
       "X    0\n",
       "Y    0\n",
       "dtype: int64"
      ]
     },
     "execution_count": 7,
     "metadata": {},
     "output_type": "execute_result"
    }
   ],
   "source": [
    "df.isna().sum()"
   ]
  },
  {
   "cell_type": "code",
   "execution_count": 8,
   "id": "83c52350",
   "metadata": {
    "execution": {
     "iopub.execute_input": "2022-03-02T08:00:57.090227Z",
     "iopub.status.busy": "2022-03-02T08:00:57.085439Z",
     "iopub.status.idle": "2022-03-02T08:00:57.572704Z",
     "shell.execute_reply": "2022-03-02T08:00:57.573257Z",
     "shell.execute_reply.started": "2022-03-02T07:34:38.165653Z"
    },
    "papermill": {
     "duration": 0.525688,
     "end_time": "2022-03-02T08:00:57.573460",
     "exception": false,
     "start_time": "2022-03-02T08:00:57.047772",
     "status": "completed"
    },
    "tags": []
   },
   "outputs": [
    {
     "data": {
      "text/plain": [
       "<AxesSubplot:>"
      ]
     },
     "execution_count": 8,
     "metadata": {},
     "output_type": "execute_result"
    },
    {
     "data": {
      "image/png": "[encoded data removed]",
      "text/plain": [
       "<Figure size 1800x720 with 2 Axes>"
      ]
     },
     "metadata": {
      "needs_background": "light"
     },
     "output_type": "display_data"
    }
   ],
   "source": [
    "msno.matrix(df)"
   ]
  },
  {
   "cell_type": "markdown",
   "id": "45a4ede5",
   "metadata": {
    "papermill": {
     "duration": 0.031638,
     "end_time": "2022-03-02T08:00:57.638157",
     "exception": false,
     "start_time": "2022-03-02T08:00:57.606519",
     "status": "completed"
    },
    "tags": []
   },
   "source": [
    "<h3>Data Visualization</h3>"
   ]
  },
  {
   "cell_type": "markdown",
   "id": "1a56ceec",
   "metadata": {
    "papermill": {
     "duration": 0.033682,
     "end_time": "2022-03-02T08:00:57.704617",
     "exception": false,
     "start_time": "2022-03-02T08:00:57.670935",
     "status": "completed"
    },
    "tags": []
   },
   "source": [
    "Visualizing the linear correlations between variables using Heatmap Visualization."
   ]
  },
  {
   "cell_type": "code",
   "execution_count": 9,
   "id": "61361b12",
   "metadata": {
    "execution": {
     "iopub.execute_input": "2022-03-02T08:00:57.777314Z",
     "iopub.status.busy": "2022-03-02T08:00:57.776542Z",
     "iopub.status.idle": "2022-03-02T08:00:58.061800Z",
     "shell.execute_reply": "2022-03-02T08:00:58.061074Z",
     "shell.execute_reply.started": "2022-03-02T07:34:38.71782Z"
    },
    "papermill": {
     "duration": 0.323115,
     "end_time": "2022-03-02T08:00:58.061950",
     "exception": false,
     "start_time": "2022-03-02T08:00:57.738835",
     "status": "completed"
    },
    "tags": []
   },
   "outputs": [
    {
     "data": {
      "image/png": "[encoded data removed]",
      "text/plain": [
       "<Figure size 864x576 with 2 Axes>"
      ]
     },
     "metadata": {
      "needs_background": "light"
     },
     "output_type": "display_data"
    }
   ],
   "source": [
    "plt.figure(figsize=(12, 8))\n",
    "sns.heatmap(df.corr(), annot=True, cmap=\"icefire\")\n",
    "plt.title(\"Correlations Between Variables\", size=16)\n",
    "plt.show()"
   ]
  },
  {
   "cell_type": "markdown",
   "id": "cdef82ee",
   "metadata": {
    "papermill": {
     "duration": 0.031936,
     "end_time": "2022-03-02T08:00:58.127304",
     "exception": false,
     "start_time": "2022-03-02T08:00:58.095368",
     "status": "completed"
    },
    "tags": []
   },
   "source": [
    "<h3>Distribute Data into labels and features</h3>"
   ]
  },
  {
   "cell_type": "code",
   "execution_count": 10,
   "id": "dd03a186",
   "metadata": {
    "execution": {
     "iopub.execute_input": "2022-03-02T08:00:58.199526Z",
     "iopub.status.busy": "2022-03-02T08:00:58.198460Z",
     "iopub.status.idle": "2022-03-02T08:00:58.201398Z",
     "shell.execute_reply": "2022-03-02T08:00:58.200815Z",
     "shell.execute_reply.started": "2022-03-02T07:34:38.949537Z"
    },
    "papermill": {
     "duration": 0.041647,
     "end_time": "2022-03-02T08:00:58.201551",
     "exception": false,
     "start_time": "2022-03-02T08:00:58.159904",
     "status": "completed"
    },
    "tags": []
   },
   "outputs": [],
   "source": [
    "X = np.array(df.iloc[:, 0:1])[:-3,:]\n",
    "y = np.array(df.iloc[:,-1])[:-3]"
   ]
  },
  {
   "cell_type": "code",
   "execution_count": 11,
   "id": "1277ad7c",
   "metadata": {
    "execution": {
     "iopub.execute_input": "2022-03-02T08:00:58.272078Z",
     "iopub.status.busy": "2022-03-02T08:00:58.271039Z",
     "iopub.status.idle": "2022-03-02T08:00:58.274195Z",
     "shell.execute_reply": "2022-03-02T08:00:58.273492Z",
     "shell.execute_reply.started": "2022-03-02T07:34:38.958443Z"
    },
    "papermill": {
     "duration": 0.039874,
     "end_time": "2022-03-02T08:00:58.274348",
     "exception": false,
     "start_time": "2022-03-02T08:00:58.234474",
     "status": "completed"
    },
    "tags": []
   },
   "outputs": [],
   "source": [
    "# X = np.array(df.iloc[:, 0:1])\n",
    "# y = np.array(df.iloc[:,-1])"
   ]
  },
  {
   "cell_type": "markdown",
   "id": "48099d5a",
   "metadata": {
    "papermill": {
     "duration": 0.034502,
     "end_time": "2022-03-02T08:00:58.341039",
     "exception": false,
     "start_time": "2022-03-02T08:00:58.306537",
     "status": "completed"
    },
    "tags": []
   },
   "source": [
    "<h3>Splitting Dataset into Training Set and Test Set</h3>"
   ]
  },
  {
   "cell_type": "code",
   "execution_count": 12,
   "id": "095142c6",
   "metadata": {
    "execution": {
     "iopub.execute_input": "2022-03-02T08:00:58.413220Z",
     "iopub.status.busy": "2022-03-02T08:00:58.412483Z",
     "iopub.status.idle": "2022-03-02T08:00:58.418271Z",
     "shell.execute_reply": "2022-03-02T08:00:58.417496Z",
     "shell.execute_reply.started": "2022-03-02T07:34:38.97119Z"
    },
    "papermill": {
     "duration": 0.043242,
     "end_time": "2022-03-02T08:00:58.418429",
     "exception": false,
     "start_time": "2022-03-02T08:00:58.375187",
     "status": "completed"
    },
    "tags": []
   },
   "outputs": [],
   "source": [
    "X_train, X_test, y_train, y_test = train_test_split(X, y, test_size=0.3, random_state=0)"
   ]
  },
  {
   "cell_type": "markdown",
   "id": "f84eb5d3",
   "metadata": {
    "papermill": {
     "duration": 0.032826,
     "end_time": "2022-03-02T08:00:58.485667",
     "exception": false,
     "start_time": "2022-03-02T08:00:58.452841",
     "status": "completed"
    },
    "tags": []
   },
   "source": [
    "<h3>Feature Scaling (Normalization)</h3>"
   ]
  },
  {
   "cell_type": "code",
   "execution_count": 13,
   "id": "756dfb6b",
   "metadata": {
    "execution": {
     "iopub.execute_input": "2022-03-02T08:00:58.559299Z",
     "iopub.status.busy": "2022-03-02T08:00:58.558404Z",
     "iopub.status.idle": "2022-03-02T08:00:58.563421Z",
     "shell.execute_reply": "2022-03-02T08:00:58.562692Z",
     "shell.execute_reply.started": "2022-03-02T07:34:38.981496Z"
    },
    "papermill": {
     "duration": 0.044933,
     "end_time": "2022-03-02T08:00:58.563580",
     "exception": false,
     "start_time": "2022-03-02T08:00:58.518647",
     "status": "completed"
    },
    "tags": []
   },
   "outputs": [],
   "source": [
    "sc = StandardScaler()\n",
    "X_train = sc.fit_transform(X_train)\n",
    "X_test = sc.transform(X_test)"
   ]
  },
  {
   "cell_type": "code",
   "execution_count": 14,
   "id": "b8425725",
   "metadata": {
    "execution": {
     "iopub.execute_input": "2022-03-02T08:00:58.639321Z",
     "iopub.status.busy": "2022-03-02T08:00:58.638307Z",
     "iopub.status.idle": "2022-03-02T08:00:58.643149Z",
     "shell.execute_reply": "2022-03-02T08:00:58.642513Z",
     "shell.execute_reply.started": "2022-03-02T07:34:38.999199Z"
    },
    "papermill": {
     "duration": 0.04717,
     "end_time": "2022-03-02T08:00:58.643300",
     "exception": false,
     "start_time": "2022-03-02T08:00:58.596130",
     "status": "completed"
    },
    "tags": []
   },
   "outputs": [
    {
     "data": {
      "text/plain": [
       "array([[ 0.29054198],\n",
       "       [ 0.37252744],\n",
       "       [-1.04464977],\n",
       "       [-0.09596089],\n",
       "       [-1.46628926],\n",
       "       [ 0.52478614],\n",
       "       [ 1.19238202],\n",
       "       [-0.31849285],\n",
       "       [-0.29506844],\n",
       "       [-0.84554223],\n",
       "       [-0.07253648],\n",
       "       [ 1.13382098],\n",
       "       [ 0.67704485],\n",
       "       [ 1.66087035],\n",
       "       [ 0.78245473],\n",
       "       [ 1.35635293],\n",
       "       [ 0.14999548],\n",
       "       [-1.29060614],\n",
       "       [-0.70499573],\n",
       "       [-0.16623414],\n",
       "       [-0.97437652],\n",
       "       [ 0.10314665],\n",
       "       [ 1.69600697],\n",
       "       [-0.3887661 ],\n",
       "       [-1.43115264],\n",
       "       [-1.33745497],\n",
       "       [ 0.7473181 ],\n",
       "       [-1.48971368],\n",
       "       [-1.02122535],\n",
       "       [-0.79869339],\n",
       "       [-0.22479519],\n",
       "       [ 0.02116119],\n",
       "       [ 0.1734199 ],\n",
       "       [ 1.27436747],\n",
       "       [-0.40047831],\n",
       "       [ 0.34910302],\n",
       "       [-1.63026018],\n",
       "       [-0.55273702],\n",
       "       [ 1.50861164],\n",
       "       [-0.96266431],\n",
       "       [-0.89239106],\n",
       "       [-0.1076731 ],\n",
       "       [ 0.59505939],\n",
       "       [ 0.26711756],\n",
       "       [ 1.55546047],\n",
       "       [-1.20862068],\n",
       "       [ 0.45451289],\n",
       "       [-1.52485031],\n",
       "       [-0.42390273],\n",
       "       [ 1.63744593],\n",
       "       [-1.64197239],\n",
       "       [ 0.12657106],\n",
       "       [-0.21308298],\n",
       "       [-1.39601601],\n",
       "       [-1.32574276],\n",
       "       [-0.77526898],\n",
       "       [ 1.53203606],\n",
       "       [ 1.33292852],\n",
       "       [-1.45457706],\n",
       "       [ 1.23923085],\n",
       "       [ 0.96985006],\n",
       "       [ 1.40320177],\n",
       "       [-0.74013235],\n",
       "       [-1.07978639],\n",
       "       [-1.6536846 ],\n",
       "       [ 1.01669889],\n",
       "       [-0.45903935],\n",
       "       [ 0.38423964],\n",
       "       [-0.6698591 ],\n",
       "       [-1.55998693],\n",
       "       [ 0.53649835],\n",
       "       [-0.99780093],\n",
       "       [-1.19690847],\n",
       "       [-1.5131381 ],\n",
       "       [ 0.13828327],\n",
       "       [-1.0914986 ],\n",
       "       [ 0.73560589],\n",
       "       [ 0.99327448],\n",
       "       [-0.23650739],\n",
       "       [ 0.84101577],\n",
       "       [-0.9509521 ],\n",
       "       [ 0.47793731],\n",
       "       [ 0.91128902],\n",
       "       [-0.15452194],\n",
       "       [ 1.70771918],\n",
       "       [ 0.77074252],\n",
       "       [-1.17348406],\n",
       "       [-0.34191727],\n",
       "       [-0.06082427],\n",
       "       [ 1.7311436 ],\n",
       "       [ 0.81759135],\n",
       "       [ 0.06801002],\n",
       "       [-0.36534169],\n",
       "       [ 1.68429476],\n",
       "       [-0.5293126 ],\n",
       "       [ 0.80587914],\n",
       "       [-0.58787364],\n",
       "       [ 0.66533264],\n",
       "       [ 0.22026873],\n",
       "       [-1.25546952],\n",
       "       [ 0.40766406],\n",
       "       [-0.35362948],\n",
       "       [-1.67710901],\n",
       "       [-0.57616143],\n",
       "       [-0.56444923],\n",
       "       [ 1.75456801],\n",
       "       [ 1.34464072],\n",
       "       [ 1.07525993],\n",
       "       [-0.86896664],\n",
       "       [-1.10321081],\n",
       "       [-1.11492302],\n",
       "       [-0.68157131],\n",
       "       [ 1.76628022],\n",
       "       [-0.02568765],\n",
       "       [-1.40772822],\n",
       "       [ 1.14553318],\n",
       "       [ 0.05629781],\n",
       "       [-0.00226323],\n",
       "       [-0.76355677],\n",
       "       [ 0.43108848],\n",
       "       [-0.50588818],\n",
       "       [ 0.71218148],\n",
       "       [-0.14280973],\n",
       "       [ 1.41491397],\n",
       "       [ 1.77799243],\n",
       "       [ 0.61848381],\n",
       "       [-1.60683576],\n",
       "       [-0.88067885],\n",
       "       [ 0.70046927],\n",
       "       [-0.69328352],\n",
       "       [ 0.3139664 ],\n",
       "       [-0.25993181],\n",
       "       [-0.03739985],\n",
       "       [ 1.74285581],\n",
       "       [ 1.49689943],\n",
       "       [-0.01397544],\n",
       "       [ 1.28607968],\n",
       "       [-0.61129806],\n",
       "       [-0.71670793],\n",
       "       [ 1.60230931],\n",
       "       [-1.54827472],\n",
       "       [-0.28335623],\n",
       "       [-0.48246377],\n",
       "       [-1.26718172],\n",
       "       [-1.00951314],\n",
       "       [ 0.30225419],\n",
       "       [ 1.0284111 ],\n",
       "       [-0.91581547],\n",
       "       [-1.66539681],\n",
       "       [-0.27164402],\n",
       "       [ 1.39148956],\n",
       "       [ 0.50136173],\n",
       "       [-1.18519627],\n",
       "       [-0.44732714],\n",
       "       [-0.13109752],\n",
       "       [-0.75184456],\n",
       "       [-1.47800147],\n",
       "       [ 1.36806514],\n",
       "       [ 1.04012331],\n",
       "       [-1.2320451 ],\n",
       "       [-0.11938531],\n",
       "       [-1.05636197],\n",
       "       [ 0.24369315],\n",
       "       [ 1.29779189],\n",
       "       [-0.17794635],\n",
       "       [-1.27889393],\n",
       "       [-1.34916718],\n",
       "       [ 0.4662251 ],\n",
       "       [ 0.23198094],\n",
       "       [ 0.09143444],\n",
       "       [ 1.18066981],\n",
       "       [ 0.68875706],\n",
       "       [-1.31403056],\n",
       "       [-1.30231835],\n",
       "       [-0.18965856],\n",
       "       [ 0.48964952],\n",
       "       [ 1.54374826],\n",
       "       [ 1.46176281],\n",
       "       [ 0.0445856 ],\n",
       "       [ 1.52032385],\n",
       "       [ 0.39595185],\n",
       "       [-0.51760039],\n",
       "       [ 0.63019602],\n",
       "       [ 1.1689576 ],\n",
       "       [-0.33020506],\n",
       "       [ 1.42662618],\n",
       "       [-0.83383002],\n",
       "       [-1.38430381],\n",
       "       [ 0.25540535],\n",
       "       [ 1.64915814],\n",
       "       [ 0.36081523],\n",
       "       [ 1.67258256],\n",
       "       [-1.22033289],\n",
       "       [ 0.58334719],\n",
       "       [-0.64643468],\n",
       "       [-0.85725443],\n",
       "       [-0.65814689],\n",
       "       [ 1.15724539],\n",
       "       [ 1.56717268],\n",
       "       [ 0.79416693],\n",
       "       [-1.57169914],\n",
       "       [ 0.6067716 ],\n",
       "       [ 1.26265527],\n",
       "       [ 0.57163498],\n",
       "       [-0.30678064],\n",
       "       [-1.12663522],\n",
       "       [ 0.33739081]])"
      ]
     },
     "execution_count": 14,
     "metadata": {},
     "output_type": "execute_result"
    }
   ],
   "source": [
    "X_train"
   ]
  },
  {
   "cell_type": "markdown",
   "id": "1637f824",
   "metadata": {
    "papermill": {
     "duration": 0.033764,
     "end_time": "2022-03-02T08:00:58.711662",
     "exception": false,
     "start_time": "2022-03-02T08:00:58.677898",
     "status": "completed"
    },
    "tags": []
   },
   "source": [
    "<h3>Simple Linear Regression</h3>"
   ]
  },
  {
   "cell_type": "markdown",
   "id": "3c9d5c84",
   "metadata": {
    "papermill": {
     "duration": 0.033273,
     "end_time": "2022-03-02T08:00:58.778979",
     "exception": false,
     "start_time": "2022-03-02T08:00:58.745706",
     "status": "completed"
    },
    "tags": []
   },
   "source": [
    "Fitting Simple Linear Regression to the Training set"
   ]
  },
  {
   "cell_type": "code",
   "execution_count": 15,
   "id": "c3550782",
   "metadata": {
    "execution": {
     "iopub.execute_input": "2022-03-02T08:00:58.867008Z",
     "iopub.status.busy": "2022-03-02T08:00:58.866087Z",
     "iopub.status.idle": "2022-03-02T08:00:58.874394Z",
     "shell.execute_reply": "2022-03-02T08:00:58.873638Z",
     "shell.execute_reply.started": "2022-03-02T07:34:39.015618Z"
    },
    "papermill": {
     "duration": 0.060148,
     "end_time": "2022-03-02T08:00:58.874547",
     "exception": false,
     "start_time": "2022-03-02T08:00:58.814399",
     "status": "completed"
    },
    "tags": []
   },
   "outputs": [
    {
     "data": {
      "text/plain": [
       "LinearRegression()"
      ]
     },
     "execution_count": 15,
     "metadata": {},
     "output_type": "execute_result"
    }
   ],
   "source": [
    "from sklearn.linear_model import LinearRegression\n",
    "lin_reg = LinearRegression()\n",
    "lin_reg.fit(X_train, y_train)"
   ]
  },
  {
   "cell_type": "markdown",
   "id": "9e72b3d5",
   "metadata": {
    "papermill": {
     "duration": 0.033585,
     "end_time": "2022-03-02T08:00:58.943115",
     "exception": false,
     "start_time": "2022-03-02T08:00:58.909530",
     "status": "completed"
    },
    "tags": []
   },
   "source": [
    "<h3>Polynomial Linear Regression</h3>"
   ]
  },
  {
   "cell_type": "markdown",
   "id": "a68d7c3c",
   "metadata": {
    "papermill": {
     "duration": 0.032863,
     "end_time": "2022-03-02T08:00:59.011627",
     "exception": false,
     "start_time": "2022-03-02T08:00:58.978764",
     "status": "completed"
    },
    "tags": []
   },
   "source": [
    "Fitting Polynomial Linear Regression to the Training set"
   ]
  },
  {
   "cell_type": "code",
   "execution_count": 16,
   "id": "95599c42",
   "metadata": {
    "execution": {
     "iopub.execute_input": "2022-03-02T08:00:59.091339Z",
     "iopub.status.busy": "2022-03-02T08:00:59.090591Z",
     "iopub.status.idle": "2022-03-02T08:00:59.094373Z",
     "shell.execute_reply": "2022-03-02T08:00:59.093640Z",
     "shell.execute_reply.started": "2022-03-02T07:34:39.029674Z"
    },
    "papermill": {
     "duration": 0.047435,
     "end_time": "2022-03-02T08:00:59.094528",
     "exception": false,
     "start_time": "2022-03-02T08:00:59.047093",
     "status": "completed"
    },
    "tags": []
   },
   "outputs": [
    {
     "data": {
      "text/plain": [
       "LinearRegression()"
      ]
     },
     "execution_count": 16,
     "metadata": {},
     "output_type": "execute_result"
    }
   ],
   "source": [
    "from sklearn.preprocessing import PolynomialFeatures\n",
    "poly_reg = PolynomialFeatures(degree = 16)\n",
    "X_poly = poly_reg.fit_transform(X_train)\n",
    "lin_reg_2 = LinearRegression()\n",
    "lin_reg_2.fit(X_poly, y_train)"
   ]
  },
  {
   "cell_type": "markdown",
   "id": "769067bb",
   "metadata": {
    "papermill": {
     "duration": 0.034215,
     "end_time": "2022-03-02T08:00:59.164658",
     "exception": false,
     "start_time": "2022-03-02T08:00:59.130443",
     "status": "completed"
    },
    "tags": []
   },
   "source": [
    "<h3>Visualising the training set results</h3>\n",
    "Simple Linear Regression"
   ]
  },
  {
   "cell_type": "code",
   "execution_count": 17,
   "id": "cd163aae",
   "metadata": {
    "execution": {
     "iopub.execute_input": "2022-03-02T08:00:59.248510Z",
     "iopub.status.busy": "2022-03-02T08:00:59.247678Z",
     "iopub.status.idle": "2022-03-02T08:00:59.484954Z",
     "shell.execute_reply": "2022-03-02T08:00:59.485509Z",
     "shell.execute_reply.started": "2022-03-02T07:34:39.044976Z"
    },
    "papermill": {
     "duration": 0.285273,
     "end_time": "2022-03-02T08:00:59.485703",
     "exception": false,
     "start_time": "2022-03-02T08:00:59.200430",
     "status": "completed"
    },
    "tags": []
   },
   "outputs": [
    {
     "data": {
      "image/png": "[encoded data removed]",
      "text/plain": [
       "<Figure size 432x288 with 1 Axes>"
      ]
     },
     "metadata": {
      "needs_background": "light"
     },
     "output_type": "display_data"
    }
   ],
   "source": [
    "plt.scatter(X_train, y_train, color = 'red')\n",
    "plt.plot(X_train, lin_reg.predict(X_train), color = 'blue')\n",
    "plt.title('Truth or Bluff(Linear Regression)')\n",
    "plt.xlabel('Position Level')\n",
    "plt.ylabel('Salary')\n",
    "plt.show()"
   ]
  },
  {
   "cell_type": "markdown",
   "id": "a541bdb8",
   "metadata": {
    "papermill": {
     "duration": 0.03452,
     "end_time": "2022-03-02T08:00:59.618211",
     "exception": false,
     "start_time": "2022-03-02T08:00:59.583691",
     "status": "completed"
    },
    "tags": []
   },
   "source": [
    "Polynomial Linear Regression (Smooth Curve)"
   ]
  },
  {
   "cell_type": "code",
   "execution_count": 18,
   "id": "3f36665a",
   "metadata": {
    "execution": {
     "iopub.execute_input": "2022-03-02T08:00:59.694436Z",
     "iopub.status.busy": "2022-03-02T08:00:59.693676Z",
     "iopub.status.idle": "2022-03-02T08:00:59.941627Z",
     "shell.execute_reply": "2022-03-02T08:00:59.942210Z",
     "shell.execute_reply.started": "2022-03-02T07:34:39.247183Z"
    },
    "papermill": {
     "duration": 0.287452,
     "end_time": "2022-03-02T08:00:59.942396",
     "exception": false,
     "start_time": "2022-03-02T08:00:59.654944",
     "status": "completed"
    },
    "tags": []
   },
   "outputs": [
    {
     "data": {
      "image/png": "[encoded data removed]",
      "text/plain": [
       "<Figure size 432x288 with 1 Axes>"
      ]
     },
     "metadata": {
      "needs_background": "light"
     },
     "output_type": "display_data"
    }
   ],
   "source": [
    "X_grid = np.arange(min(X_train), max(X_train), 0.1)\n",
    "X_grid = X_grid.reshape((len(X_grid), 1))\n",
    "plt.scatter(X_train, y_train, color = 'red')\n",
    "plt.plot(X_grid, lin_reg_2.predict(poly_reg.fit_transform(X_grid)), color = 'blue')\n",
    "plt.title('Truth or Bluff(Linear Regression)')\n",
    "plt.xlabel('Position Level')\n",
    "plt.ylabel('Salary')\n",
    "plt.show()"
   ]
  },
  {
   "cell_type": "markdown",
   "id": "e7c0e4d2",
   "metadata": {
    "papermill": {
     "duration": 0.039532,
     "end_time": "2022-03-02T08:01:00.021238",
     "exception": false,
     "start_time": "2022-03-02T08:00:59.981706",
     "status": "completed"
    },
    "tags": []
   },
   "source": [
    "<h3>Visualising the test set results</h3>\n",
    "Simple Linear Regression"
   ]
  },
  {
   "cell_type": "code",
   "execution_count": 19,
   "id": "216a2cea",
   "metadata": {
    "execution": {
     "iopub.execute_input": "2022-03-02T08:01:00.099443Z",
     "iopub.status.busy": "2022-03-02T08:01:00.098653Z",
     "iopub.status.idle": "2022-03-02T08:01:00.341704Z",
     "shell.execute_reply": "2022-03-02T08:01:00.342330Z",
     "shell.execute_reply.started": "2022-03-02T07:34:39.401135Z"
    },
    "papermill": {
     "duration": 0.28417,
     "end_time": "2022-03-02T08:01:00.342525",
     "exception": false,
     "start_time": "2022-03-02T08:01:00.058355",
     "status": "completed"
    },
    "tags": []
   },
   "outputs": [
    {
     "data": {
      "image/png": "[encoded data removed]",
      "text/plain": [
       "<Figure size 432x288 with 1 Axes>"
      ]
     },
     "metadata": {
      "needs_background": "light"
     },
     "output_type": "display_data"
    }
   ],
   "source": [
    "plt.scatter(X_test, y_test, color = 'red')\n",
    "plt.plot(X_test, lin_reg.predict(X_test), color = 'blue')\n",
    "plt.title('Truth or Bluff(Linear Regression)')\n",
    "plt.xlabel('Position Level')\n",
    "plt.ylabel('Salary')\n",
    "plt.show()"
   ]
  },
  {
   "cell_type": "code",
   "execution_count": 20,
   "id": "c5a7103f",
   "metadata": {
    "execution": {
     "iopub.execute_input": "2022-03-02T08:01:00.419970Z",
     "iopub.status.busy": "2022-03-02T08:01:00.419220Z",
     "iopub.status.idle": "2022-03-02T08:01:00.657433Z",
     "shell.execute_reply": "2022-03-02T08:01:00.658056Z",
     "shell.execute_reply.started": "2022-03-02T07:34:39.607208Z"
    },
    "papermill": {
     "duration": 0.278918,
     "end_time": "2022-03-02T08:01:00.658240",
     "exception": false,
     "start_time": "2022-03-02T08:01:00.379322",
     "status": "completed"
    },
    "tags": []
   },
   "outputs": [
    {
     "data": {
      "image/png": "[encoded data removed]",
      "text/plain": [
       "<Figure size 432x288 with 1 Axes>"
      ]
     },
     "metadata": {
      "needs_background": "light"
     },
     "output_type": "display_data"
    }
   ],
   "source": [
    "X_grid = np.arange(min(X_test), max(X_test), 0.1)\n",
    "X_grid = X_grid.reshape((len(X_grid), 1))\n",
    "plt.scatter(X_test, y_test, color = 'red')\n",
    "plt.plot(X_grid, lin_reg_2.predict(poly_reg.fit_transform(X_grid)), color = 'blue')\n",
    "plt.title('Truth or Bluff(Linear Regression)')\n",
    "plt.xlabel('Position Level')\n",
    "plt.ylabel('Salary')\n",
    "plt.show()"
   ]
  },
  {
   "cell_type": "markdown",
   "id": "62311d6c",
   "metadata": {
    "papermill": {
     "duration": 0.037632,
     "end_time": "2022-03-02T08:01:00.735100",
     "exception": false,
     "start_time": "2022-03-02T08:01:00.697468",
     "status": "completed"
    },
    "tags": []
   },
   "source": [
    "<h3>Prediction</h3>"
   ]
  },
  {
   "cell_type": "code",
   "execution_count": 21,
   "id": "fcd941e1",
   "metadata": {
    "execution": {
     "iopub.execute_input": "2022-03-02T08:01:00.815395Z",
     "iopub.status.busy": "2022-03-02T08:01:00.814600Z",
     "iopub.status.idle": "2022-03-02T08:01:00.820613Z",
     "shell.execute_reply": "2022-03-02T08:01:00.820032Z",
     "shell.execute_reply.started": "2022-03-02T07:34:39.819766Z"
    },
    "papermill": {
     "duration": 0.048179,
     "end_time": "2022-03-02T08:01:00.820791",
     "exception": false,
     "start_time": "2022-03-02T08:01:00.772612",
     "status": "completed"
    },
    "tags": []
   },
   "outputs": [],
   "source": [
    "y_pred = lin_reg.predict(X_test)\n"
   ]
  },
  {
   "cell_type": "code",
   "execution_count": 22,
   "id": "a38c8fe4",
   "metadata": {
    "execution": {
     "iopub.execute_input": "2022-03-02T08:01:00.905036Z",
     "iopub.status.busy": "2022-03-02T08:01:00.903579Z",
     "iopub.status.idle": "2022-03-02T08:01:00.906530Z",
     "shell.execute_reply": "2022-03-02T08:01:00.907238Z",
     "shell.execute_reply.started": "2022-03-02T07:34:39.830736Z"
    },
    "papermill": {
     "duration": 0.047221,
     "end_time": "2022-03-02T08:01:00.907443",
     "exception": false,
     "start_time": "2022-03-02T08:01:00.860222",
     "status": "completed"
    },
    "tags": []
   },
   "outputs": [],
   "source": [
    "# y_pred = lin_reg.predict(poly_reg.fit_transform(X_test))\n",
    "# y_pred"
   ]
  },
  {
   "cell_type": "markdown",
   "id": "a11f1a41",
   "metadata": {
    "papermill": {
     "duration": 0.039988,
     "end_time": "2022-03-02T08:01:00.987857",
     "exception": false,
     "start_time": "2022-03-02T08:01:00.947869",
     "status": "completed"
    },
    "tags": []
   },
   "source": [
    "<h3>Error</h3>"
   ]
  },
  {
   "cell_type": "code",
   "execution_count": 23,
   "id": "3c5cf6e0",
   "metadata": {
    "execution": {
     "iopub.execute_input": "2022-03-02T08:01:01.071236Z",
     "iopub.status.busy": "2022-03-02T08:01:01.070053Z",
     "iopub.status.idle": "2022-03-02T08:01:01.080945Z",
     "shell.execute_reply": "2022-03-02T08:01:01.080264Z",
     "shell.execute_reply.started": "2022-03-02T07:34:39.836796Z"
    },
    "papermill": {
     "duration": 0.054549,
     "end_time": "2022-03-02T08:01:01.081168",
     "exception": false,
     "start_time": "2022-03-02T08:01:01.026619",
     "status": "completed"
    },
    "tags": []
   },
   "outputs": [
    {
     "name": "stdout",
     "output_type": "stream",
     "text": [
      "Squared:  4.547701388913135e-16\n",
      "Absolute:  1.473684324200993e-08\n",
      "Max:  3.766702150187484e-08\n",
      "Median:  4.2344012740613834e-09\n"
     ]
    }
   ],
   "source": [
    "from sklearn.metrics import mean_absolute_error\n",
    "from sklearn.metrics import mean_squared_error\n",
    "from sklearn.metrics import max_error\n",
    "from sklearn.metrics import median_absolute_error\n",
    "\n",
    "print(\"Squared: \", mean_squared_error(y_test, y_pred))\n",
    "print(\"Absolute: \", mean_absolute_error(y_test, y_pred))\n",
    "print(\"Max: \", max_error(y_test, y_pred))\n",
    "print(\"Median: \", median_absolute_error(y_test, y_pred))\n"
   ]
  },
  {
   "cell_type": "markdown",
   "id": "6685e1a7",
   "metadata": {
    "papermill": {
     "duration": 0.040156,
     "end_time": "2022-03-02T08:01:01.159557",
     "exception": false,
     "start_time": "2022-03-02T08:01:01.119401",
     "status": "completed"
    },
    "tags": []
   },
   "source": [
    "<h3>Deviance</h3>"
   ]
  },
  {
   "cell_type": "code",
   "execution_count": 24,
   "id": "fff8f555",
   "metadata": {
    "execution": {
     "iopub.execute_input": "2022-03-02T08:01:01.253390Z",
     "iopub.status.busy": "2022-03-02T08:01:01.252493Z",
     "iopub.status.idle": "2022-03-02T08:01:01.255510Z",
     "shell.execute_reply": "2022-03-02T08:01:01.256168Z",
     "shell.execute_reply.started": "2022-03-02T07:34:39.852366Z"
    },
    "papermill": {
     "duration": 0.053458,
     "end_time": "2022-03-02T08:01:01.256349",
     "exception": false,
     "start_time": "2022-03-02T08:01:01.202891",
     "status": "completed"
    },
    "tags": []
   },
   "outputs": [
    {
     "name": "stdout",
     "output_type": "stream",
     "text": [
      "Mean Gamma Deviance:  -5.674473236973022e-17\n",
      "Mean Poisson Deviance:  5.131697536045168e-16\n",
      "Mean Tweedie Deviance:  4.547701388913135e-16\n"
     ]
    }
   ],
   "source": [
    "from sklearn.metrics import mean_gamma_deviance\n",
    "from sklearn.metrics import mean_poisson_deviance\n",
    "from sklearn.metrics import mean_tweedie_deviance\n",
    "\n",
    "print(\"Mean Gamma Deviance: \", mean_gamma_deviance(y_test, y_pred))\n",
    "print(\"Mean Poisson Deviance: \", mean_poisson_deviance(y_test, y_pred))\n",
    "print(\"Mean Tweedie Deviance: \", mean_tweedie_deviance(y_test, y_pred))"
   ]
  }
 ],
 "metadata": {
  "kernelspec": {
   "display_name": "Python 3",
   "language": "python",
   "name": "python3"
  },
  "language_info": {
   "codemirror_mode": {
    "name": "ipython",
    "version": 3
   },
   "file_extension": ".py",
   "mimetype": "text/x-python",
   "name": "python",
   "nbconvert_exporter": "python",
   "pygments_lexer": "ipython3",
   "version": "3.7.10"
  },
  "papermill": {
   "default_parameters": {},
   "duration": 18.297286,
   "end_time": "2022-03-02T08:01:02.213101",
   "environment_variables": {},
   "exception": null,
   "input_path": "__notebook__.ipynb",
   "output_path": "__notebook__.ipynb",
   "parameters": {},
   "start_time": "2022-03-02T08:00:43.915815",
   "version": "2.3.3"
  }
 },
 "nbformat": 4,
 "nbformat_minor": 5
}
