{
 "cells": [
  {
   "cell_type": "code",
   "execution_count": 1,
   "id": "fa8fef16",
   "metadata": {
    "_cell_guid": "b1076dfc-b9ad-4769-8c92-a6c4dae69d19",
    "_uuid": "8f2839f25d086af736a60e9eeb907d3b93b6e0e5",
    "execution": {
     "iopub.execute_input": "2022-03-06T16:22:31.346294Z",
     "iopub.status.busy": "2022-03-06T16:22:31.345021Z",
     "iopub.status.idle": "2022-03-06T16:22:32.989428Z",
     "shell.execute_reply": "2022-03-06T16:22:32.988417Z",
     "shell.execute_reply.started": "2022-03-06T16:20:06.382468Z"
    },
    "papermill": {
     "duration": 1.677103,
     "end_time": "2022-03-06T16:22:32.989681",
     "exception": false,
     "start_time": "2022-03-06T16:22:31.312578",
     "status": "completed"
    },
    "tags": []
   },
   "outputs": [],
   "source": [
    "import numpy as np # linear algebra\n",
    "import pandas as pd # data processing, CSV file I/O (e.g. pd.read_csv)\n",
    "\n",
    "# EDA\n",
    "import matplotlib.pyplot as plt\n",
    "import seaborn as sns\n",
    "\n",
    "# preprocessing\n",
    "from sklearn.model_selection import train_test_split\n",
    "from sklearn.preprocessing import PowerTransformer\n",
    "from sklearn.preprocessing import StandardScaler\n",
    "from sklearn.preprocessing import Normalizer\n",
    "\n",
    "#models\n",
    "from sklearn.linear_model import LinearRegression\n",
    "from sklearn.tree import DecisionTreeRegressor\n",
    "from sklearn.svm import SVR\n",
    "from sklearn.linear_model import BayesianRidge\n"
   ]
  },
  {
   "cell_type": "markdown",
   "id": "fa18c730",
   "metadata": {
    "papermill": {
     "duration": 0.028998,
     "end_time": "2022-03-06T16:22:33.050861",
     "exception": false,
     "start_time": "2022-03-06T16:22:33.021863",
     "status": "completed"
    },
    "tags": []
   },
   "source": [
    "# Data Preparation"
   ]
  },
  {
   "cell_type": "code",
   "execution_count": 2,
   "id": "5ae1f76e",
   "metadata": {
    "execution": {
     "iopub.execute_input": "2022-03-06T16:22:33.109294Z",
     "iopub.status.busy": "2022-03-06T16:22:33.108180Z",
     "iopub.status.idle": "2022-03-06T16:22:33.195520Z",
     "shell.execute_reply": "2022-03-06T16:22:33.196075Z",
     "shell.execute_reply.started": "2022-03-06T16:20:06.392456Z"
    },
    "papermill": {
     "duration": 0.118993,
     "end_time": "2022-03-06T16:22:33.196259",
     "exception": false,
     "start_time": "2022-03-06T16:22:33.077266",
     "status": "completed"
    },
    "tags": []
   },
   "outputs": [
    {
     "data": {
      "text/html": [
       "<div>\n",
       "<style scoped>\n",
       "    .dataframe tbody tr th:only-of-type {\n",
       "        vertical-align: middle;\n",
       "    }\n",
       "\n",
       "    .dataframe tbody tr th {\n",
       "        vertical-align: top;\n",
       "    }\n",
       "\n",
       "    .dataframe thead th {\n",
       "        text-align: right;\n",
       "    }\n",
       "</style>\n",
       "<table border=\"1\" class=\"dataframe\">\n",
       "  <thead>\n",
       "    <tr style=\"text-align: right;\">\n",
       "      <th></th>\n",
       "      <th>longitude</th>\n",
       "      <th>latitude</th>\n",
       "      <th>housing_median_age</th>\n",
       "      <th>total_rooms</th>\n",
       "      <th>total_bedrooms</th>\n",
       "      <th>population</th>\n",
       "      <th>households</th>\n",
       "      <th>median_income</th>\n",
       "      <th>median_house_value</th>\n",
       "      <th>ocean_proximity</th>\n",
       "    </tr>\n",
       "  </thead>\n",
       "  <tbody>\n",
       "    <tr>\n",
       "      <th>0</th>\n",
       "      <td>-122.23</td>\n",
       "      <td>37.88</td>\n",
       "      <td>41.0</td>\n",
       "      <td>880.0</td>\n",
       "      <td>129.0</td>\n",
       "      <td>322.0</td>\n",
       "      <td>126.0</td>\n",
       "      <td>8.3252</td>\n",
       "      <td>452600.0</td>\n",
       "      <td>NEAR BAY</td>\n",
       "    </tr>\n",
       "    <tr>\n",
       "      <th>1</th>\n",
       "      <td>-122.22</td>\n",
       "      <td>37.86</td>\n",
       "      <td>21.0</td>\n",
       "      <td>7099.0</td>\n",
       "      <td>1106.0</td>\n",
       "      <td>2401.0</td>\n",
       "      <td>1138.0</td>\n",
       "      <td>8.3014</td>\n",
       "      <td>358500.0</td>\n",
       "      <td>NEAR BAY</td>\n",
       "    </tr>\n",
       "    <tr>\n",
       "      <th>2</th>\n",
       "      <td>-122.24</td>\n",
       "      <td>37.85</td>\n",
       "      <td>52.0</td>\n",
       "      <td>1467.0</td>\n",
       "      <td>190.0</td>\n",
       "      <td>496.0</td>\n",
       "      <td>177.0</td>\n",
       "      <td>7.2574</td>\n",
       "      <td>352100.0</td>\n",
       "      <td>NEAR BAY</td>\n",
       "    </tr>\n",
       "    <tr>\n",
       "      <th>3</th>\n",
       "      <td>-122.25</td>\n",
       "      <td>37.85</td>\n",
       "      <td>52.0</td>\n",
       "      <td>1274.0</td>\n",
       "      <td>235.0</td>\n",
       "      <td>558.0</td>\n",
       "      <td>219.0</td>\n",
       "      <td>5.6431</td>\n",
       "      <td>341300.0</td>\n",
       "      <td>NEAR BAY</td>\n",
       "    </tr>\n",
       "    <tr>\n",
       "      <th>4</th>\n",
       "      <td>-122.25</td>\n",
       "      <td>37.85</td>\n",
       "      <td>52.0</td>\n",
       "      <td>1627.0</td>\n",
       "      <td>280.0</td>\n",
       "      <td>565.0</td>\n",
       "      <td>259.0</td>\n",
       "      <td>3.8462</td>\n",
       "      <td>342200.0</td>\n",
       "      <td>NEAR BAY</td>\n",
       "    </tr>\n",
       "  </tbody>\n",
       "</table>\n",
       "</div>"
      ],
      "text/plain": [
       "   longitude  latitude  housing_median_age  total_rooms  total_bedrooms  \\\n",
       "0    -122.23     37.88                41.0        880.0           129.0   \n",
       "1    -122.22     37.86                21.0       7099.0          1106.0   \n",
       "2    -122.24     37.85                52.0       1467.0           190.0   \n",
       "3    -122.25     37.85                52.0       1274.0           235.0   \n",
       "4    -122.25     37.85                52.0       1627.0           280.0   \n",
       "\n",
       "   population  households  median_income  median_house_value ocean_proximity  \n",
       "0       322.0       126.0         8.3252            452600.0        NEAR BAY  \n",
       "1      2401.0      1138.0         8.3014            358500.0        NEAR BAY  \n",
       "2       496.0       177.0         7.2574            352100.0        NEAR BAY  \n",
       "3       558.0       219.0         5.6431            341300.0        NEAR BAY  \n",
       "4       565.0       259.0         3.8462            342200.0        NEAR BAY  "
      ]
     },
     "execution_count": 2,
     "metadata": {},
     "output_type": "execute_result"
    }
   ],
   "source": [
    "df = pd.read_csv(\"../input/california-housing-prices/housing.csv\")\n",
    "df.head()"
   ]
  },
  {
   "cell_type": "code",
   "execution_count": 3,
   "id": "f7fcffa3",
   "metadata": {
    "execution": {
     "iopub.execute_input": "2022-03-06T16:22:33.261226Z",
     "iopub.status.busy": "2022-03-06T16:22:33.260482Z",
     "iopub.status.idle": "2022-03-06T16:22:33.288048Z",
     "shell.execute_reply": "2022-03-06T16:22:33.286874Z",
     "shell.execute_reply.started": "2022-03-06T16:20:06.463034Z"
    },
    "papermill": {
     "duration": 0.062581,
     "end_time": "2022-03-06T16:22:33.288271",
     "exception": false,
     "start_time": "2022-03-06T16:22:33.225690",
     "status": "completed"
    },
    "tags": []
   },
   "outputs": [
    {
     "name": "stdout",
     "output_type": "stream",
     "text": [
      "<class 'pandas.core.frame.DataFrame'>\n",
      "RangeIndex: 20640 entries, 0 to 20639\n",
      "Data columns (total 10 columns):\n",
      " #   Column              Non-Null Count  Dtype  \n",
      "---  ------              --------------  -----  \n",
      " 0   longitude           20640 non-null  float64\n",
      " 1   latitude            20640 non-null  float64\n",
      " 2   housing_median_age  20640 non-null  float64\n",
      " 3   total_rooms         20640 non-null  float64\n",
      " 4   total_bedrooms      20433 non-null  float64\n",
      " 5   population          20640 non-null  float64\n",
      " 6   households          20640 non-null  float64\n",
      " 7   median_income       20640 non-null  float64\n",
      " 8   median_house_value  20640 non-null  float64\n",
      " 9   ocean_proximity     20640 non-null  object \n",
      "dtypes: float64(9), object(1)\n",
      "memory usage: 1.6+ MB\n"
     ]
    }
   ],
   "source": [
    "df.info()"
   ]
  },
  {
   "cell_type": "markdown",
   "id": "c8d8a8c9",
   "metadata": {
    "papermill": {
     "duration": 0.027655,
     "end_time": "2022-03-06T16:22:33.344291",
     "exception": false,
     "start_time": "2022-03-06T16:22:33.316636",
     "status": "completed"
    },
    "tags": []
   },
   "source": [
    "# Handling Categorical Variables"
   ]
  },
  {
   "cell_type": "code",
   "execution_count": 4,
   "id": "3d2cddac",
   "metadata": {
    "execution": {
     "iopub.execute_input": "2022-03-06T16:22:33.405101Z",
     "iopub.status.busy": "2022-03-06T16:22:33.404327Z",
     "iopub.status.idle": "2022-03-06T16:22:33.409807Z",
     "shell.execute_reply": "2022-03-06T16:22:33.410325Z",
     "shell.execute_reply.started": "2022-03-06T16:20:06.482259Z"
    },
    "papermill": {
     "duration": 0.037222,
     "end_time": "2022-03-06T16:22:33.410494",
     "exception": false,
     "start_time": "2022-03-06T16:22:33.373272",
     "status": "completed"
    },
    "tags": []
   },
   "outputs": [
    {
     "data": {
      "text/plain": [
       "['ocean_proximity']"
      ]
     },
     "execution_count": 4,
     "metadata": {},
     "output_type": "execute_result"
    }
   ],
   "source": [
    "cat_cols = [col for col in df.columns if df[col].dtype == 'object']\n",
    "cat_cols"
   ]
  },
  {
   "cell_type": "code",
   "execution_count": 5,
   "id": "e2a5b580",
   "metadata": {
    "execution": {
     "iopub.execute_input": "2022-03-06T16:22:33.473270Z",
     "iopub.status.busy": "2022-03-06T16:22:33.472183Z",
     "iopub.status.idle": "2022-03-06T16:22:33.488728Z",
     "shell.execute_reply": "2022-03-06T16:22:33.489318Z",
     "shell.execute_reply.started": "2022-03-06T16:20:06.491131Z"
    },
    "papermill": {
     "duration": 0.048279,
     "end_time": "2022-03-06T16:22:33.489489",
     "exception": false,
     "start_time": "2022-03-06T16:22:33.441210",
     "status": "completed"
    },
    "tags": []
   },
   "outputs": [],
   "source": [
    "from sklearn.preprocessing import LabelEncoder\n",
    "\n",
    "lb = LabelEncoder()\n",
    "\n",
    "df.loc[:, cat_cols] = lb.fit_transform(np.array(df.loc[:, cat_cols]).reshape(-1, ))"
   ]
  },
  {
   "cell_type": "markdown",
   "id": "c373b9da",
   "metadata": {
    "papermill": {
     "duration": 0.027823,
     "end_time": "2022-03-06T16:22:33.546136",
     "exception": false,
     "start_time": "2022-03-06T16:22:33.518313",
     "status": "completed"
    },
    "tags": []
   },
   "source": [
    "# Handling Missing Values"
   ]
  },
  {
   "cell_type": "markdown",
   "id": "eff1129d",
   "metadata": {
    "papermill": {
     "duration": 0.029592,
     "end_time": "2022-03-06T16:22:33.603494",
     "exception": false,
     "start_time": "2022-03-06T16:22:33.573902",
     "status": "completed"
    },
    "tags": []
   },
   "source": []
  },
  {
   "cell_type": "code",
   "execution_count": 6,
   "id": "651e24c8",
   "metadata": {
    "execution": {
     "iopub.execute_input": "2022-03-06T16:22:33.668341Z",
     "iopub.status.busy": "2022-03-06T16:22:33.667451Z",
     "iopub.status.idle": "2022-03-06T16:22:34.365947Z",
     "shell.execute_reply": "2022-03-06T16:22:34.366510Z",
     "shell.execute_reply.started": "2022-03-06T16:20:06.514813Z"
    },
    "papermill": {
     "duration": 0.733459,
     "end_time": "2022-03-06T16:22:34.367062",
     "exception": false,
     "start_time": "2022-03-06T16:22:33.633603",
     "status": "completed"
    },
    "tags": []
   },
   "outputs": [
    {
     "data": {
      "text/plain": [
       "<AxesSubplot:>"
      ]
     },
     "execution_count": 6,
     "metadata": {},
     "output_type": "execute_result"
    },
    {
     "data": {
      "image/png": "[encoded data removed]",
      "text/plain": [
       "<Figure size 1800x720 with 2 Axes>"
      ]
     },
     "metadata": {
      "needs_background": "light"
     },
     "output_type": "display_data"
    }
   ],
   "source": [
    "import missingno as msno\n",
    "\n",
    "msno.matrix(df)"
   ]
  },
  {
   "cell_type": "code",
   "execution_count": 7,
   "id": "9dc3af0d",
   "metadata": {
    "execution": {
     "iopub.execute_input": "2022-03-06T16:22:34.437733Z",
     "iopub.status.busy": "2022-03-06T16:22:34.437060Z",
     "iopub.status.idle": "2022-03-06T16:22:35.463022Z",
     "shell.execute_reply": "2022-03-06T16:22:35.462440Z",
     "shell.execute_reply.started": "2022-03-06T16:20:07.187147Z"
    },
    "papermill": {
     "duration": 1.06285,
     "end_time": "2022-03-06T16:22:35.463174",
     "exception": false,
     "start_time": "2022-03-06T16:22:34.400324",
     "status": "completed"
    },
    "tags": []
   },
   "outputs": [
    {
     "data": {
      "text/plain": [
       "<AxesSubplot:>"
      ]
     },
     "execution_count": 7,
     "metadata": {},
     "output_type": "execute_result"
    },
    {
     "data": {
      "image/png": "[encoded data removed]",
      "text/plain": [
       "<Figure size 1728x720 with 3 Axes>"
      ]
     },
     "metadata": {
      "needs_background": "light"
     },
     "output_type": "display_data"
    }
   ],
   "source": [
    "msno.bar(df, color = 'blue')"
   ]
  },
  {
   "cell_type": "markdown",
   "id": "6846ca27",
   "metadata": {
    "papermill": {
     "duration": 0.032726,
     "end_time": "2022-03-06T16:22:35.528978",
     "exception": false,
     "start_time": "2022-03-06T16:22:35.496252",
     "status": "completed"
    },
    "tags": []
   },
   "source": [
    "Above visualizations implies features total_bedrooms has missing values which we need to handle "
   ]
  },
  {
   "cell_type": "markdown",
   "id": "b0096961",
   "metadata": {
    "papermill": {
     "duration": 0.033226,
     "end_time": "2022-03-06T16:22:35.594972",
     "exception": false,
     "start_time": "2022-03-06T16:22:35.561746",
     "status": "completed"
    },
    "tags": []
   },
   "source": [
    "Will use knn imputer to impute missing values"
   ]
  },
  {
   "cell_type": "code",
   "execution_count": 8,
   "id": "f6ed37b3",
   "metadata": {
    "execution": {
     "iopub.execute_input": "2022-03-06T16:22:35.666290Z",
     "iopub.status.busy": "2022-03-06T16:22:35.665505Z",
     "iopub.status.idle": "2022-03-06T16:22:35.675657Z",
     "shell.execute_reply": "2022-03-06T16:22:35.676380Z",
     "shell.execute_reply.started": "2022-03-06T16:20:08.401189Z"
    },
    "papermill": {
     "duration": 0.047127,
     "end_time": "2022-03-06T16:22:35.676690",
     "exception": false,
     "start_time": "2022-03-06T16:22:35.629563",
     "status": "completed"
    },
    "tags": []
   },
   "outputs": [],
   "source": [
    "from sklearn.impute import KNNImputer\n",
    "\n",
    "knn = KNNImputer(n_neighbors = 3)"
   ]
  },
  {
   "cell_type": "code",
   "execution_count": 9,
   "id": "c947288f",
   "metadata": {
    "execution": {
     "iopub.execute_input": "2022-03-06T16:22:35.746864Z",
     "iopub.status.busy": "2022-03-06T16:22:35.746162Z",
     "iopub.status.idle": "2022-03-06T16:22:36.150146Z",
     "shell.execute_reply": "2022-03-06T16:22:36.149567Z",
     "shell.execute_reply.started": "2022-03-06T16:20:08.408348Z"
    },
    "papermill": {
     "duration": 0.440908,
     "end_time": "2022-03-06T16:22:36.150306",
     "exception": false,
     "start_time": "2022-03-06T16:22:35.709398",
     "status": "completed"
    },
    "tags": []
   },
   "outputs": [],
   "source": [
    "knn_imputer = KNNImputer(n_neighbors = 3)\n",
    "\n",
    "df_pre1 = df.copy()\n",
    "\n",
    "X = np.round(knn_imputer.fit_transform(df_pre1))\n",
    "df_pre1 = pd.DataFrame(X, columns = df_pre1.columns)"
   ]
  },
  {
   "cell_type": "code",
   "execution_count": 10,
   "id": "c4ae9ab2",
   "metadata": {
    "execution": {
     "iopub.execute_input": "2022-03-06T16:22:36.221344Z",
     "iopub.status.busy": "2022-03-06T16:22:36.220689Z",
     "iopub.status.idle": "2022-03-06T16:22:36.233788Z",
     "shell.execute_reply": "2022-03-06T16:22:36.234843Z",
     "shell.execute_reply.started": "2022-03-06T16:20:08.896169Z"
    },
    "papermill": {
     "duration": 0.052024,
     "end_time": "2022-03-06T16:22:36.235184",
     "exception": false,
     "start_time": "2022-03-06T16:22:36.183160",
     "status": "completed"
    },
    "tags": []
   },
   "outputs": [
    {
     "name": "stdout",
     "output_type": "stream",
     "text": [
      "<class 'pandas.core.frame.DataFrame'>\n",
      "RangeIndex: 20640 entries, 0 to 20639\n",
      "Data columns (total 10 columns):\n",
      " #   Column              Non-Null Count  Dtype  \n",
      "---  ------              --------------  -----  \n",
      " 0   longitude           20640 non-null  float64\n",
      " 1   latitude            20640 non-null  float64\n",
      " 2   housing_median_age  20640 non-null  float64\n",
      " 3   total_rooms         20640 non-null  float64\n",
      " 4   total_bedrooms      20640 non-null  float64\n",
      " 5   population          20640 non-null  float64\n",
      " 6   households          20640 non-null  float64\n",
      " 7   median_income       20640 non-null  float64\n",
      " 8   median_house_value  20640 non-null  float64\n",
      " 9   ocean_proximity     20640 non-null  float64\n",
      "dtypes: float64(10)\n",
      "memory usage: 1.6 MB\n"
     ]
    }
   ],
   "source": [
    "df_pre1.info()"
   ]
  },
  {
   "cell_type": "code",
   "execution_count": 11,
   "id": "932e27aa",
   "metadata": {
    "execution": {
     "iopub.execute_input": "2022-03-06T16:22:36.309201Z",
     "iopub.status.busy": "2022-03-06T16:22:36.308475Z",
     "iopub.status.idle": "2022-03-06T16:22:36.311358Z",
     "shell.execute_reply": "2022-03-06T16:22:36.311885Z",
     "shell.execute_reply.started": "2022-03-06T16:20:08.912123Z"
    },
    "papermill": {
     "duration": 0.042486,
     "end_time": "2022-03-06T16:22:36.312071",
     "exception": false,
     "start_time": "2022-03-06T16:22:36.269585",
     "status": "completed"
    },
    "tags": []
   },
   "outputs": [],
   "source": [
    "X = np.array(df_pre1.drop('median_house_value', axis = 1))\n",
    "y = np.array(df_pre1['median_house_value'])"
   ]
  },
  {
   "cell_type": "markdown",
   "id": "6e007dcb",
   "metadata": {
    "papermill": {
     "duration": 0.033466,
     "end_time": "2022-03-06T16:22:36.379979",
     "exception": false,
     "start_time": "2022-03-06T16:22:36.346513",
     "status": "completed"
    },
    "tags": []
   },
   "source": [
    "# Feature Scaling "
   ]
  },
  {
   "cell_type": "code",
   "execution_count": 12,
   "id": "e18817f9",
   "metadata": {
    "execution": {
     "iopub.execute_input": "2022-03-06T16:22:36.452586Z",
     "iopub.status.busy": "2022-03-06T16:22:36.451547Z",
     "iopub.status.idle": "2022-03-06T16:22:36.704146Z",
     "shell.execute_reply": "2022-03-06T16:22:36.704721Z",
     "shell.execute_reply.started": "2022-03-06T16:20:08.930057Z"
    },
    "papermill": {
     "duration": 0.291601,
     "end_time": "2022-03-06T16:22:36.704902",
     "exception": false,
     "start_time": "2022-03-06T16:22:36.413301",
     "status": "completed"
    },
    "tags": []
   },
   "outputs": [],
   "source": [
    "from sklearn.preprocessing import PowerTransformer\n",
    "\n",
    "pt = PowerTransformer()\n",
    "\n",
    "X = pt.fit_transform(X)"
   ]
  },
  {
   "cell_type": "markdown",
   "id": "d12e3b46",
   "metadata": {
    "papermill": {
     "duration": 0.03238,
     "end_time": "2022-03-06T16:22:36.771696",
     "exception": false,
     "start_time": "2022-03-06T16:22:36.739316",
     "status": "completed"
    },
    "tags": []
   },
   "source": [
    "# Train test split"
   ]
  },
  {
   "cell_type": "code",
   "execution_count": 13,
   "id": "1d7dfe55",
   "metadata": {
    "execution": {
     "iopub.execute_input": "2022-03-06T16:22:36.841781Z",
     "iopub.status.busy": "2022-03-06T16:22:36.840332Z",
     "iopub.status.idle": "2022-03-06T16:22:36.848594Z",
     "shell.execute_reply": "2022-03-06T16:22:36.849147Z",
     "shell.execute_reply.started": "2022-03-06T16:20:09.195713Z"
    },
    "papermill": {
     "duration": 0.045075,
     "end_time": "2022-03-06T16:22:36.849318",
     "exception": false,
     "start_time": "2022-03-06T16:22:36.804243",
     "status": "completed"
    },
    "tags": []
   },
   "outputs": [],
   "source": [
    "from sklearn.model_selection import train_test_split\n",
    "\n",
    "X_train, X_test, y_train, y_test = train_test_split(X, y, test_size = 0.3, random_state = 0)"
   ]
  },
  {
   "cell_type": "markdown",
   "id": "83810fc1",
   "metadata": {
    "papermill": {
     "duration": 0.03349,
     "end_time": "2022-03-06T16:22:36.915500",
     "exception": false,
     "start_time": "2022-03-06T16:22:36.882010",
     "status": "completed"
    },
    "tags": []
   },
   "source": [
    "# Linear Regression \n"
   ]
  },
  {
   "cell_type": "code",
   "execution_count": 14,
   "id": "61bc14ac",
   "metadata": {
    "execution": {
     "iopub.execute_input": "2022-03-06T16:22:36.991240Z",
     "iopub.status.busy": "2022-03-06T16:22:36.990497Z",
     "iopub.status.idle": "2022-03-06T16:22:37.024474Z",
     "shell.execute_reply": "2022-03-06T16:22:37.025606Z",
     "shell.execute_reply.started": "2022-03-06T16:20:09.208496Z"
    },
    "papermill": {
     "duration": 0.075292,
     "end_time": "2022-03-06T16:22:37.025911",
     "exception": false,
     "start_time": "2022-03-06T16:22:36.950619",
     "status": "completed"
    },
    "tags": []
   },
   "outputs": [
    {
     "name": "stdout",
     "output_type": "stream",
     "text": [
      "Mean Squared Error For Linear Regression Model is : 5531838360.363265\n",
      "Root Mean Square Error For Linear Regression Model is : 74376.32930148722\n",
      "Mean Absolute Erorr For Linear Regression Model is : 56173.66295844526\n"
     ]
    }
   ],
   "source": [
    "from sklearn.linear_model import LinearRegression\n",
    "from sklearn import metrics\n",
    "\n",
    "\n",
    "lr = LinearRegression()\n",
    "\n",
    "lr.fit(X_train, y_train)\n",
    "\n",
    "print(\"Mean Squared Error For Linear Regression Model is : {}\".format(metrics.mean_squared_error(y_test, lr.predict(X_test))))\n",
    "print(\"Root Mean Square Error For Linear Regression Model is : {}\".format(np.sqrt(metrics.mean_squared_error(y_test, lr.predict(X_test)))))\n",
    "print(\"Mean Absolute Erorr For Linear Regression Model is : {}\".format(metrics.mean_absolute_error(y_test, lr.predict(X_test))))"
   ]
  },
  {
   "cell_type": "markdown",
   "id": "9da4a3b9",
   "metadata": {
    "papermill": {
     "duration": 0.033604,
     "end_time": "2022-03-06T16:22:37.173944",
     "exception": false,
     "start_time": "2022-03-06T16:22:37.140340",
     "status": "completed"
    },
    "tags": []
   },
   "source": [
    "# Support Vector Machine"
   ]
  },
  {
   "cell_type": "code",
   "execution_count": 15,
   "id": "5cc3e833",
   "metadata": {
    "execution": {
     "iopub.execute_input": "2022-03-06T16:22:37.248940Z",
     "iopub.status.busy": "2022-03-06T16:22:37.248180Z",
     "iopub.status.idle": "2022-03-06T16:23:05.056455Z",
     "shell.execute_reply": "2022-03-06T16:23:05.055698Z",
     "shell.execute_reply.started": "2022-03-06T16:20:09.235442Z"
    },
    "papermill": {
     "duration": 27.849131,
     "end_time": "2022-03-06T16:23:05.056622",
     "exception": false,
     "start_time": "2022-03-06T16:22:37.207491",
     "status": "completed"
    },
    "tags": []
   },
   "outputs": [
    {
     "name": "stdout",
     "output_type": "stream",
     "text": [
      "Mean Squared Error For Support Vector Machine Model is : 13986298721.176523\n",
      "Root Mean Square Error For Support Vector Machine Model is : 118263.68301882248\n",
      "Mean Absolute Erorr For Support Vector Machine Model is : 88329.72068266578\n"
     ]
    }
   ],
   "source": [
    "from sklearn.svm import SVR\n",
    "from sklearn import metrics\n",
    "\n",
    "\n",
    "svr = SVR()\n",
    "\n",
    "svr.fit(X_train, y_train)\n",
    "\n",
    "print(\"Mean Squared Error For Support Vector Machine Model is : {}\".format(metrics.mean_squared_error(y_test, svr.predict(X_test))))\n",
    "print(\"Root Mean Square Error For Support Vector Machine Model is : {}\".format(np.sqrt(metrics.mean_squared_error(y_test, svr.predict(X_test)))))\n",
    "print(\"Mean Absolute Erorr For Support Vector Machine Model is : {}\".format(metrics.mean_absolute_error(y_test, svr.predict(X_test))))"
   ]
  },
  {
   "cell_type": "markdown",
   "id": "03fd83a6",
   "metadata": {
    "papermill": {
     "duration": 0.03629,
     "end_time": "2022-03-06T16:23:05.129465",
     "exception": false,
     "start_time": "2022-03-06T16:23:05.093175",
     "status": "completed"
    },
    "tags": []
   },
   "source": [
    "# Decision Tree Regressor"
   ]
  },
  {
   "cell_type": "code",
   "execution_count": 16,
   "id": "7880c3e9",
   "metadata": {
    "execution": {
     "iopub.execute_input": "2022-03-06T16:23:05.208179Z",
     "iopub.status.busy": "2022-03-06T16:23:05.207410Z",
     "iopub.status.idle": "2022-03-06T16:23:05.323172Z",
     "shell.execute_reply": "2022-03-06T16:23:05.322570Z",
     "shell.execute_reply.started": "2022-03-06T16:20:37.332781Z"
    },
    "papermill": {
     "duration": 0.158007,
     "end_time": "2022-03-06T16:23:05.323315",
     "exception": false,
     "start_time": "2022-03-06T16:23:05.165308",
     "status": "completed"
    },
    "tags": []
   },
   "outputs": [
    {
     "name": "stdout",
     "output_type": "stream",
     "text": [
      "Mean Squared Error For Decision Tree Model is : 7184694907.542797\n",
      "Root Mean Square Error For Decision Tree Model is : 84762.57964186081\n",
      "Mean Absolute Erorr For Decision Tree Model is : 57077.697835917315\n"
     ]
    }
   ],
   "source": [
    "from sklearn.tree import DecisionTreeRegressor\n",
    "from sklearn import metrics\n",
    "\n",
    "\n",
    "dt = DecisionTreeRegressor()\n",
    "\n",
    "dt.fit(X_train, y_train)\n",
    "\n",
    "print(\"Mean Squared Error For Decision Tree Model is : {}\".format(metrics.mean_squared_error(y_test, dt.predict(X_test))))\n",
    "print(\"Root Mean Square Error For Decision Tree Model is : {}\".format(np.sqrt(metrics.mean_squared_error(y_test, dt.predict(X_test)))))\n",
    "print(\"Mean Absolute Erorr For Decision Tree Model is : {}\".format(metrics.mean_absolute_error(y_test, dt.predict(X_test))))"
   ]
  },
  {
   "cell_type": "markdown",
   "id": "dd00e6a2",
   "metadata": {
    "papermill": {
     "duration": 0.036163,
     "end_time": "2022-03-06T16:23:05.395796",
     "exception": false,
     "start_time": "2022-03-06T16:23:05.359633",
     "status": "completed"
    },
    "tags": []
   },
   "source": [
    "# Bayesian Regression"
   ]
  },
  {
   "cell_type": "code",
   "execution_count": 17,
   "id": "1aaaa252",
   "metadata": {
    "execution": {
     "iopub.execute_input": "2022-03-06T16:23:05.475496Z",
     "iopub.status.busy": "2022-03-06T16:23:05.474371Z",
     "iopub.status.idle": "2022-03-06T16:23:05.537308Z",
     "shell.execute_reply": "2022-03-06T16:23:05.538449Z",
     "shell.execute_reply.started": "2022-03-06T16:20:37.458117Z"
    },
    "papermill": {
     "duration": 0.106773,
     "end_time": "2022-03-06T16:23:05.538763",
     "exception": false,
     "start_time": "2022-03-06T16:23:05.431990",
     "status": "completed"
    },
    "tags": []
   },
   "outputs": [
    {
     "name": "stdout",
     "output_type": "stream",
     "text": [
      "Mean Squared Error For Bayesian Regression Model is : 6172501897.225618\n",
      "Root Mean Square Error For Bayesian Regression Model is : 78565.27157227689\n",
      "Mean Absolute Erorr For Bayesian Regression Model is : 59686.95425546353\n"
     ]
    }
   ],
   "source": [
    "from sklearn.linear_model import BayesianRidge\n",
    "from sklearn import metrics\n",
    "\n",
    "\n",
    "bs = BayesianRidge()\n",
    "\n",
    "bs.fit(X_train, y_train)\n",
    "\n",
    "print(\"Mean Squared Error For Bayesian Regression Model is : {}\".format(metrics.mean_squared_error(y_test, bs.predict(X_test))))\n",
    "print(\"Root Mean Square Error For Bayesian Regression Model is : {}\".format(np.sqrt(metrics.mean_squared_error(y_test, bs.predict(X_test)))))\n",
    "print(\"Mean Absolute Erorr For Bayesian Regression Model is : {}\".format(metrics.mean_absolute_error(y_test, bs.predict(X_test))))"
   ]
  },
  {
   "cell_type": "markdown",
   "id": "a10329f6",
   "metadata": {
    "papermill": {
     "duration": 0.03469,
     "end_time": "2022-03-06T16:23:05.686657",
     "exception": false,
     "start_time": "2022-03-06T16:23:05.651967",
     "status": "completed"
    },
    "tags": []
   },
   "source": [
    "# Random Forest Regressor"
   ]
  },
  {
   "cell_type": "code",
   "execution_count": 18,
   "id": "cc1e5c5b",
   "metadata": {
    "execution": {
     "iopub.execute_input": "2022-03-06T16:23:05.767207Z",
     "iopub.status.busy": "2022-03-06T16:23:05.766263Z",
     "iopub.status.idle": "2022-03-06T16:23:12.856358Z",
     "shell.execute_reply": "2022-03-06T16:23:12.856925Z",
     "shell.execute_reply.started": "2022-03-06T16:20:37.499261Z"
    },
    "papermill": {
     "duration": 7.134545,
     "end_time": "2022-03-06T16:23:12.857119",
     "exception": false,
     "start_time": "2022-03-06T16:23:05.722574",
     "status": "completed"
    },
    "tags": []
   },
   "outputs": [
    {
     "name": "stdout",
     "output_type": "stream",
     "text": [
      "Mean Squared Error For Random Forest Model is : 3838864137.9196997\n",
      "Root Mean Square Error For Random Forest Model is : 61958.567913725215\n",
      "Mean Absolute Erorr For Random Forest Model is : 42536.72995155039\n"
     ]
    }
   ],
   "source": [
    "from sklearn.ensemble import RandomForestRegressor\n",
    "from sklearn import metrics\n",
    "\n",
    "\n",
    "rf = RandomForestRegressor()\n",
    "\n",
    "rf.fit(X_train, y_train)\n",
    "\n",
    "print(\"Mean Squared Error For Random Forest Model is : {}\".format(metrics.mean_squared_error(y_test, rf.predict(X_test))))\n",
    "print(\"Root Mean Square Error For Random Forest Model is : {}\".format(np.sqrt(metrics.mean_squared_error(y_test, rf.predict(X_test)))))\n",
    "print(\"Mean Absolute Erorr For Random Forest Model is : {}\".format(metrics.mean_absolute_error(y_test, rf.predict(X_test))))"
   ]
  }
 ],
 "metadata": {
  "kernelspec": {
   "display_name": "Python 3",
   "language": "python",
   "name": "python3"
  },
  "language_info": {
   "codemirror_mode": {
    "name": "ipython",
    "version": 3
   },
   "file_extension": ".py",
   "mimetype": "text/x-python",
   "name": "python",
   "nbconvert_exporter": "python",
   "pygments_lexer": "ipython3",
   "version": "3.7.12"
  },
  "papermill": {
   "default_parameters": {},
   "duration": 53.098077,
   "end_time": "2022-03-06T16:23:13.705887",
   "environment_variables": {},
   "exception": null,
   "input_path": "__notebook__.ipynb",
   "output_path": "__notebook__.ipynb",
   "parameters": {},
   "start_time": "2022-03-06T16:22:20.607810",
   "version": "2.3.3"
  }
 },
 "nbformat": 4,
 "nbformat_minor": 5
}
